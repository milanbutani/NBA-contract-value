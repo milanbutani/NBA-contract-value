{
 "cells": [
  {
   "cell_type": "markdown",
   "metadata": {},
   "source": [
    "# NBA Contract Value Project #"
   ]
  },
  {
   "cell_type": "markdown",
   "metadata": {},
   "source": [
    "### Importing Tools ###"
   ]
  },
  {
   "cell_type": "markdown",
   "metadata": {},
   "source": [
    "To carry out the project, I imported applicable python libraries and some from UC Berkeley's depositories, such as the datascience library. The following cell carries out the importing of libraries used in this project:\n",
    "\n",
    "Note: There is a possibility that the following cell won't run because the datascience library is only accessible to those with UC Berkeley credentials. "
   ]
  },
  {
   "cell_type": "code",
   "execution_count": null,
   "metadata": {},
   "outputs": [],
   "source": [
    "import numpy as np\n",
    "import pandas as pd\n",
    "from datascience import *\n",
    "import matplotlib\n",
    "%matplotlib inline\n",
    "import matplotlib.pyplot as plt\n",
    "plt.style.use('fivethirtyeight')\n",
    "import warnings\n",
    "warnings.simplefilter('ignore', FutureWarning)\n",
    "from scipy.stats import zscore"
   ]
  },
  {
   "cell_type": "markdown",
   "metadata": {},
   "source": [
    "### Loading Datasets ###"
   ]
  },
  {
   "cell_type": "markdown",
   "metadata": {},
   "source": [
    "The following cells import the datasets from basketballreference.com: "
   ]
  },
  {
   "cell_type": "code",
   "execution_count": 431,
   "metadata": {
    "scrolled": true
   },
   "outputs": [
    {
     "data": {
      "text/html": [
       "<table border=\"1\" class=\"dataframe\">\n",
       "    <thead>\n",
       "        <tr>\n",
       "            <th>Rk</th> <th>Player</th> <th>Tm</th> <th>2018-19</th> <th>2019-20</th> <th>2020-21</th> <th>2021-22</th> <th>2022-23</th> <th>2023-24</th> <th>Signed Using</th> <th>Guaranteed</th>\n",
       "        </tr>\n",
       "    </thead>\n",
       "    <tbody>\n",
       "        <tr>\n",
       "            <td>1   </td> <td>Stephen Curry\\curryst01    </td> <td>GSW </td> <td>$37457154</td> <td>$40231758</td> <td>$43006362</td> <td>$45780966</td> <td>nan      </td> <td>nan    </td> <td>Bird Rights   </td> <td>$166476240</td>\n",
       "        </tr>\n",
       "        <tr>\n",
       "            <td>2   </td> <td>Chris Paul\\paulch01        </td> <td>HOU </td> <td>$35654150</td> <td>$38506482</td> <td>$41358814</td> <td>$44211146</td> <td>nan      </td> <td>nan    </td> <td>nan           </td> <td>$159730592</td>\n",
       "        </tr>\n",
       "        <tr>\n",
       "            <td>3   </td> <td>Russell Westbrook\\westbru01</td> <td>OKC </td> <td>$35654150</td> <td>$38178000</td> <td>$41006000</td> <td>$43848000</td> <td>$46662000</td> <td>nan    </td> <td>Bird Rights   </td> <td>$158686150</td>\n",
       "        </tr>\n",
       "        <tr>\n",
       "            <td>4   </td> <td>LeBron James\\jamesle01     </td> <td>LAL </td> <td>$35654150</td> <td>$37436858</td> <td>$39219565</td> <td>$41002273</td> <td>nan      </td> <td>nan    </td> <td>nan           </td> <td>$113310573</td>\n",
       "        </tr>\n",
       "        <tr>\n",
       "            <td>5   </td> <td>Blake Griffin\\griffbl01    </td> <td>DET </td> <td>$32088932</td> <td>$34234964</td> <td>$36595996</td> <td>$38957028</td> <td>nan      </td> <td>nan    </td> <td>Bird Rights   </td> <td>$102919892</td>\n",
       "        </tr>\n",
       "        <tr>\n",
       "            <td>6   </td> <td>Gordon Hayward\\haywago01   </td> <td>BOS </td> <td>$31214295</td> <td>$32700690</td> <td>$34187085</td> <td>nan      </td> <td>nan      </td> <td>nan    </td> <td>Cap space     </td> <td>$63914985 </td>\n",
       "        </tr>\n",
       "        <tr>\n",
       "            <td>7   </td> <td>Kyle Lowry\\lowryky01       </td> <td>TOR </td> <td>$31200000</td> <td>$33296296</td> <td>nan      </td> <td>nan      </td> <td>nan      </td> <td>nan    </td> <td>Bird Rights   </td> <td>$64496296 </td>\n",
       "        </tr>\n",
       "        <tr>\n",
       "            <td>8   </td> <td>Paul George\\georgpa01      </td> <td>OKC </td> <td>$30560700</td> <td>$33005556</td> <td>$35450412</td> <td>$37895268</td> <td>nan      </td> <td>nan    </td> <td>Maximum Salary</td> <td>$99016668 </td>\n",
       "        </tr>\n",
       "        <tr>\n",
       "            <td>9   </td> <td>Mike Conley\\conlemi01      </td> <td>MEM </td> <td>$30521116</td> <td>$32511623</td> <td>$34504132</td> <td>nan      </td> <td>nan      </td> <td>nan    </td> <td>Cap Space     </td> <td>$85459122 </td>\n",
       "        </tr>\n",
       "        <tr>\n",
       "            <td>10  </td> <td>James Harden\\hardeja01     </td> <td>HOU </td> <td>$30431854</td> <td>$37800000</td> <td>$40824000</td> <td>$43848000</td> <td>$46872000</td> <td>nan    </td> <td>Bird Rights   </td> <td>$152903854</td>\n",
       "        </tr>\n",
       "    </tbody>\n",
       "</table>\n",
       "<p>... (478 rows omitted)</p>"
      ],
      "text/plain": [
       "<IPython.core.display.HTML object>"
      ]
     },
     "metadata": {},
     "output_type": "display_data"
    }
   ],
   "source": [
    "contracts = Table.read_table('2018_2019_Contracts.csv', sep=',')\n",
    "contracts.show(10)\n",
    "\n",
    "# importing the contracts dataset"
   ]
  },
  {
   "cell_type": "code",
   "execution_count": 432,
   "metadata": {
    "scrolled": true
   },
   "outputs": [
    {
     "data": {
      "text/html": [
       "<table border=\"1\" class=\"dataframe\">\n",
       "    <thead>\n",
       "        <tr>\n",
       "            <th>Rk</th> <th>Player</th> <th>Pos</th> <th>Age</th> <th>Tm</th> <th>G</th> <th>GS</th> <th>MP</th> <th>FG</th> <th>FGA</th> <th>FG%</th> <th>3P</th> <th>3PA</th> <th>3P%</th> <th>2P</th> <th>2PA</th> <th>2P%</th> <th>eFG%</th> <th>FT</th> <th>FTA</th> <th>FT%</th> <th>ORB</th> <th>DRB</th> <th>TRB</th> <th>AST</th> <th>STL</th> <th>BLK</th> <th>TOV</th> <th>PF</th> <th>PS/G</th>\n",
       "        </tr>\n",
       "    </thead>\n",
       "    <tbody>\n",
       "        <tr>\n",
       "            <td>1   </td> <td>Alex Abrines\\abrinal01     </td> <td>SG  </td> <td>24  </td> <td>OKC </td> <td>75  </td> <td>8   </td> <td>15.1</td> <td>1.5 </td> <td>3.9 </td> <td>0.395</td> <td>1.1 </td> <td>2.9 </td> <td>0.38 </td> <td>0.4 </td> <td>0.9 </td> <td>0.443</td> <td>0.54 </td> <td>0.5 </td> <td>0.6 </td> <td>0.848</td> <td>0.3 </td> <td>1.2 </td> <td>1.5 </td> <td>0.4 </td> <td>0.5 </td> <td>0.1 </td> <td>0.3 </td> <td>1.7 </td> <td>4.7 </td>\n",
       "        </tr>\n",
       "        <tr>\n",
       "            <td>2   </td> <td>Quincy Acy\\acyqu01         </td> <td>PF  </td> <td>27  </td> <td>BRK </td> <td>70  </td> <td>8   </td> <td>19.4</td> <td>1.9 </td> <td>5.2 </td> <td>0.356</td> <td>1.5 </td> <td>4.2 </td> <td>0.349</td> <td>0.4 </td> <td>1   </td> <td>0.384</td> <td>0.496</td> <td>0.7 </td> <td>0.9 </td> <td>0.817</td> <td>0.6 </td> <td>3.1 </td> <td>3.7 </td> <td>0.8 </td> <td>0.5 </td> <td>0.4 </td> <td>0.9 </td> <td>2.1 </td> <td>5.9 </td>\n",
       "        </tr>\n",
       "        <tr>\n",
       "            <td>3   </td> <td>Steven Adams\\adamsst01     </td> <td>C   </td> <td>24  </td> <td>OKC </td> <td>76  </td> <td>76  </td> <td>32.7</td> <td>5.9 </td> <td>9.4 </td> <td>0.629</td> <td>0   </td> <td>0   </td> <td>0    </td> <td>5.9 </td> <td>9.3 </td> <td>0.631</td> <td>0.629</td> <td>2.1 </td> <td>3.8 </td> <td>0.559</td> <td>5.1 </td> <td>4   </td> <td>9   </td> <td>1.2 </td> <td>1.2 </td> <td>1   </td> <td>1.7 </td> <td>2.8 </td> <td>13.9</td>\n",
       "        </tr>\n",
       "        <tr>\n",
       "            <td>4   </td> <td>Bam Adebayo\\adebaba01      </td> <td>C   </td> <td>20  </td> <td>MIA </td> <td>69  </td> <td>19  </td> <td>19.8</td> <td>2.5 </td> <td>4.9 </td> <td>0.512</td> <td>0   </td> <td>0.1 </td> <td>0    </td> <td>2.5 </td> <td>4.8 </td> <td>0.523</td> <td>0.512</td> <td>1.9 </td> <td>2.6 </td> <td>0.721</td> <td>1.7 </td> <td>3.8 </td> <td>5.5 </td> <td>1.5 </td> <td>0.5 </td> <td>0.6 </td> <td>1   </td> <td>2   </td> <td>6.9 </td>\n",
       "        </tr>\n",
       "        <tr>\n",
       "            <td>5   </td> <td>Arron Afflalo\\afflaar01    </td> <td>SG  </td> <td>32  </td> <td>ORL </td> <td>53  </td> <td>3   </td> <td>12.9</td> <td>1.2 </td> <td>3.1 </td> <td>0.401</td> <td>0.5 </td> <td>1.3 </td> <td>0.386</td> <td>0.7 </td> <td>1.7 </td> <td>0.413</td> <td>0.485</td> <td>0.4 </td> <td>0.5 </td> <td>0.846</td> <td>0.1 </td> <td>1.2 </td> <td>1.2 </td> <td>0.6 </td> <td>0.1 </td> <td>0.2 </td> <td>0.4 </td> <td>1.1 </td> <td>3.4 </td>\n",
       "        </tr>\n",
       "        <tr>\n",
       "            <td>6   </td> <td>Cole Aldrich\\aldrico01     </td> <td>C   </td> <td>29  </td> <td>MIN </td> <td>21  </td> <td>0   </td> <td>2.3 </td> <td>0.2 </td> <td>0.7 </td> <td>0.333</td> <td>0   </td> <td>0   </td> <td>nan  </td> <td>0.2 </td> <td>0.7 </td> <td>0.333</td> <td>0.333</td> <td>0.1 </td> <td>0.3 </td> <td>0.333</td> <td>0.1 </td> <td>0.6 </td> <td>0.7 </td> <td>0.1 </td> <td>0.1 </td> <td>0   </td> <td>0   </td> <td>0.5 </td> <td>0.6 </td>\n",
       "        </tr>\n",
       "        <tr>\n",
       "            <td>7   </td> <td>LaMarcus Aldridge\\aldrila01</td> <td>C   </td> <td>32  </td> <td>SAS </td> <td>75  </td> <td>75  </td> <td>33.5</td> <td>9.2 </td> <td>18  </td> <td>0.51 </td> <td>0.4 </td> <td>1.2 </td> <td>0.293</td> <td>8.8 </td> <td>16.7</td> <td>0.526</td> <td>0.52 </td> <td>4.5 </td> <td>5.3 </td> <td>0.837</td> <td>3.3 </td> <td>5.2 </td> <td>8.5 </td> <td>2   </td> <td>0.6 </td> <td>1.2 </td> <td>1.5 </td> <td>2.1 </td> <td>23.1</td>\n",
       "        </tr>\n",
       "        <tr>\n",
       "            <td>8   </td> <td>Jarrett Allen\\allenja01    </td> <td>C   </td> <td>19  </td> <td>BRK </td> <td>72  </td> <td>31  </td> <td>20  </td> <td>3.3 </td> <td>5.5 </td> <td>0.589</td> <td>0.1 </td> <td>0.2 </td> <td>0.333</td> <td>3.2 </td> <td>5.3 </td> <td>0.599</td> <td>0.596</td> <td>1.6 </td> <td>2   </td> <td>0.776</td> <td>2   </td> <td>3.4 </td> <td>5.4 </td> <td>0.7 </td> <td>0.4 </td> <td>1.2 </td> <td>1.1 </td> <td>2   </td> <td>8.2 </td>\n",
       "        </tr>\n",
       "        <tr>\n",
       "            <td>9   </td> <td>Kadeem Allen\\allenka01     </td> <td>PG  </td> <td>25  </td> <td>BOS </td> <td>18  </td> <td>1   </td> <td>5.9 </td> <td>0.3 </td> <td>1.2 </td> <td>0.273</td> <td>0   </td> <td>0.6 </td> <td>0    </td> <td>0.3 </td> <td>0.6 </td> <td>0.545</td> <td>0.273</td> <td>0.4 </td> <td>0.5 </td> <td>0.778</td> <td>0.2 </td> <td>0.4 </td> <td>0.6 </td> <td>0.7 </td> <td>0.2 </td> <td>0.1 </td> <td>0.5 </td> <td>0.8 </td> <td>1.1 </td>\n",
       "        </tr>\n",
       "        <tr>\n",
       "            <td>10  </td> <td>Tony Allen\\allento01       </td> <td>SF  </td> <td>36  </td> <td>NOP </td> <td>22  </td> <td>0   </td> <td>12.4</td> <td>2   </td> <td>4.1 </td> <td>0.484</td> <td>0.2 </td> <td>0.5 </td> <td>0.333</td> <td>1.8 </td> <td>3.6 </td> <td>0.506</td> <td>0.505</td> <td>0.5 </td> <td>1   </td> <td>0.524</td> <td>0.9 </td> <td>1.2 </td> <td>2.1 </td> <td>0.4 </td> <td>0.5 </td> <td>0.1 </td> <td>0.9 </td> <td>2.2 </td> <td>4.7 </td>\n",
       "        </tr>\n",
       "    </tbody>\n",
       "</table>\n",
       "<p>... (657 rows omitted)</p>"
      ],
      "text/plain": [
       "<IPython.core.display.HTML object>"
      ]
     },
     "metadata": {},
     "output_type": "display_data"
    }
   ],
   "source": [
    "boxscore_clean = Table.read_table('2017_2018_seasonclean.csv', sep=',')\n",
    "boxscore_clean.show(10)\n",
    "\n",
    "#importing the players' 2017-2018 season performance"
   ]
  },
  {
   "cell_type": "code",
   "execution_count": 433,
   "metadata": {},
   "outputs": [
    {
     "data": {
      "text/html": [
       "<table border=\"1\" class=\"dataframe\">\n",
       "    <thead>\n",
       "        <tr>\n",
       "            <th>Unnamed: 0</th> <th>Unnamed: 1</th> <th>Unnamed: 2</th> <th>Unnamed: 3</th> <th>Unnamed: 4</th> <th>Unnamed: 5</th> <th>Unnamed: 6</th> <th>Totals</th> <th>Totals.1</th> <th>Totals.2</th> <th>Totals.3</th> <th>Totals.4</th> <th>Totals.5</th> <th>Totals.6</th> <th>Totals.7</th> <th>Totals.8</th> <th>Totals.9</th> <th>Totals.10</th> <th>Totals.11</th> <th>Totals.12</th> <th>Totals.13</th> <th>Unnamed: 21</th> <th>Unnamed: 22</th> <th>Unnamed: 23</th> <th>Per Game</th> <th>Per Game.1</th> <th>Per Game.2</th> <th>Per Game.3</th>\n",
       "        </tr>\n",
       "    </thead>\n",
       "    <tbody>\n",
       "        <tr>\n",
       "            <td>Rk        </td> <td>Player                    </td> <td>Debut               </td> <td>Age       </td> <td>Yrs       </td> <td>G         </td> <td>MP        </td> <td>FG    </td> <td>FGA     </td> <td>3P      </td> <td>3PA     </td> <td>FT      </td> <td>FTA     </td> <td>ORB     </td> <td>TRB     </td> <td>AST     </td> <td>STL     </td> <td>BLK      </td> <td>TOV      </td> <td>PF       </td> <td>PTS      </td> <td>FG%        </td> <td>3P         </td> <td>FT%        </td> <td>MP      </td> <td>PS/G      </td> <td>TRB       </td> <td>AST       </td>\n",
       "        </tr>\n",
       "        <tr>\n",
       "            <td>1         </td> <td>Bam Adebayo\\adebaba01     </td> <td>01/10/18 MIA @ IND  </td> <td>20        </td> <td>2         </td> <td>89        </td> <td>1742      </td> <td>228   </td> <td>441     </td> <td>0       </td> <td>10      </td> <td>178     </td> <td>249     </td> <td>159     </td> <td>519     </td> <td>125     </td> <td>45      </td> <td>56       </td> <td>91       </td> <td>190      </td> <td>634      </td> <td>.517       </td> <td>.000       </td> <td>.715       </td> <td>19.6    </td> <td>7.1       </td> <td>5.8       </td> <td>1.4       </td>\n",
       "        </tr>\n",
       "        <tr>\n",
       "            <td>2         </td> <td>Jarrett Allen\\allenja01   </td> <td>01/1/18 BRK vs. ORL </td> <td>19        </td> <td>2         </td> <td>91        </td> <td>1962      </td> <td>326   </td> <td>554     </td> <td>7       </td> <td>30      </td> <td>164     </td> <td>221     </td> <td>200     </td> <td>547     </td> <td>78      </td> <td>39      </td> <td>119      </td> <td>103      </td> <td>197      </td> <td>823      </td> <td>.588       </td> <td>.233       </td> <td>.742       </td> <td>21.6    </td> <td>9.0       </td> <td>6.0       </td> <td>0.9       </td>\n",
       "        </tr>\n",
       "        <tr>\n",
       "            <td>3         </td> <td>Kadeem Allen\\allenka01    </td> <td>01/31/18 BOS vs. NYK</td> <td>25        </td> <td>1         </td> <td>18        </td> <td>107       </td> <td>6     </td> <td>22      </td> <td>0       </td> <td>11      </td> <td>7       </td> <td>9       </td> <td>4       </td> <td>11      </td> <td>12      </td> <td>3       </td> <td>2        </td> <td>9        </td> <td>15       </td> <td>19       </td> <td>.273       </td> <td>.000       </td> <td>.778       </td> <td>5.9     </td> <td>1.1       </td> <td>0.6       </td> <td>0.7       </td>\n",
       "        </tr>\n",
       "        <tr>\n",
       "            <td>4         </td> <td>Ike Anigbogu\\anigbik01    </td> <td>01/14/18 IND @ PHO  </td> <td>19        </td> <td>2         </td> <td>14        </td> <td>36        </td> <td>4     </td> <td>12      </td> <td>0       </td> <td>0       </td> <td>5       </td> <td>6       </td> <td>6       </td> <td>12      </td> <td>1       </td> <td>1       </td> <td>4        </td> <td>3        </td> <td>1        </td> <td>13       </td> <td>.333       </td> <td>nan        </td> <td>.833       </td> <td>2.6     </td> <td>0.9       </td> <td>0.9       </td> <td>0.1       </td>\n",
       "        </tr>\n",
       "        <tr>\n",
       "            <td>5         </td> <td>OG Anunoby\\anunoog01      </td> <td>01/1/18 TOR vs. MIL </td> <td>20        </td> <td>2         </td> <td>90        </td> <td>1830      </td> <td>222   </td> <td>471     </td> <td>93      </td> <td>260     </td> <td>43      </td> <td>75      </td> <td>54      </td> <td>222     </td> <td>64      </td> <td>63      </td> <td>19       </td> <td>55       </td> <td>170      </td> <td>580      </td> <td>.471       </td> <td>.358       </td> <td>.573       </td> <td>20.3    </td> <td>6.4       </td> <td>2.5       </td> <td>0.7       </td>\n",
       "        </tr>\n",
       "        <tr>\n",
       "            <td>6         </td> <td>Ryan Arcidiacono\\arcidry01</td> <td>01/20/18 CHI @ ATL  </td> <td>23        </td> <td>2         </td> <td>44        </td> <td>870       </td> <td>70    </td> <td>154     </td> <td>44      </td> <td>110     </td> <td>15      </td> <td>20      </td> <td>4       </td> <td>77      </td> <td>119     </td> <td>30      </td> <td>1        </td> <td>30       </td> <td>70       </td> <td>199      </td> <td>.455       </td> <td>.400       </td> <td>.750       </td> <td>19.8    </td> <td>4.5       </td> <td>1.8       </td> <td>2.7       </td>\n",
       "        </tr>\n",
       "        <tr>\n",
       "            <td>7         </td> <td>Jamel Artis\\artisja01     </td> <td>03/22/18 ORL vs. PHI</td> <td>25        </td> <td>1         </td> <td>15        </td> <td>279       </td> <td>31    </td> <td>79      </td> <td>8       </td> <td>29      </td> <td>7       </td> <td>12      </td> <td>4       </td> <td>38      </td> <td>18      </td> <td>2       </td> <td>3        </td> <td>8        </td> <td>11       </td> <td>77       </td> <td>.392       </td> <td>.276       </td> <td>.583       </td> <td>18.6    </td> <td>5.1       </td> <td>2.5       </td> <td>1.2       </td>\n",
       "        </tr>\n",
       "        <tr>\n",
       "            <td>8         </td> <td>Dwayne Bacon\\bacondw01    </td> <td>01/17/18 CHO vs. WAS</td> <td>22        </td> <td>2         </td> <td>65        </td> <td>883       </td> <td>104   </td> <td>256     </td> <td>20      </td> <td>61      </td> <td>30      </td> <td>37      </td> <td>6       </td> <td>149     </td> <td>48      </td> <td>19      </td> <td>2        </td> <td>30       </td> <td>66       </td> <td>258      </td> <td>.406       </td> <td>.328       </td> <td>.811       </td> <td>13.6    </td> <td>4.0       </td> <td>2.3       </td> <td>0.7       </td>\n",
       "        </tr>\n",
       "        <tr>\n",
       "            <td>9         </td> <td>Lonzo Ball\\balllo01       </td> <td>01/11/18 LAL vs. SAS</td> <td>20        </td> <td>2         </td> <td>72        </td> <td>2312      </td> <td>267   </td> <td>721     </td> <td>118     </td> <td>375     </td> <td>40      </td> <td>85      </td> <td>87      </td> <td>471     </td> <td>466     </td> <td>108     </td> <td>47       </td> <td>171      </td> <td>159      </td> <td>692      </td> <td>.370       </td> <td>.315       </td> <td>.471       </td> <td>32.1    </td> <td>9.6       </td> <td>6.5       </td> <td>6.5       </td>\n",
       "        </tr>\n",
       "    </tbody>\n",
       "</table>\n",
       "<p>... (111 rows omitted)</p>"
      ],
      "text/plain": [
       "<IPython.core.display.HTML object>"
      ]
     },
     "metadata": {},
     "output_type": "display_data"
    }
   ],
   "source": [
    "rookies_17 = Table.read_table('rookies_2017-18.csv', sep=',')\n",
    "rookies_17.show(10)"
   ]
  },
  {
   "cell_type": "markdown",
   "metadata": {},
   "source": [
    "### Data Processing ###"
   ]
  },
  {
   "cell_type": "markdown",
   "metadata": {},
   "source": [
    "The following few cells process the datasets seen above. These calls clean the dataset by removing duplicate players found in the tables. Duplicate rows for the same player are created when the player is traded mid-season. The total averages for the player during the season are kept in the table, so that player can still be included in our model. Furthermore, for the contract value model, it is important to use players who are not under rookie contracts, as most rookies are underpaid for how well some play. "
   ]
  },
  {
   "cell_type": "code",
   "execution_count": 434,
   "metadata": {
    "scrolled": true
   },
   "outputs": [],
   "source": [
    "joined_17 = boxscore_clean.join('Player', rookies_17, 'Unnamed: 1')"
   ]
  },
  {
   "cell_type": "code",
   "execution_count": 435,
   "metadata": {},
   "outputs": [],
   "source": [
    "rookies_names_17 = joined_17.column(0)"
   ]
  },
  {
   "cell_type": "code",
   "execution_count": 436,
   "metadata": {},
   "outputs": [
    {
     "data": {
      "text/plain": [
       "'Zhou Qi\\\\qizh01'"
      ]
     },
     "execution_count": 436,
     "metadata": {},
     "output_type": "execute_result"
    }
   ],
   "source": [
    "rookies_names_17.item(len(rookies_names_17)-1)"
   ]
  },
  {
   "cell_type": "code",
   "execution_count": 312,
   "metadata": {
    "scrolled": true
   },
   "outputs": [],
   "source": [
    "for name in np.arange(len(rookies_names_17)-1):\n",
    "    boxscore_clean = boxscore_clean.where('Player', are.not_equal_to(rookies_names_17.item(name)))\n",
    "    \n",
    "#cut out 2017 rookies"
   ]
  },
  {
   "cell_type": "code",
   "execution_count": 437,
   "metadata": {
    "scrolled": true
   },
   "outputs": [],
   "source": [
    "rookies_16 = Table.read_table('rookies_2016-17.csv', sep=',')\n",
    "joined_16 = boxscore_clean.join('Player', rookies_16, 'Player')\n",
    "rookies_names_16 = joined_16.column(0)\n",
    "for name in np.arange(len(rookies_names_16)-1):\n",
    "    boxscore_clean = boxscore_clean.where('Player', are.not_equal_to(rookies_names_16.item(name)))\n",
    "#cut out 2016 rookies"
   ]
  },
  {
   "cell_type": "code",
   "execution_count": 438,
   "metadata": {
    "scrolled": true
   },
   "outputs": [],
   "source": [
    "rookies_15 = Table.read_table('rookies_2015-16.csv', sep=',')\n",
    "joined_15 = boxscore_clean.join('Player', rookies_15, 'Player')\n",
    "rookies_names_15 = joined_15.column(0)\n",
    "for name in np.arange(len(rookies_names_15)-1):\n",
    "    boxscore_clean = boxscore_clean.where('Player', are.not_equal_to(rookies_names_15.item(name)))\n",
    "#cut out 2015 rookies"
   ]
  },
  {
   "cell_type": "markdown",
   "metadata": {},
   "source": [
    "### Cleaned Player and Contracts Data Table ###"
   ]
  },
  {
   "cell_type": "markdown",
   "metadata": {},
   "source": [
    "The following cells displays the cleaned datasets used to generate the contract value model:"
   ]
  },
  {
   "cell_type": "code",
   "execution_count": 439,
   "metadata": {},
   "outputs": [
    {
     "data": {
      "text/html": [
       "<table border=\"1\" class=\"dataframe\">\n",
       "    <thead>\n",
       "        <tr>\n",
       "            <th>Rk</th> <th>Player</th> <th>Pos</th> <th>Age</th> <th>Tm</th> <th>G</th> <th>GS</th> <th>MP</th> <th>FG</th> <th>FGA</th> <th>FG%</th> <th>3P</th> <th>3PA</th> <th>3P%</th> <th>2P</th> <th>2PA</th> <th>2P%</th> <th>eFG%</th> <th>FT</th> <th>FTA</th> <th>FT%</th> <th>ORB</th> <th>DRB</th> <th>TRB</th> <th>AST</th> <th>STL</th> <th>BLK</th> <th>TOV</th> <th>PF</th> <th>PS/G</th>\n",
       "        </tr>\n",
       "    </thead>\n",
       "    <tbody>\n",
       "        <tr>\n",
       "            <td>2   </td> <td>Quincy Acy\\acyqu01         </td> <td>PF  </td> <td>27  </td> <td>BRK </td> <td>70  </td> <td>8   </td> <td>19.4</td> <td>1.9 </td> <td>5.2 </td> <td>0.356</td> <td>1.5 </td> <td>4.2 </td> <td>0.349</td> <td>0.4 </td> <td>1   </td> <td>0.384</td> <td>0.496</td> <td>0.7 </td> <td>0.9 </td> <td>0.817</td> <td>0.6 </td> <td>3.1 </td> <td>3.7 </td> <td>0.8 </td> <td>0.5 </td> <td>0.4 </td> <td>0.9 </td> <td>2.1 </td> <td>5.9 </td>\n",
       "        </tr>\n",
       "        <tr>\n",
       "            <td>3   </td> <td>Steven Adams\\adamsst01     </td> <td>C   </td> <td>24  </td> <td>OKC </td> <td>76  </td> <td>76  </td> <td>32.7</td> <td>5.9 </td> <td>9.4 </td> <td>0.629</td> <td>0   </td> <td>0   </td> <td>0    </td> <td>5.9 </td> <td>9.3 </td> <td>0.631</td> <td>0.629</td> <td>2.1 </td> <td>3.8 </td> <td>0.559</td> <td>5.1 </td> <td>4   </td> <td>9   </td> <td>1.2 </td> <td>1.2 </td> <td>1   </td> <td>1.7 </td> <td>2.8 </td> <td>13.9</td>\n",
       "        </tr>\n",
       "        <tr>\n",
       "            <td>4   </td> <td>Bam Adebayo\\adebaba01      </td> <td>C   </td> <td>20  </td> <td>MIA </td> <td>69  </td> <td>19  </td> <td>19.8</td> <td>2.5 </td> <td>4.9 </td> <td>0.512</td> <td>0   </td> <td>0.1 </td> <td>0    </td> <td>2.5 </td> <td>4.8 </td> <td>0.523</td> <td>0.512</td> <td>1.9 </td> <td>2.6 </td> <td>0.721</td> <td>1.7 </td> <td>3.8 </td> <td>5.5 </td> <td>1.5 </td> <td>0.5 </td> <td>0.6 </td> <td>1   </td> <td>2   </td> <td>6.9 </td>\n",
       "        </tr>\n",
       "        <tr>\n",
       "            <td>5   </td> <td>Arron Afflalo\\afflaar01    </td> <td>SG  </td> <td>32  </td> <td>ORL </td> <td>53  </td> <td>3   </td> <td>12.9</td> <td>1.2 </td> <td>3.1 </td> <td>0.401</td> <td>0.5 </td> <td>1.3 </td> <td>0.386</td> <td>0.7 </td> <td>1.7 </td> <td>0.413</td> <td>0.485</td> <td>0.4 </td> <td>0.5 </td> <td>0.846</td> <td>0.1 </td> <td>1.2 </td> <td>1.2 </td> <td>0.6 </td> <td>0.1 </td> <td>0.2 </td> <td>0.4 </td> <td>1.1 </td> <td>3.4 </td>\n",
       "        </tr>\n",
       "        <tr>\n",
       "            <td>6   </td> <td>Cole Aldrich\\aldrico01     </td> <td>C   </td> <td>29  </td> <td>MIN </td> <td>21  </td> <td>0   </td> <td>2.3 </td> <td>0.2 </td> <td>0.7 </td> <td>0.333</td> <td>0   </td> <td>0   </td> <td>nan  </td> <td>0.2 </td> <td>0.7 </td> <td>0.333</td> <td>0.333</td> <td>0.1 </td> <td>0.3 </td> <td>0.333</td> <td>0.1 </td> <td>0.6 </td> <td>0.7 </td> <td>0.1 </td> <td>0.1 </td> <td>0   </td> <td>0   </td> <td>0.5 </td> <td>0.6 </td>\n",
       "        </tr>\n",
       "        <tr>\n",
       "            <td>7   </td> <td>LaMarcus Aldridge\\aldrila01</td> <td>C   </td> <td>32  </td> <td>SAS </td> <td>75  </td> <td>75  </td> <td>33.5</td> <td>9.2 </td> <td>18  </td> <td>0.51 </td> <td>0.4 </td> <td>1.2 </td> <td>0.293</td> <td>8.8 </td> <td>16.7</td> <td>0.526</td> <td>0.52 </td> <td>4.5 </td> <td>5.3 </td> <td>0.837</td> <td>3.3 </td> <td>5.2 </td> <td>8.5 </td> <td>2   </td> <td>0.6 </td> <td>1.2 </td> <td>1.5 </td> <td>2.1 </td> <td>23.1</td>\n",
       "        </tr>\n",
       "        <tr>\n",
       "            <td>8   </td> <td>Jarrett Allen\\allenja01    </td> <td>C   </td> <td>19  </td> <td>BRK </td> <td>72  </td> <td>31  </td> <td>20  </td> <td>3.3 </td> <td>5.5 </td> <td>0.589</td> <td>0.1 </td> <td>0.2 </td> <td>0.333</td> <td>3.2 </td> <td>5.3 </td> <td>0.599</td> <td>0.596</td> <td>1.6 </td> <td>2   </td> <td>0.776</td> <td>2   </td> <td>3.4 </td> <td>5.4 </td> <td>0.7 </td> <td>0.4 </td> <td>1.2 </td> <td>1.1 </td> <td>2   </td> <td>8.2 </td>\n",
       "        </tr>\n",
       "        <tr>\n",
       "            <td>9   </td> <td>Kadeem Allen\\allenka01     </td> <td>PG  </td> <td>25  </td> <td>BOS </td> <td>18  </td> <td>1   </td> <td>5.9 </td> <td>0.3 </td> <td>1.2 </td> <td>0.273</td> <td>0   </td> <td>0.6 </td> <td>0    </td> <td>0.3 </td> <td>0.6 </td> <td>0.545</td> <td>0.273</td> <td>0.4 </td> <td>0.5 </td> <td>0.778</td> <td>0.2 </td> <td>0.4 </td> <td>0.6 </td> <td>0.7 </td> <td>0.2 </td> <td>0.1 </td> <td>0.5 </td> <td>0.8 </td> <td>1.1 </td>\n",
       "        </tr>\n",
       "        <tr>\n",
       "            <td>10  </td> <td>Tony Allen\\allento01       </td> <td>SF  </td> <td>36  </td> <td>NOP </td> <td>22  </td> <td>0   </td> <td>12.4</td> <td>2   </td> <td>4.1 </td> <td>0.484</td> <td>0.2 </td> <td>0.5 </td> <td>0.333</td> <td>1.8 </td> <td>3.6 </td> <td>0.506</td> <td>0.505</td> <td>0.5 </td> <td>1   </td> <td>0.524</td> <td>0.9 </td> <td>1.2 </td> <td>2.1 </td> <td>0.4 </td> <td>0.5 </td> <td>0.1 </td> <td>0.9 </td> <td>2.2 </td> <td>4.7 </td>\n",
       "        </tr>\n",
       "        <tr>\n",
       "            <td>11  </td> <td>Al-Farouq Aminu\\aminual01  </td> <td>PF  </td> <td>27  </td> <td>POR </td> <td>69  </td> <td>67  </td> <td>30  </td> <td>3.3 </td> <td>8.4 </td> <td>0.395</td> <td>1.8 </td> <td>4.9 </td> <td>0.369</td> <td>1.5 </td> <td>3.5 </td> <td>0.432</td> <td>0.503</td> <td>0.9 </td> <td>1.2 </td> <td>0.738</td> <td>1.4 </td> <td>6.2 </td> <td>7.6 </td> <td>1.2 </td> <td>1.1 </td> <td>0.6 </td> <td>1.1 </td> <td>2   </td> <td>9.3 </td>\n",
       "        </tr>\n",
       "    </tbody>\n",
       "</table>\n",
       "<p>... (534 rows omitted)</p>"
      ],
      "text/plain": [
       "Rk   | Player                      | Pos  | Age  | Tm   | G    | GS   | MP   | FG   | FGA  | FG%   | 3P   | 3PA  | 3P%   | 2P   | 2PA  | 2P%   | eFG%  | FT   | FTA  | FT%   | ORB  | DRB  | TRB  | AST  | STL  | BLK  | TOV  | PF   | PS/G\n",
       "2    | Quincy Acy\\acyqu01          | PF   | 27   | BRK  | 70   | 8    | 19.4 | 1.9  | 5.2  | 0.356 | 1.5  | 4.2  | 0.349 | 0.4  | 1    | 0.384 | 0.496 | 0.7  | 0.9  | 0.817 | 0.6  | 3.1  | 3.7  | 0.8  | 0.5  | 0.4  | 0.9  | 2.1  | 5.9\n",
       "3    | Steven Adams\\adamsst01      | C    | 24   | OKC  | 76   | 76   | 32.7 | 5.9  | 9.4  | 0.629 | 0    | 0    | 0     | 5.9  | 9.3  | 0.631 | 0.629 | 2.1  | 3.8  | 0.559 | 5.1  | 4    | 9    | 1.2  | 1.2  | 1    | 1.7  | 2.8  | 13.9\n",
       "4    | Bam Adebayo\\adebaba01       | C    | 20   | MIA  | 69   | 19   | 19.8 | 2.5  | 4.9  | 0.512 | 0    | 0.1  | 0     | 2.5  | 4.8  | 0.523 | 0.512 | 1.9  | 2.6  | 0.721 | 1.7  | 3.8  | 5.5  | 1.5  | 0.5  | 0.6  | 1    | 2    | 6.9\n",
       "5    | Arron Afflalo\\afflaar01     | SG   | 32   | ORL  | 53   | 3    | 12.9 | 1.2  | 3.1  | 0.401 | 0.5  | 1.3  | 0.386 | 0.7  | 1.7  | 0.413 | 0.485 | 0.4  | 0.5  | 0.846 | 0.1  | 1.2  | 1.2  | 0.6  | 0.1  | 0.2  | 0.4  | 1.1  | 3.4\n",
       "6    | Cole Aldrich\\aldrico01      | C    | 29   | MIN  | 21   | 0    | 2.3  | 0.2  | 0.7  | 0.333 | 0    | 0    | nan   | 0.2  | 0.7  | 0.333 | 0.333 | 0.1  | 0.3  | 0.333 | 0.1  | 0.6  | 0.7  | 0.1  | 0.1  | 0    | 0    | 0.5  | 0.6\n",
       "7    | LaMarcus Aldridge\\aldrila01 | C    | 32   | SAS  | 75   | 75   | 33.5 | 9.2  | 18   | 0.51  | 0.4  | 1.2  | 0.293 | 8.8  | 16.7 | 0.526 | 0.52  | 4.5  | 5.3  | 0.837 | 3.3  | 5.2  | 8.5  | 2    | 0.6  | 1.2  | 1.5  | 2.1  | 23.1\n",
       "8    | Jarrett Allen\\allenja01     | C    | 19   | BRK  | 72   | 31   | 20   | 3.3  | 5.5  | 0.589 | 0.1  | 0.2  | 0.333 | 3.2  | 5.3  | 0.599 | 0.596 | 1.6  | 2    | 0.776 | 2    | 3.4  | 5.4  | 0.7  | 0.4  | 1.2  | 1.1  | 2    | 8.2\n",
       "9    | Kadeem Allen\\allenka01      | PG   | 25   | BOS  | 18   | 1    | 5.9  | 0.3  | 1.2  | 0.273 | 0    | 0.6  | 0     | 0.3  | 0.6  | 0.545 | 0.273 | 0.4  | 0.5  | 0.778 | 0.2  | 0.4  | 0.6  | 0.7  | 0.2  | 0.1  | 0.5  | 0.8  | 1.1\n",
       "10   | Tony Allen\\allento01        | SF   | 36   | NOP  | 22   | 0    | 12.4 | 2    | 4.1  | 0.484 | 0.2  | 0.5  | 0.333 | 1.8  | 3.6  | 0.506 | 0.505 | 0.5  | 1    | 0.524 | 0.9  | 1.2  | 2.1  | 0.4  | 0.5  | 0.1  | 0.9  | 2.2  | 4.7\n",
       "11   | Al-Farouq Aminu\\aminual01   | PF   | 27   | POR  | 69   | 67   | 30   | 3.3  | 8.4  | 0.395 | 1.8  | 4.9  | 0.369 | 1.5  | 3.5  | 0.432 | 0.503 | 0.9  | 1.2  | 0.738 | 1.4  | 6.2  | 7.6  | 1.2  | 1.1  | 0.6  | 1.1  | 2    | 9.3\n",
       "... (534 rows omitted)"
      ]
     },
     "execution_count": 439,
     "metadata": {},
     "output_type": "execute_result"
    }
   ],
   "source": [
    "boxscore_clean"
   ]
  },
  {
   "cell_type": "code",
   "execution_count": 440,
   "metadata": {},
   "outputs": [
    {
     "data": {
      "text/html": [
       "<table border=\"1\" class=\"dataframe\">\n",
       "    <thead>\n",
       "        <tr>\n",
       "            <th>Rk</th> <th>Player</th> <th>Tm</th> <th>2018-19</th> <th>2019-20</th> <th>2020-21</th> <th>2021-22</th> <th>2022-23</th> <th>2023-24</th> <th>Signed Using</th> <th>Guaranteed</th>\n",
       "        </tr>\n",
       "    </thead>\n",
       "    <tbody>\n",
       "        <tr>\n",
       "            <td>1   </td> <td>Stephen Curry\\curryst01    </td> <td>GSW </td> <td>$37457154</td> <td>$40231758</td> <td>$43006362</td> <td>$45780966</td> <td>nan      </td> <td>nan    </td> <td>Bird Rights   </td> <td>$166476240</td>\n",
       "        </tr>\n",
       "        <tr>\n",
       "            <td>2   </td> <td>Chris Paul\\paulch01        </td> <td>HOU </td> <td>$35654150</td> <td>$38506482</td> <td>$41358814</td> <td>$44211146</td> <td>nan      </td> <td>nan    </td> <td>nan           </td> <td>$159730592</td>\n",
       "        </tr>\n",
       "        <tr>\n",
       "            <td>3   </td> <td>Russell Westbrook\\westbru01</td> <td>OKC </td> <td>$35654150</td> <td>$38178000</td> <td>$41006000</td> <td>$43848000</td> <td>$46662000</td> <td>nan    </td> <td>Bird Rights   </td> <td>$158686150</td>\n",
       "        </tr>\n",
       "        <tr>\n",
       "            <td>4   </td> <td>LeBron James\\jamesle01     </td> <td>LAL </td> <td>$35654150</td> <td>$37436858</td> <td>$39219565</td> <td>$41002273</td> <td>nan      </td> <td>nan    </td> <td>nan           </td> <td>$113310573</td>\n",
       "        </tr>\n",
       "        <tr>\n",
       "            <td>5   </td> <td>Blake Griffin\\griffbl01    </td> <td>DET </td> <td>$32088932</td> <td>$34234964</td> <td>$36595996</td> <td>$38957028</td> <td>nan      </td> <td>nan    </td> <td>Bird Rights   </td> <td>$102919892</td>\n",
       "        </tr>\n",
       "        <tr>\n",
       "            <td>6   </td> <td>Gordon Hayward\\haywago01   </td> <td>BOS </td> <td>$31214295</td> <td>$32700690</td> <td>$34187085</td> <td>nan      </td> <td>nan      </td> <td>nan    </td> <td>Cap space     </td> <td>$63914985 </td>\n",
       "        </tr>\n",
       "        <tr>\n",
       "            <td>7   </td> <td>Kyle Lowry\\lowryky01       </td> <td>TOR </td> <td>$31200000</td> <td>$33296296</td> <td>nan      </td> <td>nan      </td> <td>nan      </td> <td>nan    </td> <td>Bird Rights   </td> <td>$64496296 </td>\n",
       "        </tr>\n",
       "        <tr>\n",
       "            <td>8   </td> <td>Paul George\\georgpa01      </td> <td>OKC </td> <td>$30560700</td> <td>$33005556</td> <td>$35450412</td> <td>$37895268</td> <td>nan      </td> <td>nan    </td> <td>Maximum Salary</td> <td>$99016668 </td>\n",
       "        </tr>\n",
       "        <tr>\n",
       "            <td>9   </td> <td>Mike Conley\\conlemi01      </td> <td>MEM </td> <td>$30521116</td> <td>$32511623</td> <td>$34504132</td> <td>nan      </td> <td>nan      </td> <td>nan    </td> <td>Cap Space     </td> <td>$85459122 </td>\n",
       "        </tr>\n",
       "        <tr>\n",
       "            <td>10  </td> <td>James Harden\\hardeja01     </td> <td>HOU </td> <td>$30431854</td> <td>$37800000</td> <td>$40824000</td> <td>$43848000</td> <td>$46872000</td> <td>nan    </td> <td>Bird Rights   </td> <td>$152903854</td>\n",
       "        </tr>\n",
       "    </tbody>\n",
       "</table>\n",
       "<p>... (478 rows omitted)</p>"
      ],
      "text/plain": [
       "Rk   | Player                      | Tm   | 2018-19   | 2019-20   | 2020-21   | 2021-22   | 2022-23   | 2023-24 | Signed Using   | Guaranteed\n",
       "1    | Stephen Curry\\curryst01     | GSW  | $37457154 | $40231758 | $43006362 | $45780966 | nan       | nan     | Bird Rights    | $166476240\n",
       "2    | Chris Paul\\paulch01         | HOU  | $35654150 | $38506482 | $41358814 | $44211146 | nan       | nan     | nan            | $159730592\n",
       "3    | Russell Westbrook\\westbru01 | OKC  | $35654150 | $38178000 | $41006000 | $43848000 | $46662000 | nan     | Bird Rights    | $158686150\n",
       "4    | LeBron James\\jamesle01      | LAL  | $35654150 | $37436858 | $39219565 | $41002273 | nan       | nan     | nan            | $113310573\n",
       "5    | Blake Griffin\\griffbl01     | DET  | $32088932 | $34234964 | $36595996 | $38957028 | nan       | nan     | Bird Rights    | $102919892\n",
       "6    | Gordon Hayward\\haywago01    | BOS  | $31214295 | $32700690 | $34187085 | nan       | nan       | nan     | Cap space      | $63914985\n",
       "7    | Kyle Lowry\\lowryky01        | TOR  | $31200000 | $33296296 | nan       | nan       | nan       | nan     | Bird Rights    | $64496296\n",
       "8    | Paul George\\georgpa01       | OKC  | $30560700 | $33005556 | $35450412 | $37895268 | nan       | nan     | Maximum Salary | $99016668\n",
       "9    | Mike Conley\\conlemi01       | MEM  | $30521116 | $32511623 | $34504132 | nan       | nan       | nan     | Cap Space      | $85459122\n",
       "10   | James Harden\\hardeja01      | HOU  | $30431854 | $37800000 | $40824000 | $43848000 | $46872000 | nan     | Bird Rights    | $152903854\n",
       "... (478 rows omitted)"
      ]
     },
     "execution_count": 440,
     "metadata": {},
     "output_type": "execute_result"
    }
   ],
   "source": [
    "contracts"
   ]
  },
  {
   "cell_type": "code",
   "execution_count": 441,
   "metadata": {},
   "outputs": [],
   "source": [
    "full_clean_table = boxscore_clean.join('Player', contracts, 'Player')"
   ]
  },
  {
   "cell_type": "code",
   "execution_count": 444,
   "metadata": {},
   "outputs": [
    {
     "data": {
      "text/html": [
       "<table border=\"1\" class=\"dataframe\">\n",
       "    <thead>\n",
       "        <tr>\n",
       "            <th>Player</th> <th>Rk</th> <th>Pos</th> <th>Age</th> <th>Tm</th> <th>G</th> <th>GS</th> <th>MP</th> <th>FG</th> <th>FGA</th> <th>FG%</th> <th>3P</th> <th>3PA</th> <th>3P%</th> <th>2P</th> <th>2PA</th> <th>2P%</th> <th>eFG%</th> <th>FT</th> <th>FTA</th> <th>FT%</th> <th>ORB</th> <th>DRB</th> <th>TRB</th> <th>AST</th> <th>STL</th> <th>BLK</th> <th>TOV</th> <th>PF</th> <th>PS/G</th> <th>Rk_2</th> <th>Tm_2</th> <th>2018-19</th> <th>2019-20</th> <th>2020-21</th> <th>2021-22</th> <th>2022-23</th> <th>2023-24</th> <th>Signed Using</th> <th>Guaranteed</th>\n",
       "        </tr>\n",
       "    </thead>\n",
       "    <tbody>\n",
       "        <tr>\n",
       "            <td>Aaron Gordon\\gordoaa01    </td> <td>179 </td> <td>PF  </td> <td>22  </td> <td>ORL </td> <td>58  </td> <td>57  </td> <td>32.9</td> <td>6.5 </td> <td>14.9</td> <td>0.434</td> <td>2   </td> <td>5.9 </td> <td>0.336</td> <td>4.5 </td> <td>9   </td> <td>0.497</td> <td>0.5  </td> <td>2.7 </td> <td>3.9 </td> <td>0.698</td> <td>1.5 </td> <td>6.4 </td> <td>7.9 </td> <td>2.3 </td> <td>1   </td> <td>0.8 </td> <td>1.8 </td> <td>1.9 </td> <td>17.6</td> <td>40  </td> <td>ORL </td> <td>$21590909</td> <td>$19863636</td> <td>$18136364</td> <td>$16409091</td> <td>nan    </td> <td>nan    </td> <td>nan           </td> <td>$76000000 </td>\n",
       "        </tr>\n",
       "        <tr>\n",
       "            <td>Abdel Nader\\naderab01     </td> <td>363 </td> <td>SF  </td> <td>24  </td> <td>BOS </td> <td>48  </td> <td>1   </td> <td>10.9</td> <td>1   </td> <td>3.1 </td> <td>0.336</td> <td>0.5 </td> <td>1.4 </td> <td>0.354</td> <td>0.6 </td> <td>1.8 </td> <td>0.321</td> <td>0.413</td> <td>0.5 </td> <td>0.8 </td> <td>0.59 </td> <td>0.3 </td> <td>1.2 </td> <td>1.5 </td> <td>0.5 </td> <td>0.3 </td> <td>0.2 </td> <td>0.7 </td> <td>0.9 </td> <td>3   </td> <td>422 </td> <td>OKC </td> <td>$1378242 </td> <td>$1618520 </td> <td>$1752950 </td> <td>nan      </td> <td>nan    </td> <td>nan    </td> <td>nan           </td> <td>$1378242  </td>\n",
       "        </tr>\n",
       "        <tr>\n",
       "            <td>Al Horford\\horfoal01      </td> <td>227 </td> <td>C   </td> <td>31  </td> <td>BOS </td> <td>72  </td> <td>72  </td> <td>31.6</td> <td>5.1 </td> <td>10.5</td> <td>0.489</td> <td>1.3 </td> <td>3.1 </td> <td>0.429</td> <td>3.8 </td> <td>7.3 </td> <td>0.514</td> <td>0.553</td> <td>1.3 </td> <td>1.7 </td> <td>0.783</td> <td>1.4 </td> <td>5.9 </td> <td>7.4 </td> <td>4.7 </td> <td>0.6 </td> <td>1.1 </td> <td>1.8 </td> <td>1.9 </td> <td>12.9</td> <td>13  </td> <td>BOS </td> <td>$28928710</td> <td>$30123015</td> <td>nan      </td> <td>nan      </td> <td>nan    </td> <td>nan    </td> <td>Cap Space     </td> <td>$28928710 </td>\n",
       "        </tr>\n",
       "        <tr>\n",
       "            <td>Al Jefferson\\jeffeal01    </td> <td>250 </td> <td>C   </td> <td>33  </td> <td>IND </td> <td>36  </td> <td>1   </td> <td>13.4</td> <td>3.1 </td> <td>5.8 </td> <td>0.534</td> <td>0   </td> <td>0.1 </td> <td>0    </td> <td>3.1 </td> <td>5.7 </td> <td>0.541</td> <td>0.534</td> <td>0.8 </td> <td>1   </td> <td>0.833</td> <td>0.8 </td> <td>3.1 </td> <td>4   </td> <td>0.8 </td> <td>0.4 </td> <td>0.6 </td> <td>0.6 </td> <td>1.8 </td> <td>7   </td> <td>235 </td> <td>IND </td> <td>$4000000 </td> <td>nan      </td> <td>nan      </td> <td>nan      </td> <td>nan    </td> <td>nan    </td> <td>nan           </td> <td>$4000000  </td>\n",
       "        </tr>\n",
       "        <tr>\n",
       "            <td>Al-Farouq Aminu\\aminual01 </td> <td>11  </td> <td>PF  </td> <td>27  </td> <td>POR </td> <td>69  </td> <td>67  </td> <td>30  </td> <td>3.3 </td> <td>8.4 </td> <td>0.395</td> <td>1.8 </td> <td>4.9 </td> <td>0.369</td> <td>1.5 </td> <td>3.5 </td> <td>0.432</td> <td>0.503</td> <td>0.9 </td> <td>1.2 </td> <td>0.738</td> <td>1.4 </td> <td>6.2 </td> <td>7.6 </td> <td>1.2 </td> <td>1.1 </td> <td>0.6 </td> <td>1.1 </td> <td>2   </td> <td>9.3 </td> <td>179 </td> <td>POR </td> <td>$6957105 </td> <td>nan      </td> <td>nan      </td> <td>nan      </td> <td>nan    </td> <td>nan    </td> <td>Cap Space     </td> <td>$6957105  </td>\n",
       "        </tr>\n",
       "        <tr>\n",
       "            <td>Alec Burks\\burksal01      </td> <td>78  </td> <td>SG  </td> <td>26  </td> <td>UTA </td> <td>64  </td> <td>1   </td> <td>16.5</td> <td>2.7 </td> <td>6.5 </td> <td>0.411</td> <td>0.7 </td> <td>2.2 </td> <td>0.331</td> <td>1.9 </td> <td>4.3 </td> <td>0.452</td> <td>0.467</td> <td>1.7 </td> <td>1.9 </td> <td>0.863</td> <td>0.3 </td> <td>2.7 </td> <td>3   </td> <td>1   </td> <td>0.6 </td> <td>0.1 </td> <td>0.9 </td> <td>1.2 </td> <td>7.7 </td> <td>120 </td> <td>UTA </td> <td>$11536515</td> <td>nan      </td> <td>nan      </td> <td>nan      </td> <td>nan    </td> <td>nan    </td> <td>1st Round Pick</td> <td>$11536515 </td>\n",
       "        </tr>\n",
       "        <tr>\n",
       "            <td>Alex Len\\lenal01          </td> <td>292 </td> <td>C   </td> <td>24  </td> <td>PHO </td> <td>69  </td> <td>13  </td> <td>20.2</td> <td>3.1 </td> <td>5.5 </td> <td>0.566</td> <td>0   </td> <td>0   </td> <td>0.333</td> <td>3.1 </td> <td>5.4 </td> <td>0.568</td> <td>0.567</td> <td>2.3 </td> <td>3.3 </td> <td>0.684</td> <td>2.5 </td> <td>5   </td> <td>7.5 </td> <td>1.2 </td> <td>0.4 </td> <td>0.9 </td> <td>1.1 </td> <td>2.3 </td> <td>8.5 </td> <td>227 </td> <td>ATL </td> <td>$4350000 </td> <td>$4160000 </td> <td>nan      </td> <td>nan      </td> <td>nan    </td> <td>nan    </td> <td>Room Exception</td> <td>$8510000  </td>\n",
       "        </tr>\n",
       "        <tr>\n",
       "            <td>Alfonzo McKinnie\\mckinal01</td> <td>330 </td> <td>SF  </td> <td>25  </td> <td>TOR </td> <td>14  </td> <td>0   </td> <td>3.8 </td> <td>0.6 </td> <td>1.1 </td> <td>0.533</td> <td>0.2 </td> <td>0.6 </td> <td>0.333</td> <td>0.4 </td> <td>0.4 </td> <td>0.833</td> <td>0.633</td> <td>0.1 </td> <td>0.2 </td> <td>0.667</td> <td>0.1 </td> <td>0.4 </td> <td>0.5 </td> <td>0.1 </td> <td>0.1 </td> <td>0.1 </td> <td>0.2 </td> <td>0.6 </td> <td>1.5 </td> <td>383 </td> <td>GSW </td> <td>$1349383 </td> <td>nan      </td> <td>nan      </td> <td>nan      </td> <td>nan    </td> <td>nan    </td> <td>nan           </td> <td>nan       </td>\n",
       "        </tr>\n",
       "        <tr>\n",
       "            <td>Alfonzo McKinnie\\mckinal01</td> <td>330 </td> <td>SF  </td> <td>25  </td> <td>TOR </td> <td>14  </td> <td>0   </td> <td>3.8 </td> <td>0.6 </td> <td>1.1 </td> <td>0.533</td> <td>0.2 </td> <td>0.6 </td> <td>0.333</td> <td>0.4 </td> <td>0.4 </td> <td>0.833</td> <td>0.633</td> <td>0.1 </td> <td>0.2 </td> <td>0.667</td> <td>0.1 </td> <td>0.4 </td> <td>0.5 </td> <td>0.1 </td> <td>0.1 </td> <td>0.1 </td> <td>0.2 </td> <td>0.6 </td> <td>1.5 </td> <td>446 </td> <td>GSW </td> <td>$1349383 </td> <td>nan      </td> <td>nan      </td> <td>nan      </td> <td>nan    </td> <td>nan    </td> <td>nan           </td> <td>nan       </td>\n",
       "        </tr>\n",
       "        <tr>\n",
       "            <td>Allen Crabbe\\crabbal01    </td> <td>114 </td> <td>SG  </td> <td>25  </td> <td>BRK </td> <td>75  </td> <td>68  </td> <td>29.3</td> <td>4.5 </td> <td>11  </td> <td>0.407</td> <td>2.7 </td> <td>7.1 </td> <td>0.378</td> <td>1.8 </td> <td>3.9 </td> <td>0.461</td> <td>0.529</td> <td>1.5 </td> <td>1.8 </td> <td>0.852</td> <td>0.4 </td> <td>3.9 </td> <td>4.3 </td> <td>1.6 </td> <td>0.6 </td> <td>0.5 </td> <td>1   </td> <td>2.2 </td> <td>13.2</td> <td>57  </td> <td>BRK </td> <td>$18500000</td> <td>$18500000</td> <td>nan      </td> <td>nan      </td> <td>nan    </td> <td>nan    </td> <td>Cap Space     </td> <td>$18500000 </td>\n",
       "        </tr>\n",
       "    </tbody>\n",
       "</table>\n",
       "<p>... (429 rows omitted)</p>"
      ],
      "text/plain": [
       "<IPython.core.display.HTML object>"
      ]
     },
     "metadata": {},
     "output_type": "display_data"
    }
   ],
   "source": [
    "full_clean_table.show(10)\n",
    "\n",
    "#joining the two dataset together"
   ]
  },
  {
   "cell_type": "code",
   "execution_count": 445,
   "metadata": {},
   "outputs": [],
   "source": [
    "clean_data = full_clean_table.drop('2019-20').drop('2020-21').drop('2021-22').drop('2022-23').drop('2023-24').drop('Signed Using').drop('Guaranteed')\n",
    "\n",
    "# cares only about 2018-2019 contract"
   ]
  },
  {
   "cell_type": "code",
   "execution_count": 447,
   "metadata": {},
   "outputs": [
    {
     "data": {
      "text/html": [
       "<table border=\"1\" class=\"dataframe\">\n",
       "    <thead>\n",
       "        <tr>\n",
       "            <th>Player</th> <th>Rk</th> <th>Pos</th> <th>Age</th> <th>Tm</th> <th>G</th> <th>GS</th> <th>MP</th> <th>FG</th> <th>FGA</th> <th>FG%</th> <th>3P</th> <th>3PA</th> <th>3P%</th> <th>2P</th> <th>2PA</th> <th>2P%</th> <th>eFG%</th> <th>FT</th> <th>FTA</th> <th>FT%</th> <th>ORB</th> <th>DRB</th> <th>TRB</th> <th>AST</th> <th>STL</th> <th>BLK</th> <th>TOV</th> <th>PF</th> <th>PS/G</th> <th>Rk_2</th> <th>Tm_2</th> <th>2018-19</th>\n",
       "        </tr>\n",
       "    </thead>\n",
       "    <tbody>\n",
       "        <tr>\n",
       "            <td>Aaron Gordon\\gordoaa01    </td> <td>179 </td> <td>PF  </td> <td>22  </td> <td>ORL </td> <td>58  </td> <td>57  </td> <td>32.9</td> <td>6.5 </td> <td>14.9</td> <td>0.434</td> <td>2   </td> <td>5.9 </td> <td>0.336</td> <td>4.5 </td> <td>9   </td> <td>0.497</td> <td>0.5  </td> <td>2.7 </td> <td>3.9 </td> <td>0.698</td> <td>1.5 </td> <td>6.4 </td> <td>7.9 </td> <td>2.3 </td> <td>1   </td> <td>0.8 </td> <td>1.8 </td> <td>1.9 </td> <td>17.6</td> <td>40  </td> <td>ORL </td> <td>$21590909</td>\n",
       "        </tr>\n",
       "        <tr>\n",
       "            <td>Abdel Nader\\naderab01     </td> <td>363 </td> <td>SF  </td> <td>24  </td> <td>BOS </td> <td>48  </td> <td>1   </td> <td>10.9</td> <td>1   </td> <td>3.1 </td> <td>0.336</td> <td>0.5 </td> <td>1.4 </td> <td>0.354</td> <td>0.6 </td> <td>1.8 </td> <td>0.321</td> <td>0.413</td> <td>0.5 </td> <td>0.8 </td> <td>0.59 </td> <td>0.3 </td> <td>1.2 </td> <td>1.5 </td> <td>0.5 </td> <td>0.3 </td> <td>0.2 </td> <td>0.7 </td> <td>0.9 </td> <td>3   </td> <td>422 </td> <td>OKC </td> <td>$1378242 </td>\n",
       "        </tr>\n",
       "        <tr>\n",
       "            <td>Al Horford\\horfoal01      </td> <td>227 </td> <td>C   </td> <td>31  </td> <td>BOS </td> <td>72  </td> <td>72  </td> <td>31.6</td> <td>5.1 </td> <td>10.5</td> <td>0.489</td> <td>1.3 </td> <td>3.1 </td> <td>0.429</td> <td>3.8 </td> <td>7.3 </td> <td>0.514</td> <td>0.553</td> <td>1.3 </td> <td>1.7 </td> <td>0.783</td> <td>1.4 </td> <td>5.9 </td> <td>7.4 </td> <td>4.7 </td> <td>0.6 </td> <td>1.1 </td> <td>1.8 </td> <td>1.9 </td> <td>12.9</td> <td>13  </td> <td>BOS </td> <td>$28928710</td>\n",
       "        </tr>\n",
       "        <tr>\n",
       "            <td>Al Jefferson\\jeffeal01    </td> <td>250 </td> <td>C   </td> <td>33  </td> <td>IND </td> <td>36  </td> <td>1   </td> <td>13.4</td> <td>3.1 </td> <td>5.8 </td> <td>0.534</td> <td>0   </td> <td>0.1 </td> <td>0    </td> <td>3.1 </td> <td>5.7 </td> <td>0.541</td> <td>0.534</td> <td>0.8 </td> <td>1   </td> <td>0.833</td> <td>0.8 </td> <td>3.1 </td> <td>4   </td> <td>0.8 </td> <td>0.4 </td> <td>0.6 </td> <td>0.6 </td> <td>1.8 </td> <td>7   </td> <td>235 </td> <td>IND </td> <td>$4000000 </td>\n",
       "        </tr>\n",
       "        <tr>\n",
       "            <td>Al-Farouq Aminu\\aminual01 </td> <td>11  </td> <td>PF  </td> <td>27  </td> <td>POR </td> <td>69  </td> <td>67  </td> <td>30  </td> <td>3.3 </td> <td>8.4 </td> <td>0.395</td> <td>1.8 </td> <td>4.9 </td> <td>0.369</td> <td>1.5 </td> <td>3.5 </td> <td>0.432</td> <td>0.503</td> <td>0.9 </td> <td>1.2 </td> <td>0.738</td> <td>1.4 </td> <td>6.2 </td> <td>7.6 </td> <td>1.2 </td> <td>1.1 </td> <td>0.6 </td> <td>1.1 </td> <td>2   </td> <td>9.3 </td> <td>179 </td> <td>POR </td> <td>$6957105 </td>\n",
       "        </tr>\n",
       "        <tr>\n",
       "            <td>Alec Burks\\burksal01      </td> <td>78  </td> <td>SG  </td> <td>26  </td> <td>UTA </td> <td>64  </td> <td>1   </td> <td>16.5</td> <td>2.7 </td> <td>6.5 </td> <td>0.411</td> <td>0.7 </td> <td>2.2 </td> <td>0.331</td> <td>1.9 </td> <td>4.3 </td> <td>0.452</td> <td>0.467</td> <td>1.7 </td> <td>1.9 </td> <td>0.863</td> <td>0.3 </td> <td>2.7 </td> <td>3   </td> <td>1   </td> <td>0.6 </td> <td>0.1 </td> <td>0.9 </td> <td>1.2 </td> <td>7.7 </td> <td>120 </td> <td>UTA </td> <td>$11536515</td>\n",
       "        </tr>\n",
       "        <tr>\n",
       "            <td>Alex Len\\lenal01          </td> <td>292 </td> <td>C   </td> <td>24  </td> <td>PHO </td> <td>69  </td> <td>13  </td> <td>20.2</td> <td>3.1 </td> <td>5.5 </td> <td>0.566</td> <td>0   </td> <td>0   </td> <td>0.333</td> <td>3.1 </td> <td>5.4 </td> <td>0.568</td> <td>0.567</td> <td>2.3 </td> <td>3.3 </td> <td>0.684</td> <td>2.5 </td> <td>5   </td> <td>7.5 </td> <td>1.2 </td> <td>0.4 </td> <td>0.9 </td> <td>1.1 </td> <td>2.3 </td> <td>8.5 </td> <td>227 </td> <td>ATL </td> <td>$4350000 </td>\n",
       "        </tr>\n",
       "        <tr>\n",
       "            <td>Alfonzo McKinnie\\mckinal01</td> <td>330 </td> <td>SF  </td> <td>25  </td> <td>TOR </td> <td>14  </td> <td>0   </td> <td>3.8 </td> <td>0.6 </td> <td>1.1 </td> <td>0.533</td> <td>0.2 </td> <td>0.6 </td> <td>0.333</td> <td>0.4 </td> <td>0.4 </td> <td>0.833</td> <td>0.633</td> <td>0.1 </td> <td>0.2 </td> <td>0.667</td> <td>0.1 </td> <td>0.4 </td> <td>0.5 </td> <td>0.1 </td> <td>0.1 </td> <td>0.1 </td> <td>0.2 </td> <td>0.6 </td> <td>1.5 </td> <td>383 </td> <td>GSW </td> <td>$1349383 </td>\n",
       "        </tr>\n",
       "        <tr>\n",
       "            <td>Alfonzo McKinnie\\mckinal01</td> <td>330 </td> <td>SF  </td> <td>25  </td> <td>TOR </td> <td>14  </td> <td>0   </td> <td>3.8 </td> <td>0.6 </td> <td>1.1 </td> <td>0.533</td> <td>0.2 </td> <td>0.6 </td> <td>0.333</td> <td>0.4 </td> <td>0.4 </td> <td>0.833</td> <td>0.633</td> <td>0.1 </td> <td>0.2 </td> <td>0.667</td> <td>0.1 </td> <td>0.4 </td> <td>0.5 </td> <td>0.1 </td> <td>0.1 </td> <td>0.1 </td> <td>0.2 </td> <td>0.6 </td> <td>1.5 </td> <td>446 </td> <td>GSW </td> <td>$1349383 </td>\n",
       "        </tr>\n",
       "        <tr>\n",
       "            <td>Allen Crabbe\\crabbal01    </td> <td>114 </td> <td>SG  </td> <td>25  </td> <td>BRK </td> <td>75  </td> <td>68  </td> <td>29.3</td> <td>4.5 </td> <td>11  </td> <td>0.407</td> <td>2.7 </td> <td>7.1 </td> <td>0.378</td> <td>1.8 </td> <td>3.9 </td> <td>0.461</td> <td>0.529</td> <td>1.5 </td> <td>1.8 </td> <td>0.852</td> <td>0.4 </td> <td>3.9 </td> <td>4.3 </td> <td>1.6 </td> <td>0.6 </td> <td>0.5 </td> <td>1   </td> <td>2.2 </td> <td>13.2</td> <td>57  </td> <td>BRK </td> <td>$18500000</td>\n",
       "        </tr>\n",
       "    </tbody>\n",
       "</table>\n",
       "<p>... (429 rows omitted)</p>"
      ],
      "text/plain": [
       "Player                     | Rk   | Pos  | Age  | Tm   | G    | GS   | MP   | FG   | FGA  | FG%   | 3P   | 3PA  | 3P%   | 2P   | 2PA  | 2P%   | eFG%  | FT   | FTA  | FT%   | ORB  | DRB  | TRB  | AST  | STL  | BLK  | TOV  | PF   | PS/G | Rk_2 | Tm_2 | 2018-19\n",
       "Aaron Gordon\\gordoaa01     | 179  | PF   | 22   | ORL  | 58   | 57   | 32.9 | 6.5  | 14.9 | 0.434 | 2    | 5.9  | 0.336 | 4.5  | 9    | 0.497 | 0.5   | 2.7  | 3.9  | 0.698 | 1.5  | 6.4  | 7.9  | 2.3  | 1    | 0.8  | 1.8  | 1.9  | 17.6 | 40   | ORL  | $21590909\n",
       "Abdel Nader\\naderab01      | 363  | SF   | 24   | BOS  | 48   | 1    | 10.9 | 1    | 3.1  | 0.336 | 0.5  | 1.4  | 0.354 | 0.6  | 1.8  | 0.321 | 0.413 | 0.5  | 0.8  | 0.59  | 0.3  | 1.2  | 1.5  | 0.5  | 0.3  | 0.2  | 0.7  | 0.9  | 3    | 422  | OKC  | $1378242\n",
       "Al Horford\\horfoal01       | 227  | C    | 31   | BOS  | 72   | 72   | 31.6 | 5.1  | 10.5 | 0.489 | 1.3  | 3.1  | 0.429 | 3.8  | 7.3  | 0.514 | 0.553 | 1.3  | 1.7  | 0.783 | 1.4  | 5.9  | 7.4  | 4.7  | 0.6  | 1.1  | 1.8  | 1.9  | 12.9 | 13   | BOS  | $28928710\n",
       "Al Jefferson\\jeffeal01     | 250  | C    | 33   | IND  | 36   | 1    | 13.4 | 3.1  | 5.8  | 0.534 | 0    | 0.1  | 0     | 3.1  | 5.7  | 0.541 | 0.534 | 0.8  | 1    | 0.833 | 0.8  | 3.1  | 4    | 0.8  | 0.4  | 0.6  | 0.6  | 1.8  | 7    | 235  | IND  | $4000000\n",
       "Al-Farouq Aminu\\aminual01  | 11   | PF   | 27   | POR  | 69   | 67   | 30   | 3.3  | 8.4  | 0.395 | 1.8  | 4.9  | 0.369 | 1.5  | 3.5  | 0.432 | 0.503 | 0.9  | 1.2  | 0.738 | 1.4  | 6.2  | 7.6  | 1.2  | 1.1  | 0.6  | 1.1  | 2    | 9.3  | 179  | POR  | $6957105\n",
       "Alec Burks\\burksal01       | 78   | SG   | 26   | UTA  | 64   | 1    | 16.5 | 2.7  | 6.5  | 0.411 | 0.7  | 2.2  | 0.331 | 1.9  | 4.3  | 0.452 | 0.467 | 1.7  | 1.9  | 0.863 | 0.3  | 2.7  | 3    | 1    | 0.6  | 0.1  | 0.9  | 1.2  | 7.7  | 120  | UTA  | $11536515\n",
       "Alex Len\\lenal01           | 292  | C    | 24   | PHO  | 69   | 13   | 20.2 | 3.1  | 5.5  | 0.566 | 0    | 0    | 0.333 | 3.1  | 5.4  | 0.568 | 0.567 | 2.3  | 3.3  | 0.684 | 2.5  | 5    | 7.5  | 1.2  | 0.4  | 0.9  | 1.1  | 2.3  | 8.5  | 227  | ATL  | $4350000\n",
       "Alfonzo McKinnie\\mckinal01 | 330  | SF   | 25   | TOR  | 14   | 0    | 3.8  | 0.6  | 1.1  | 0.533 | 0.2  | 0.6  | 0.333 | 0.4  | 0.4  | 0.833 | 0.633 | 0.1  | 0.2  | 0.667 | 0.1  | 0.4  | 0.5  | 0.1  | 0.1  | 0.1  | 0.2  | 0.6  | 1.5  | 383  | GSW  | $1349383\n",
       "Alfonzo McKinnie\\mckinal01 | 330  | SF   | 25   | TOR  | 14   | 0    | 3.8  | 0.6  | 1.1  | 0.533 | 0.2  | 0.6  | 0.333 | 0.4  | 0.4  | 0.833 | 0.633 | 0.1  | 0.2  | 0.667 | 0.1  | 0.4  | 0.5  | 0.1  | 0.1  | 0.1  | 0.2  | 0.6  | 1.5  | 446  | GSW  | $1349383\n",
       "Allen Crabbe\\crabbal01     | 114  | SG   | 25   | BRK  | 75   | 68   | 29.3 | 4.5  | 11   | 0.407 | 2.7  | 7.1  | 0.378 | 1.8  | 3.9  | 0.461 | 0.529 | 1.5  | 1.8  | 0.852 | 0.4  | 3.9  | 4.3  | 1.6  | 0.6  | 0.5  | 1    | 2.2  | 13.2 | 57   | BRK  | $18500000\n",
       "... (429 rows omitted)"
      ]
     },
     "execution_count": 447,
     "metadata": {},
     "output_type": "execute_result"
    }
   ],
   "source": [
    "clean_data"
   ]
  },
  {
   "cell_type": "markdown",
   "metadata": {},
   "source": [
    "Basic type conversions are carried out to make use of the data without certain characters hindering the calculations."
   ]
  },
  {
   "cell_type": "code",
   "execution_count": 448,
   "metadata": {},
   "outputs": [],
   "source": [
    "def convert_string_to_number(string):\n",
    "    return float(string.strip('$'))*1"
   ]
  },
  {
   "cell_type": "code",
   "execution_count": 449,
   "metadata": {},
   "outputs": [
    {
     "data": {
      "text/plain": [
       "21590909.0"
      ]
     },
     "execution_count": 449,
     "metadata": {},
     "output_type": "execute_result"
    }
   ],
   "source": [
    "convert_string_to_number('$21590909')"
   ]
  },
  {
   "cell_type": "code",
   "execution_count": 451,
   "metadata": {
    "scrolled": true
   },
   "outputs": [
    {
     "data": {
      "text/html": [
       "<table border=\"1\" class=\"dataframe\">\n",
       "    <thead>\n",
       "        <tr>\n",
       "            <th>Player</th> <th>Rk</th> <th>Pos</th> <th>Age</th> <th>Tm</th> <th>G</th> <th>GS</th> <th>MP</th> <th>FG</th> <th>FGA</th> <th>FG%</th> <th>3P</th> <th>3PA</th> <th>3P%</th> <th>2P</th> <th>2PA</th> <th>2P%</th> <th>eFG%</th> <th>FT</th> <th>FTA</th> <th>FT%</th> <th>ORB</th> <th>DRB</th> <th>TRB</th> <th>AST</th> <th>STL</th> <th>BLK</th> <th>TOV</th> <th>PF</th> <th>PS/G</th> <th>Rk_2</th> <th>Tm_2</th> <th>2018-19</th>\n",
       "        </tr>\n",
       "    </thead>\n",
       "    <tbody>\n",
       "        <tr>\n",
       "            <td>Aaron Gordon\\gordoaa01    </td> <td>179 </td> <td>PF  </td> <td>22  </td> <td>ORL </td> <td>58  </td> <td>57  </td> <td>32.9</td> <td>6.5 </td> <td>14.9</td> <td>0.434</td> <td>2   </td> <td>5.9 </td> <td>0.336</td> <td>4.5 </td> <td>9   </td> <td>0.497</td> <td>0.5  </td> <td>2.7 </td> <td>3.9 </td> <td>0.698</td> <td>1.5 </td> <td>6.4 </td> <td>7.9 </td> <td>2.3 </td> <td>1   </td> <td>0.8 </td> <td>1.8 </td> <td>1.9 </td> <td>17.6</td> <td>40  </td> <td>ORL </td> <td>$21590909</td>\n",
       "        </tr>\n",
       "        <tr>\n",
       "            <td>Abdel Nader\\naderab01     </td> <td>363 </td> <td>SF  </td> <td>24  </td> <td>BOS </td> <td>48  </td> <td>1   </td> <td>10.9</td> <td>1   </td> <td>3.1 </td> <td>0.336</td> <td>0.5 </td> <td>1.4 </td> <td>0.354</td> <td>0.6 </td> <td>1.8 </td> <td>0.321</td> <td>0.413</td> <td>0.5 </td> <td>0.8 </td> <td>0.59 </td> <td>0.3 </td> <td>1.2 </td> <td>1.5 </td> <td>0.5 </td> <td>0.3 </td> <td>0.2 </td> <td>0.7 </td> <td>0.9 </td> <td>3   </td> <td>422 </td> <td>OKC </td> <td>$1378242 </td>\n",
       "        </tr>\n",
       "        <tr>\n",
       "            <td>Al Horford\\horfoal01      </td> <td>227 </td> <td>C   </td> <td>31  </td> <td>BOS </td> <td>72  </td> <td>72  </td> <td>31.6</td> <td>5.1 </td> <td>10.5</td> <td>0.489</td> <td>1.3 </td> <td>3.1 </td> <td>0.429</td> <td>3.8 </td> <td>7.3 </td> <td>0.514</td> <td>0.553</td> <td>1.3 </td> <td>1.7 </td> <td>0.783</td> <td>1.4 </td> <td>5.9 </td> <td>7.4 </td> <td>4.7 </td> <td>0.6 </td> <td>1.1 </td> <td>1.8 </td> <td>1.9 </td> <td>12.9</td> <td>13  </td> <td>BOS </td> <td>$28928710</td>\n",
       "        </tr>\n",
       "        <tr>\n",
       "            <td>Al Jefferson\\jeffeal01    </td> <td>250 </td> <td>C   </td> <td>33  </td> <td>IND </td> <td>36  </td> <td>1   </td> <td>13.4</td> <td>3.1 </td> <td>5.8 </td> <td>0.534</td> <td>0   </td> <td>0.1 </td> <td>0    </td> <td>3.1 </td> <td>5.7 </td> <td>0.541</td> <td>0.534</td> <td>0.8 </td> <td>1   </td> <td>0.833</td> <td>0.8 </td> <td>3.1 </td> <td>4   </td> <td>0.8 </td> <td>0.4 </td> <td>0.6 </td> <td>0.6 </td> <td>1.8 </td> <td>7   </td> <td>235 </td> <td>IND </td> <td>$4000000 </td>\n",
       "        </tr>\n",
       "        <tr>\n",
       "            <td>Al-Farouq Aminu\\aminual01 </td> <td>11  </td> <td>PF  </td> <td>27  </td> <td>POR </td> <td>69  </td> <td>67  </td> <td>30  </td> <td>3.3 </td> <td>8.4 </td> <td>0.395</td> <td>1.8 </td> <td>4.9 </td> <td>0.369</td> <td>1.5 </td> <td>3.5 </td> <td>0.432</td> <td>0.503</td> <td>0.9 </td> <td>1.2 </td> <td>0.738</td> <td>1.4 </td> <td>6.2 </td> <td>7.6 </td> <td>1.2 </td> <td>1.1 </td> <td>0.6 </td> <td>1.1 </td> <td>2   </td> <td>9.3 </td> <td>179 </td> <td>POR </td> <td>$6957105 </td>\n",
       "        </tr>\n",
       "        <tr>\n",
       "            <td>Alec Burks\\burksal01      </td> <td>78  </td> <td>SG  </td> <td>26  </td> <td>UTA </td> <td>64  </td> <td>1   </td> <td>16.5</td> <td>2.7 </td> <td>6.5 </td> <td>0.411</td> <td>0.7 </td> <td>2.2 </td> <td>0.331</td> <td>1.9 </td> <td>4.3 </td> <td>0.452</td> <td>0.467</td> <td>1.7 </td> <td>1.9 </td> <td>0.863</td> <td>0.3 </td> <td>2.7 </td> <td>3   </td> <td>1   </td> <td>0.6 </td> <td>0.1 </td> <td>0.9 </td> <td>1.2 </td> <td>7.7 </td> <td>120 </td> <td>UTA </td> <td>$11536515</td>\n",
       "        </tr>\n",
       "        <tr>\n",
       "            <td>Alex Len\\lenal01          </td> <td>292 </td> <td>C   </td> <td>24  </td> <td>PHO </td> <td>69  </td> <td>13  </td> <td>20.2</td> <td>3.1 </td> <td>5.5 </td> <td>0.566</td> <td>0   </td> <td>0   </td> <td>0.333</td> <td>3.1 </td> <td>5.4 </td> <td>0.568</td> <td>0.567</td> <td>2.3 </td> <td>3.3 </td> <td>0.684</td> <td>2.5 </td> <td>5   </td> <td>7.5 </td> <td>1.2 </td> <td>0.4 </td> <td>0.9 </td> <td>1.1 </td> <td>2.3 </td> <td>8.5 </td> <td>227 </td> <td>ATL </td> <td>$4350000 </td>\n",
       "        </tr>\n",
       "        <tr>\n",
       "            <td>Alfonzo McKinnie\\mckinal01</td> <td>330 </td> <td>SF  </td> <td>25  </td> <td>TOR </td> <td>14  </td> <td>0   </td> <td>3.8 </td> <td>0.6 </td> <td>1.1 </td> <td>0.533</td> <td>0.2 </td> <td>0.6 </td> <td>0.333</td> <td>0.4 </td> <td>0.4 </td> <td>0.833</td> <td>0.633</td> <td>0.1 </td> <td>0.2 </td> <td>0.667</td> <td>0.1 </td> <td>0.4 </td> <td>0.5 </td> <td>0.1 </td> <td>0.1 </td> <td>0.1 </td> <td>0.2 </td> <td>0.6 </td> <td>1.5 </td> <td>383 </td> <td>GSW </td> <td>$1349383 </td>\n",
       "        </tr>\n",
       "        <tr>\n",
       "            <td>Alfonzo McKinnie\\mckinal01</td> <td>330 </td> <td>SF  </td> <td>25  </td> <td>TOR </td> <td>14  </td> <td>0   </td> <td>3.8 </td> <td>0.6 </td> <td>1.1 </td> <td>0.533</td> <td>0.2 </td> <td>0.6 </td> <td>0.333</td> <td>0.4 </td> <td>0.4 </td> <td>0.833</td> <td>0.633</td> <td>0.1 </td> <td>0.2 </td> <td>0.667</td> <td>0.1 </td> <td>0.4 </td> <td>0.5 </td> <td>0.1 </td> <td>0.1 </td> <td>0.1 </td> <td>0.2 </td> <td>0.6 </td> <td>1.5 </td> <td>446 </td> <td>GSW </td> <td>$1349383 </td>\n",
       "        </tr>\n",
       "        <tr>\n",
       "            <td>Allen Crabbe\\crabbal01    </td> <td>114 </td> <td>SG  </td> <td>25  </td> <td>BRK </td> <td>75  </td> <td>68  </td> <td>29.3</td> <td>4.5 </td> <td>11  </td> <td>0.407</td> <td>2.7 </td> <td>7.1 </td> <td>0.378</td> <td>1.8 </td> <td>3.9 </td> <td>0.461</td> <td>0.529</td> <td>1.5 </td> <td>1.8 </td> <td>0.852</td> <td>0.4 </td> <td>3.9 </td> <td>4.3 </td> <td>1.6 </td> <td>0.6 </td> <td>0.5 </td> <td>1   </td> <td>2.2 </td> <td>13.2</td> <td>57  </td> <td>BRK </td> <td>$18500000</td>\n",
       "        </tr>\n",
       "    </tbody>\n",
       "</table>\n",
       "<p>... (429 rows omitted)</p>"
      ],
      "text/plain": [
       "<IPython.core.display.HTML object>"
      ]
     },
     "metadata": {},
     "output_type": "display_data"
    }
   ],
   "source": [
    "clean_data.show(10)\n",
    "#convert strings to number"
   ]
  },
  {
   "cell_type": "markdown",
   "metadata": {},
   "source": [
    "## Final Data Tables ##"
   ]
  },
  {
   "cell_type": "markdown",
   "metadata": {},
   "source": [
    "The following cells display the fully processed data tables:"
   ]
  },
  {
   "cell_type": "code",
   "execution_count": 452,
   "metadata": {},
   "outputs": [],
   "source": [
    "clean_data['2018-19'] = clean_data.apply(convert_string_to_number, '2018-19')"
   ]
  },
  {
   "cell_type": "code",
   "execution_count": 453,
   "metadata": {},
   "outputs": [
    {
     "data": {
      "text/html": [
       "<table border=\"1\" class=\"dataframe\">\n",
       "    <thead>\n",
       "        <tr>\n",
       "            <th>Player</th> <th>Rk</th> <th>Pos</th> <th>Age</th> <th>Tm</th> <th>G</th> <th>GS</th> <th>MP</th> <th>FG</th> <th>FGA</th> <th>FG%</th> <th>3P</th> <th>3PA</th> <th>3P%</th> <th>2P</th> <th>2PA</th> <th>2P%</th> <th>eFG%</th> <th>FT</th> <th>FTA</th> <th>FT%</th> <th>ORB</th> <th>DRB</th> <th>TRB</th> <th>AST</th> <th>STL</th> <th>BLK</th> <th>TOV</th> <th>PF</th> <th>PS/G</th> <th>Rk_2</th> <th>Tm_2</th> <th>2018-19</th>\n",
       "        </tr>\n",
       "    </thead>\n",
       "    <tbody>\n",
       "        <tr>\n",
       "            <td>Aaron Gordon\\gordoaa01    </td> <td>179 </td> <td>PF  </td> <td>22  </td> <td>ORL </td> <td>58  </td> <td>57  </td> <td>32.9</td> <td>6.5 </td> <td>14.9</td> <td>0.434</td> <td>2   </td> <td>5.9 </td> <td>0.336</td> <td>4.5 </td> <td>9   </td> <td>0.497</td> <td>0.5  </td> <td>2.7 </td> <td>3.9 </td> <td>0.698</td> <td>1.5 </td> <td>6.4 </td> <td>7.9 </td> <td>2.3 </td> <td>1   </td> <td>0.8 </td> <td>1.8 </td> <td>1.9 </td> <td>17.6</td> <td>40  </td> <td>ORL </td> <td>2.15909e+07</td>\n",
       "        </tr>\n",
       "        <tr>\n",
       "            <td>Abdel Nader\\naderab01     </td> <td>363 </td> <td>SF  </td> <td>24  </td> <td>BOS </td> <td>48  </td> <td>1   </td> <td>10.9</td> <td>1   </td> <td>3.1 </td> <td>0.336</td> <td>0.5 </td> <td>1.4 </td> <td>0.354</td> <td>0.6 </td> <td>1.8 </td> <td>0.321</td> <td>0.413</td> <td>0.5 </td> <td>0.8 </td> <td>0.59 </td> <td>0.3 </td> <td>1.2 </td> <td>1.5 </td> <td>0.5 </td> <td>0.3 </td> <td>0.2 </td> <td>0.7 </td> <td>0.9 </td> <td>3   </td> <td>422 </td> <td>OKC </td> <td>1.37824e+06</td>\n",
       "        </tr>\n",
       "        <tr>\n",
       "            <td>Al Horford\\horfoal01      </td> <td>227 </td> <td>C   </td> <td>31  </td> <td>BOS </td> <td>72  </td> <td>72  </td> <td>31.6</td> <td>5.1 </td> <td>10.5</td> <td>0.489</td> <td>1.3 </td> <td>3.1 </td> <td>0.429</td> <td>3.8 </td> <td>7.3 </td> <td>0.514</td> <td>0.553</td> <td>1.3 </td> <td>1.7 </td> <td>0.783</td> <td>1.4 </td> <td>5.9 </td> <td>7.4 </td> <td>4.7 </td> <td>0.6 </td> <td>1.1 </td> <td>1.8 </td> <td>1.9 </td> <td>12.9</td> <td>13  </td> <td>BOS </td> <td>2.89287e+07</td>\n",
       "        </tr>\n",
       "        <tr>\n",
       "            <td>Al Jefferson\\jeffeal01    </td> <td>250 </td> <td>C   </td> <td>33  </td> <td>IND </td> <td>36  </td> <td>1   </td> <td>13.4</td> <td>3.1 </td> <td>5.8 </td> <td>0.534</td> <td>0   </td> <td>0.1 </td> <td>0    </td> <td>3.1 </td> <td>5.7 </td> <td>0.541</td> <td>0.534</td> <td>0.8 </td> <td>1   </td> <td>0.833</td> <td>0.8 </td> <td>3.1 </td> <td>4   </td> <td>0.8 </td> <td>0.4 </td> <td>0.6 </td> <td>0.6 </td> <td>1.8 </td> <td>7   </td> <td>235 </td> <td>IND </td> <td>4e+06      </td>\n",
       "        </tr>\n",
       "        <tr>\n",
       "            <td>Al-Farouq Aminu\\aminual01 </td> <td>11  </td> <td>PF  </td> <td>27  </td> <td>POR </td> <td>69  </td> <td>67  </td> <td>30  </td> <td>3.3 </td> <td>8.4 </td> <td>0.395</td> <td>1.8 </td> <td>4.9 </td> <td>0.369</td> <td>1.5 </td> <td>3.5 </td> <td>0.432</td> <td>0.503</td> <td>0.9 </td> <td>1.2 </td> <td>0.738</td> <td>1.4 </td> <td>6.2 </td> <td>7.6 </td> <td>1.2 </td> <td>1.1 </td> <td>0.6 </td> <td>1.1 </td> <td>2   </td> <td>9.3 </td> <td>179 </td> <td>POR </td> <td>6.95710e+06</td>\n",
       "        </tr>\n",
       "        <tr>\n",
       "            <td>Alec Burks\\burksal01      </td> <td>78  </td> <td>SG  </td> <td>26  </td> <td>UTA </td> <td>64  </td> <td>1   </td> <td>16.5</td> <td>2.7 </td> <td>6.5 </td> <td>0.411</td> <td>0.7 </td> <td>2.2 </td> <td>0.331</td> <td>1.9 </td> <td>4.3 </td> <td>0.452</td> <td>0.467</td> <td>1.7 </td> <td>1.9 </td> <td>0.863</td> <td>0.3 </td> <td>2.7 </td> <td>3   </td> <td>1   </td> <td>0.6 </td> <td>0.1 </td> <td>0.9 </td> <td>1.2 </td> <td>7.7 </td> <td>120 </td> <td>UTA </td> <td>1.15365e+07</td>\n",
       "        </tr>\n",
       "        <tr>\n",
       "            <td>Alex Len\\lenal01          </td> <td>292 </td> <td>C   </td> <td>24  </td> <td>PHO </td> <td>69  </td> <td>13  </td> <td>20.2</td> <td>3.1 </td> <td>5.5 </td> <td>0.566</td> <td>0   </td> <td>0   </td> <td>0.333</td> <td>3.1 </td> <td>5.4 </td> <td>0.568</td> <td>0.567</td> <td>2.3 </td> <td>3.3 </td> <td>0.684</td> <td>2.5 </td> <td>5   </td> <td>7.5 </td> <td>1.2 </td> <td>0.4 </td> <td>0.9 </td> <td>1.1 </td> <td>2.3 </td> <td>8.5 </td> <td>227 </td> <td>ATL </td> <td>4.35e+06   </td>\n",
       "        </tr>\n",
       "        <tr>\n",
       "            <td>Alfonzo McKinnie\\mckinal01</td> <td>330 </td> <td>SF  </td> <td>25  </td> <td>TOR </td> <td>14  </td> <td>0   </td> <td>3.8 </td> <td>0.6 </td> <td>1.1 </td> <td>0.533</td> <td>0.2 </td> <td>0.6 </td> <td>0.333</td> <td>0.4 </td> <td>0.4 </td> <td>0.833</td> <td>0.633</td> <td>0.1 </td> <td>0.2 </td> <td>0.667</td> <td>0.1 </td> <td>0.4 </td> <td>0.5 </td> <td>0.1 </td> <td>0.1 </td> <td>0.1 </td> <td>0.2 </td> <td>0.6 </td> <td>1.5 </td> <td>383 </td> <td>GSW </td> <td>1.34938e+06</td>\n",
       "        </tr>\n",
       "        <tr>\n",
       "            <td>Alfonzo McKinnie\\mckinal01</td> <td>330 </td> <td>SF  </td> <td>25  </td> <td>TOR </td> <td>14  </td> <td>0   </td> <td>3.8 </td> <td>0.6 </td> <td>1.1 </td> <td>0.533</td> <td>0.2 </td> <td>0.6 </td> <td>0.333</td> <td>0.4 </td> <td>0.4 </td> <td>0.833</td> <td>0.633</td> <td>0.1 </td> <td>0.2 </td> <td>0.667</td> <td>0.1 </td> <td>0.4 </td> <td>0.5 </td> <td>0.1 </td> <td>0.1 </td> <td>0.1 </td> <td>0.2 </td> <td>0.6 </td> <td>1.5 </td> <td>446 </td> <td>GSW </td> <td>1.34938e+06</td>\n",
       "        </tr>\n",
       "        <tr>\n",
       "            <td>Allen Crabbe\\crabbal01    </td> <td>114 </td> <td>SG  </td> <td>25  </td> <td>BRK </td> <td>75  </td> <td>68  </td> <td>29.3</td> <td>4.5 </td> <td>11  </td> <td>0.407</td> <td>2.7 </td> <td>7.1 </td> <td>0.378</td> <td>1.8 </td> <td>3.9 </td> <td>0.461</td> <td>0.529</td> <td>1.5 </td> <td>1.8 </td> <td>0.852</td> <td>0.4 </td> <td>3.9 </td> <td>4.3 </td> <td>1.6 </td> <td>0.6 </td> <td>0.5 </td> <td>1   </td> <td>2.2 </td> <td>13.2</td> <td>57  </td> <td>BRK </td> <td>1.85e+07   </td>\n",
       "        </tr>\n",
       "    </tbody>\n",
       "</table>\n",
       "<p>... (429 rows omitted)</p>"
      ],
      "text/plain": [
       "Player                     | Rk   | Pos  | Age  | Tm   | G    | GS   | MP   | FG   | FGA  | FG%   | 3P   | 3PA  | 3P%   | 2P   | 2PA  | 2P%   | eFG%  | FT   | FTA  | FT%   | ORB  | DRB  | TRB  | AST  | STL  | BLK  | TOV  | PF   | PS/G | Rk_2 | Tm_2 | 2018-19\n",
       "Aaron Gordon\\gordoaa01     | 179  | PF   | 22   | ORL  | 58   | 57   | 32.9 | 6.5  | 14.9 | 0.434 | 2    | 5.9  | 0.336 | 4.5  | 9    | 0.497 | 0.5   | 2.7  | 3.9  | 0.698 | 1.5  | 6.4  | 7.9  | 2.3  | 1    | 0.8  | 1.8  | 1.9  | 17.6 | 40   | ORL  | 2.15909e+07\n",
       "Abdel Nader\\naderab01      | 363  | SF   | 24   | BOS  | 48   | 1    | 10.9 | 1    | 3.1  | 0.336 | 0.5  | 1.4  | 0.354 | 0.6  | 1.8  | 0.321 | 0.413 | 0.5  | 0.8  | 0.59  | 0.3  | 1.2  | 1.5  | 0.5  | 0.3  | 0.2  | 0.7  | 0.9  | 3    | 422  | OKC  | 1.37824e+06\n",
       "Al Horford\\horfoal01       | 227  | C    | 31   | BOS  | 72   | 72   | 31.6 | 5.1  | 10.5 | 0.489 | 1.3  | 3.1  | 0.429 | 3.8  | 7.3  | 0.514 | 0.553 | 1.3  | 1.7  | 0.783 | 1.4  | 5.9  | 7.4  | 4.7  | 0.6  | 1.1  | 1.8  | 1.9  | 12.9 | 13   | BOS  | 2.89287e+07\n",
       "Al Jefferson\\jeffeal01     | 250  | C    | 33   | IND  | 36   | 1    | 13.4 | 3.1  | 5.8  | 0.534 | 0    | 0.1  | 0     | 3.1  | 5.7  | 0.541 | 0.534 | 0.8  | 1    | 0.833 | 0.8  | 3.1  | 4    | 0.8  | 0.4  | 0.6  | 0.6  | 1.8  | 7    | 235  | IND  | 4e+06\n",
       "Al-Farouq Aminu\\aminual01  | 11   | PF   | 27   | POR  | 69   | 67   | 30   | 3.3  | 8.4  | 0.395 | 1.8  | 4.9  | 0.369 | 1.5  | 3.5  | 0.432 | 0.503 | 0.9  | 1.2  | 0.738 | 1.4  | 6.2  | 7.6  | 1.2  | 1.1  | 0.6  | 1.1  | 2    | 9.3  | 179  | POR  | 6.95710e+06\n",
       "Alec Burks\\burksal01       | 78   | SG   | 26   | UTA  | 64   | 1    | 16.5 | 2.7  | 6.5  | 0.411 | 0.7  | 2.2  | 0.331 | 1.9  | 4.3  | 0.452 | 0.467 | 1.7  | 1.9  | 0.863 | 0.3  | 2.7  | 3    | 1    | 0.6  | 0.1  | 0.9  | 1.2  | 7.7  | 120  | UTA  | 1.15365e+07\n",
       "Alex Len\\lenal01           | 292  | C    | 24   | PHO  | 69   | 13   | 20.2 | 3.1  | 5.5  | 0.566 | 0    | 0    | 0.333 | 3.1  | 5.4  | 0.568 | 0.567 | 2.3  | 3.3  | 0.684 | 2.5  | 5    | 7.5  | 1.2  | 0.4  | 0.9  | 1.1  | 2.3  | 8.5  | 227  | ATL  | 4.35e+06\n",
       "Alfonzo McKinnie\\mckinal01 | 330  | SF   | 25   | TOR  | 14   | 0    | 3.8  | 0.6  | 1.1  | 0.533 | 0.2  | 0.6  | 0.333 | 0.4  | 0.4  | 0.833 | 0.633 | 0.1  | 0.2  | 0.667 | 0.1  | 0.4  | 0.5  | 0.1  | 0.1  | 0.1  | 0.2  | 0.6  | 1.5  | 383  | GSW  | 1.34938e+06\n",
       "Alfonzo McKinnie\\mckinal01 | 330  | SF   | 25   | TOR  | 14   | 0    | 3.8  | 0.6  | 1.1  | 0.533 | 0.2  | 0.6  | 0.333 | 0.4  | 0.4  | 0.833 | 0.633 | 0.1  | 0.2  | 0.667 | 0.1  | 0.4  | 0.5  | 0.1  | 0.1  | 0.1  | 0.2  | 0.6  | 1.5  | 446  | GSW  | 1.34938e+06\n",
       "Allen Crabbe\\crabbal01     | 114  | SG   | 25   | BRK  | 75   | 68   | 29.3 | 4.5  | 11   | 0.407 | 2.7  | 7.1  | 0.378 | 1.8  | 3.9  | 0.461 | 0.529 | 1.5  | 1.8  | 0.852 | 0.4  | 3.9  | 4.3  | 1.6  | 0.6  | 0.5  | 1    | 2.2  | 13.2 | 57   | BRK  | 1.85e+07\n",
       "... (429 rows omitted)"
      ]
     },
     "execution_count": 453,
     "metadata": {},
     "output_type": "execute_result"
    }
   ],
   "source": [
    "clean_data"
   ]
  },
  {
   "cell_type": "code",
   "execution_count": 454,
   "metadata": {
    "scrolled": true
   },
   "outputs": [
    {
     "data": {
      "text/html": [
       "<table border=\"1\" class=\"dataframe\">\n",
       "    <thead>\n",
       "        <tr>\n",
       "            <th>Player</th> <th>Rk</th> <th>Pos</th> <th>Age</th> <th>Tm</th> <th>G</th> <th>GS</th> <th>MP</th> <th>FG</th> <th>FGA</th> <th>FG%</th> <th>3P</th> <th>3PA</th> <th>3P%</th> <th>2P</th> <th>2PA</th> <th>2P%</th> <th>eFG%</th> <th>FT</th> <th>FTA</th> <th>FT%</th> <th>ORB</th> <th>DRB</th> <th>TRB</th> <th>AST</th> <th>STL</th> <th>BLK</th> <th>TOV</th> <th>PF</th> <th>PS/G</th> <th>Rk_2</th> <th>Tm_2</th> <th>2018-19</th>\n",
       "        </tr>\n",
       "    </thead>\n",
       "    <tbody>\n",
       "        <tr>\n",
       "            <td>Aaron Gordon\\gordoaa01    </td> <td>179 </td> <td>PF  </td> <td>22  </td> <td>ORL </td> <td>58  </td> <td>57  </td> <td>32.9</td> <td>6.5 </td> <td>14.9</td> <td>0.434</td> <td>2   </td> <td>5.9 </td> <td>0.336</td> <td>4.5 </td> <td>9   </td> <td>0.497</td> <td>0.5  </td> <td>2.7 </td> <td>3.9 </td> <td>0.698</td> <td>1.5 </td> <td>6.4 </td> <td>7.9 </td> <td>2.3 </td> <td>1   </td> <td>0.8 </td> <td>1.8 </td> <td>1.9 </td> <td>17.6</td> <td>40  </td> <td>ORL </td> <td>2.15909e+07</td>\n",
       "        </tr>\n",
       "        <tr>\n",
       "            <td>Abdel Nader\\naderab01     </td> <td>363 </td> <td>SF  </td> <td>24  </td> <td>BOS </td> <td>48  </td> <td>1   </td> <td>10.9</td> <td>1   </td> <td>3.1 </td> <td>0.336</td> <td>0.5 </td> <td>1.4 </td> <td>0.354</td> <td>0.6 </td> <td>1.8 </td> <td>0.321</td> <td>0.413</td> <td>0.5 </td> <td>0.8 </td> <td>0.59 </td> <td>0.3 </td> <td>1.2 </td> <td>1.5 </td> <td>0.5 </td> <td>0.3 </td> <td>0.2 </td> <td>0.7 </td> <td>0.9 </td> <td>3   </td> <td>422 </td> <td>OKC </td> <td>1.37824e+06</td>\n",
       "        </tr>\n",
       "        <tr>\n",
       "            <td>Al Horford\\horfoal01      </td> <td>227 </td> <td>C   </td> <td>31  </td> <td>BOS </td> <td>72  </td> <td>72  </td> <td>31.6</td> <td>5.1 </td> <td>10.5</td> <td>0.489</td> <td>1.3 </td> <td>3.1 </td> <td>0.429</td> <td>3.8 </td> <td>7.3 </td> <td>0.514</td> <td>0.553</td> <td>1.3 </td> <td>1.7 </td> <td>0.783</td> <td>1.4 </td> <td>5.9 </td> <td>7.4 </td> <td>4.7 </td> <td>0.6 </td> <td>1.1 </td> <td>1.8 </td> <td>1.9 </td> <td>12.9</td> <td>13  </td> <td>BOS </td> <td>2.89287e+07</td>\n",
       "        </tr>\n",
       "        <tr>\n",
       "            <td>Al Jefferson\\jeffeal01    </td> <td>250 </td> <td>C   </td> <td>33  </td> <td>IND </td> <td>36  </td> <td>1   </td> <td>13.4</td> <td>3.1 </td> <td>5.8 </td> <td>0.534</td> <td>0   </td> <td>0.1 </td> <td>0    </td> <td>3.1 </td> <td>5.7 </td> <td>0.541</td> <td>0.534</td> <td>0.8 </td> <td>1   </td> <td>0.833</td> <td>0.8 </td> <td>3.1 </td> <td>4   </td> <td>0.8 </td> <td>0.4 </td> <td>0.6 </td> <td>0.6 </td> <td>1.8 </td> <td>7   </td> <td>235 </td> <td>IND </td> <td>4e+06      </td>\n",
       "        </tr>\n",
       "        <tr>\n",
       "            <td>Al-Farouq Aminu\\aminual01 </td> <td>11  </td> <td>PF  </td> <td>27  </td> <td>POR </td> <td>69  </td> <td>67  </td> <td>30  </td> <td>3.3 </td> <td>8.4 </td> <td>0.395</td> <td>1.8 </td> <td>4.9 </td> <td>0.369</td> <td>1.5 </td> <td>3.5 </td> <td>0.432</td> <td>0.503</td> <td>0.9 </td> <td>1.2 </td> <td>0.738</td> <td>1.4 </td> <td>6.2 </td> <td>7.6 </td> <td>1.2 </td> <td>1.1 </td> <td>0.6 </td> <td>1.1 </td> <td>2   </td> <td>9.3 </td> <td>179 </td> <td>POR </td> <td>6.95710e+06</td>\n",
       "        </tr>\n",
       "        <tr>\n",
       "            <td>Alec Burks\\burksal01      </td> <td>78  </td> <td>SG  </td> <td>26  </td> <td>UTA </td> <td>64  </td> <td>1   </td> <td>16.5</td> <td>2.7 </td> <td>6.5 </td> <td>0.411</td> <td>0.7 </td> <td>2.2 </td> <td>0.331</td> <td>1.9 </td> <td>4.3 </td> <td>0.452</td> <td>0.467</td> <td>1.7 </td> <td>1.9 </td> <td>0.863</td> <td>0.3 </td> <td>2.7 </td> <td>3   </td> <td>1   </td> <td>0.6 </td> <td>0.1 </td> <td>0.9 </td> <td>1.2 </td> <td>7.7 </td> <td>120 </td> <td>UTA </td> <td>1.15365e+07</td>\n",
       "        </tr>\n",
       "        <tr>\n",
       "            <td>Alex Len\\lenal01          </td> <td>292 </td> <td>C   </td> <td>24  </td> <td>PHO </td> <td>69  </td> <td>13  </td> <td>20.2</td> <td>3.1 </td> <td>5.5 </td> <td>0.566</td> <td>0   </td> <td>0   </td> <td>0.333</td> <td>3.1 </td> <td>5.4 </td> <td>0.568</td> <td>0.567</td> <td>2.3 </td> <td>3.3 </td> <td>0.684</td> <td>2.5 </td> <td>5   </td> <td>7.5 </td> <td>1.2 </td> <td>0.4 </td> <td>0.9 </td> <td>1.1 </td> <td>2.3 </td> <td>8.5 </td> <td>227 </td> <td>ATL </td> <td>4.35e+06   </td>\n",
       "        </tr>\n",
       "        <tr>\n",
       "            <td>Alfonzo McKinnie\\mckinal01</td> <td>330 </td> <td>SF  </td> <td>25  </td> <td>TOR </td> <td>14  </td> <td>0   </td> <td>3.8 </td> <td>0.6 </td> <td>1.1 </td> <td>0.533</td> <td>0.2 </td> <td>0.6 </td> <td>0.333</td> <td>0.4 </td> <td>0.4 </td> <td>0.833</td> <td>0.633</td> <td>0.1 </td> <td>0.2 </td> <td>0.667</td> <td>0.1 </td> <td>0.4 </td> <td>0.5 </td> <td>0.1 </td> <td>0.1 </td> <td>0.1 </td> <td>0.2 </td> <td>0.6 </td> <td>1.5 </td> <td>383 </td> <td>GSW </td> <td>1.34938e+06</td>\n",
       "        </tr>\n",
       "        <tr>\n",
       "            <td>Alfonzo McKinnie\\mckinal01</td> <td>330 </td> <td>SF  </td> <td>25  </td> <td>TOR </td> <td>14  </td> <td>0   </td> <td>3.8 </td> <td>0.6 </td> <td>1.1 </td> <td>0.533</td> <td>0.2 </td> <td>0.6 </td> <td>0.333</td> <td>0.4 </td> <td>0.4 </td> <td>0.833</td> <td>0.633</td> <td>0.1 </td> <td>0.2 </td> <td>0.667</td> <td>0.1 </td> <td>0.4 </td> <td>0.5 </td> <td>0.1 </td> <td>0.1 </td> <td>0.1 </td> <td>0.2 </td> <td>0.6 </td> <td>1.5 </td> <td>446 </td> <td>GSW </td> <td>1.34938e+06</td>\n",
       "        </tr>\n",
       "        <tr>\n",
       "            <td>Allen Crabbe\\crabbal01    </td> <td>114 </td> <td>SG  </td> <td>25  </td> <td>BRK </td> <td>75  </td> <td>68  </td> <td>29.3</td> <td>4.5 </td> <td>11  </td> <td>0.407</td> <td>2.7 </td> <td>7.1 </td> <td>0.378</td> <td>1.8 </td> <td>3.9 </td> <td>0.461</td> <td>0.529</td> <td>1.5 </td> <td>1.8 </td> <td>0.852</td> <td>0.4 </td> <td>3.9 </td> <td>4.3 </td> <td>1.6 </td> <td>0.6 </td> <td>0.5 </td> <td>1   </td> <td>2.2 </td> <td>13.2</td> <td>57  </td> <td>BRK </td> <td>1.85e+07   </td>\n",
       "        </tr>\n",
       "    </tbody>\n",
       "</table>\n",
       "<p>... (429 rows omitted)</p>"
      ],
      "text/plain": [
       "Player                     | Rk   | Pos  | Age  | Tm   | G    | GS   | MP   | FG   | FGA  | FG%   | 3P   | 3PA  | 3P%   | 2P   | 2PA  | 2P%   | eFG%  | FT   | FTA  | FT%   | ORB  | DRB  | TRB  | AST  | STL  | BLK  | TOV  | PF   | PS/G | Rk_2 | Tm_2 | 2018-19\n",
       "Aaron Gordon\\gordoaa01     | 179  | PF   | 22   | ORL  | 58   | 57   | 32.9 | 6.5  | 14.9 | 0.434 | 2    | 5.9  | 0.336 | 4.5  | 9    | 0.497 | 0.5   | 2.7  | 3.9  | 0.698 | 1.5  | 6.4  | 7.9  | 2.3  | 1    | 0.8  | 1.8  | 1.9  | 17.6 | 40   | ORL  | 2.15909e+07\n",
       "Abdel Nader\\naderab01      | 363  | SF   | 24   | BOS  | 48   | 1    | 10.9 | 1    | 3.1  | 0.336 | 0.5  | 1.4  | 0.354 | 0.6  | 1.8  | 0.321 | 0.413 | 0.5  | 0.8  | 0.59  | 0.3  | 1.2  | 1.5  | 0.5  | 0.3  | 0.2  | 0.7  | 0.9  | 3    | 422  | OKC  | 1.37824e+06\n",
       "Al Horford\\horfoal01       | 227  | C    | 31   | BOS  | 72   | 72   | 31.6 | 5.1  | 10.5 | 0.489 | 1.3  | 3.1  | 0.429 | 3.8  | 7.3  | 0.514 | 0.553 | 1.3  | 1.7  | 0.783 | 1.4  | 5.9  | 7.4  | 4.7  | 0.6  | 1.1  | 1.8  | 1.9  | 12.9 | 13   | BOS  | 2.89287e+07\n",
       "Al Jefferson\\jeffeal01     | 250  | C    | 33   | IND  | 36   | 1    | 13.4 | 3.1  | 5.8  | 0.534 | 0    | 0.1  | 0     | 3.1  | 5.7  | 0.541 | 0.534 | 0.8  | 1    | 0.833 | 0.8  | 3.1  | 4    | 0.8  | 0.4  | 0.6  | 0.6  | 1.8  | 7    | 235  | IND  | 4e+06\n",
       "Al-Farouq Aminu\\aminual01  | 11   | PF   | 27   | POR  | 69   | 67   | 30   | 3.3  | 8.4  | 0.395 | 1.8  | 4.9  | 0.369 | 1.5  | 3.5  | 0.432 | 0.503 | 0.9  | 1.2  | 0.738 | 1.4  | 6.2  | 7.6  | 1.2  | 1.1  | 0.6  | 1.1  | 2    | 9.3  | 179  | POR  | 6.95710e+06\n",
       "Alec Burks\\burksal01       | 78   | SG   | 26   | UTA  | 64   | 1    | 16.5 | 2.7  | 6.5  | 0.411 | 0.7  | 2.2  | 0.331 | 1.9  | 4.3  | 0.452 | 0.467 | 1.7  | 1.9  | 0.863 | 0.3  | 2.7  | 3    | 1    | 0.6  | 0.1  | 0.9  | 1.2  | 7.7  | 120  | UTA  | 1.15365e+07\n",
       "Alex Len\\lenal01           | 292  | C    | 24   | PHO  | 69   | 13   | 20.2 | 3.1  | 5.5  | 0.566 | 0    | 0    | 0.333 | 3.1  | 5.4  | 0.568 | 0.567 | 2.3  | 3.3  | 0.684 | 2.5  | 5    | 7.5  | 1.2  | 0.4  | 0.9  | 1.1  | 2.3  | 8.5  | 227  | ATL  | 4.35e+06\n",
       "Alfonzo McKinnie\\mckinal01 | 330  | SF   | 25   | TOR  | 14   | 0    | 3.8  | 0.6  | 1.1  | 0.533 | 0.2  | 0.6  | 0.333 | 0.4  | 0.4  | 0.833 | 0.633 | 0.1  | 0.2  | 0.667 | 0.1  | 0.4  | 0.5  | 0.1  | 0.1  | 0.1  | 0.2  | 0.6  | 1.5  | 383  | GSW  | 1.34938e+06\n",
       "Alfonzo McKinnie\\mckinal01 | 330  | SF   | 25   | TOR  | 14   | 0    | 3.8  | 0.6  | 1.1  | 0.533 | 0.2  | 0.6  | 0.333 | 0.4  | 0.4  | 0.833 | 0.633 | 0.1  | 0.2  | 0.667 | 0.1  | 0.4  | 0.5  | 0.1  | 0.1  | 0.1  | 0.2  | 0.6  | 1.5  | 446  | GSW  | 1.34938e+06\n",
       "Allen Crabbe\\crabbal01     | 114  | SG   | 25   | BRK  | 75   | 68   | 29.3 | 4.5  | 11   | 0.407 | 2.7  | 7.1  | 0.378 | 1.8  | 3.9  | 0.461 | 0.529 | 1.5  | 1.8  | 0.852 | 0.4  | 3.9  | 4.3  | 1.6  | 0.6  | 0.5  | 1    | 2.2  | 13.2 | 57   | BRK  | 1.85e+07\n",
       "... (429 rows omitted)"
      ]
     },
     "execution_count": 454,
     "metadata": {},
     "output_type": "execute_result"
    }
   ],
   "source": [
    "clean_data"
   ]
  },
  {
   "cell_type": "code",
   "execution_count": 455,
   "metadata": {},
   "outputs": [],
   "source": [
    "players = clean_data.where('Player', are.not_equal_to('nan'))"
   ]
  },
  {
   "cell_type": "code",
   "execution_count": 456,
   "metadata": {},
   "outputs": [
    {
     "data": {
      "text/html": [
       "<table border=\"1\" class=\"dataframe\">\n",
       "    <thead>\n",
       "        <tr>\n",
       "            <th>Player</th> <th>Rk</th> <th>Pos</th> <th>Age</th> <th>Tm</th> <th>G</th> <th>GS</th> <th>MP</th> <th>FG</th> <th>FGA</th> <th>FG%</th> <th>3P</th> <th>3PA</th> <th>3P%</th> <th>2P</th> <th>2PA</th> <th>2P%</th> <th>eFG%</th> <th>FT</th> <th>FTA</th> <th>FT%</th> <th>ORB</th> <th>DRB</th> <th>TRB</th> <th>AST</th> <th>STL</th> <th>BLK</th> <th>TOV</th> <th>PF</th> <th>PS/G</th> <th>Rk_2</th> <th>Tm_2</th> <th>2018-19</th>\n",
       "        </tr>\n",
       "    </thead>\n",
       "    <tbody>\n",
       "        <tr>\n",
       "            <td>Aaron Gordon\\gordoaa01    </td> <td>179 </td> <td>PF  </td> <td>22  </td> <td>ORL </td> <td>58  </td> <td>57  </td> <td>32.9</td> <td>6.5 </td> <td>14.9</td> <td>0.434</td> <td>2   </td> <td>5.9 </td> <td>0.336</td> <td>4.5 </td> <td>9   </td> <td>0.497</td> <td>0.5  </td> <td>2.7 </td> <td>3.9 </td> <td>0.698</td> <td>1.5 </td> <td>6.4 </td> <td>7.9 </td> <td>2.3 </td> <td>1   </td> <td>0.8 </td> <td>1.8 </td> <td>1.9 </td> <td>17.6</td> <td>40  </td> <td>ORL </td> <td>2.15909e+07</td>\n",
       "        </tr>\n",
       "        <tr>\n",
       "            <td>Abdel Nader\\naderab01     </td> <td>363 </td> <td>SF  </td> <td>24  </td> <td>BOS </td> <td>48  </td> <td>1   </td> <td>10.9</td> <td>1   </td> <td>3.1 </td> <td>0.336</td> <td>0.5 </td> <td>1.4 </td> <td>0.354</td> <td>0.6 </td> <td>1.8 </td> <td>0.321</td> <td>0.413</td> <td>0.5 </td> <td>0.8 </td> <td>0.59 </td> <td>0.3 </td> <td>1.2 </td> <td>1.5 </td> <td>0.5 </td> <td>0.3 </td> <td>0.2 </td> <td>0.7 </td> <td>0.9 </td> <td>3   </td> <td>422 </td> <td>OKC </td> <td>1.37824e+06</td>\n",
       "        </tr>\n",
       "        <tr>\n",
       "            <td>Al Horford\\horfoal01      </td> <td>227 </td> <td>C   </td> <td>31  </td> <td>BOS </td> <td>72  </td> <td>72  </td> <td>31.6</td> <td>5.1 </td> <td>10.5</td> <td>0.489</td> <td>1.3 </td> <td>3.1 </td> <td>0.429</td> <td>3.8 </td> <td>7.3 </td> <td>0.514</td> <td>0.553</td> <td>1.3 </td> <td>1.7 </td> <td>0.783</td> <td>1.4 </td> <td>5.9 </td> <td>7.4 </td> <td>4.7 </td> <td>0.6 </td> <td>1.1 </td> <td>1.8 </td> <td>1.9 </td> <td>12.9</td> <td>13  </td> <td>BOS </td> <td>2.89287e+07</td>\n",
       "        </tr>\n",
       "        <tr>\n",
       "            <td>Al Jefferson\\jeffeal01    </td> <td>250 </td> <td>C   </td> <td>33  </td> <td>IND </td> <td>36  </td> <td>1   </td> <td>13.4</td> <td>3.1 </td> <td>5.8 </td> <td>0.534</td> <td>0   </td> <td>0.1 </td> <td>0    </td> <td>3.1 </td> <td>5.7 </td> <td>0.541</td> <td>0.534</td> <td>0.8 </td> <td>1   </td> <td>0.833</td> <td>0.8 </td> <td>3.1 </td> <td>4   </td> <td>0.8 </td> <td>0.4 </td> <td>0.6 </td> <td>0.6 </td> <td>1.8 </td> <td>7   </td> <td>235 </td> <td>IND </td> <td>4e+06      </td>\n",
       "        </tr>\n",
       "        <tr>\n",
       "            <td>Al-Farouq Aminu\\aminual01 </td> <td>11  </td> <td>PF  </td> <td>27  </td> <td>POR </td> <td>69  </td> <td>67  </td> <td>30  </td> <td>3.3 </td> <td>8.4 </td> <td>0.395</td> <td>1.8 </td> <td>4.9 </td> <td>0.369</td> <td>1.5 </td> <td>3.5 </td> <td>0.432</td> <td>0.503</td> <td>0.9 </td> <td>1.2 </td> <td>0.738</td> <td>1.4 </td> <td>6.2 </td> <td>7.6 </td> <td>1.2 </td> <td>1.1 </td> <td>0.6 </td> <td>1.1 </td> <td>2   </td> <td>9.3 </td> <td>179 </td> <td>POR </td> <td>6.95710e+06</td>\n",
       "        </tr>\n",
       "        <tr>\n",
       "            <td>Alec Burks\\burksal01      </td> <td>78  </td> <td>SG  </td> <td>26  </td> <td>UTA </td> <td>64  </td> <td>1   </td> <td>16.5</td> <td>2.7 </td> <td>6.5 </td> <td>0.411</td> <td>0.7 </td> <td>2.2 </td> <td>0.331</td> <td>1.9 </td> <td>4.3 </td> <td>0.452</td> <td>0.467</td> <td>1.7 </td> <td>1.9 </td> <td>0.863</td> <td>0.3 </td> <td>2.7 </td> <td>3   </td> <td>1   </td> <td>0.6 </td> <td>0.1 </td> <td>0.9 </td> <td>1.2 </td> <td>7.7 </td> <td>120 </td> <td>UTA </td> <td>1.15365e+07</td>\n",
       "        </tr>\n",
       "        <tr>\n",
       "            <td>Alex Len\\lenal01          </td> <td>292 </td> <td>C   </td> <td>24  </td> <td>PHO </td> <td>69  </td> <td>13  </td> <td>20.2</td> <td>3.1 </td> <td>5.5 </td> <td>0.566</td> <td>0   </td> <td>0   </td> <td>0.333</td> <td>3.1 </td> <td>5.4 </td> <td>0.568</td> <td>0.567</td> <td>2.3 </td> <td>3.3 </td> <td>0.684</td> <td>2.5 </td> <td>5   </td> <td>7.5 </td> <td>1.2 </td> <td>0.4 </td> <td>0.9 </td> <td>1.1 </td> <td>2.3 </td> <td>8.5 </td> <td>227 </td> <td>ATL </td> <td>4.35e+06   </td>\n",
       "        </tr>\n",
       "        <tr>\n",
       "            <td>Alfonzo McKinnie\\mckinal01</td> <td>330 </td> <td>SF  </td> <td>25  </td> <td>TOR </td> <td>14  </td> <td>0   </td> <td>3.8 </td> <td>0.6 </td> <td>1.1 </td> <td>0.533</td> <td>0.2 </td> <td>0.6 </td> <td>0.333</td> <td>0.4 </td> <td>0.4 </td> <td>0.833</td> <td>0.633</td> <td>0.1 </td> <td>0.2 </td> <td>0.667</td> <td>0.1 </td> <td>0.4 </td> <td>0.5 </td> <td>0.1 </td> <td>0.1 </td> <td>0.1 </td> <td>0.2 </td> <td>0.6 </td> <td>1.5 </td> <td>383 </td> <td>GSW </td> <td>1.34938e+06</td>\n",
       "        </tr>\n",
       "        <tr>\n",
       "            <td>Alfonzo McKinnie\\mckinal01</td> <td>330 </td> <td>SF  </td> <td>25  </td> <td>TOR </td> <td>14  </td> <td>0   </td> <td>3.8 </td> <td>0.6 </td> <td>1.1 </td> <td>0.533</td> <td>0.2 </td> <td>0.6 </td> <td>0.333</td> <td>0.4 </td> <td>0.4 </td> <td>0.833</td> <td>0.633</td> <td>0.1 </td> <td>0.2 </td> <td>0.667</td> <td>0.1 </td> <td>0.4 </td> <td>0.5 </td> <td>0.1 </td> <td>0.1 </td> <td>0.1 </td> <td>0.2 </td> <td>0.6 </td> <td>1.5 </td> <td>446 </td> <td>GSW </td> <td>1.34938e+06</td>\n",
       "        </tr>\n",
       "        <tr>\n",
       "            <td>Allen Crabbe\\crabbal01    </td> <td>114 </td> <td>SG  </td> <td>25  </td> <td>BRK </td> <td>75  </td> <td>68  </td> <td>29.3</td> <td>4.5 </td> <td>11  </td> <td>0.407</td> <td>2.7 </td> <td>7.1 </td> <td>0.378</td> <td>1.8 </td> <td>3.9 </td> <td>0.461</td> <td>0.529</td> <td>1.5 </td> <td>1.8 </td> <td>0.852</td> <td>0.4 </td> <td>3.9 </td> <td>4.3 </td> <td>1.6 </td> <td>0.6 </td> <td>0.5 </td> <td>1   </td> <td>2.2 </td> <td>13.2</td> <td>57  </td> <td>BRK </td> <td>1.85e+07   </td>\n",
       "        </tr>\n",
       "    </tbody>\n",
       "</table>\n",
       "<p>... (302 rows omitted)</p>"
      ],
      "text/plain": [
       "Player                     | Rk   | Pos  | Age  | Tm   | G    | GS   | MP   | FG   | FGA  | FG%   | 3P   | 3PA  | 3P%   | 2P   | 2PA  | 2P%   | eFG%  | FT   | FTA  | FT%   | ORB  | DRB  | TRB  | AST  | STL  | BLK  | TOV  | PF   | PS/G | Rk_2 | Tm_2 | 2018-19\n",
       "Aaron Gordon\\gordoaa01     | 179  | PF   | 22   | ORL  | 58   | 57   | 32.9 | 6.5  | 14.9 | 0.434 | 2    | 5.9  | 0.336 | 4.5  | 9    | 0.497 | 0.5   | 2.7  | 3.9  | 0.698 | 1.5  | 6.4  | 7.9  | 2.3  | 1    | 0.8  | 1.8  | 1.9  | 17.6 | 40   | ORL  | 2.15909e+07\n",
       "Abdel Nader\\naderab01      | 363  | SF   | 24   | BOS  | 48   | 1    | 10.9 | 1    | 3.1  | 0.336 | 0.5  | 1.4  | 0.354 | 0.6  | 1.8  | 0.321 | 0.413 | 0.5  | 0.8  | 0.59  | 0.3  | 1.2  | 1.5  | 0.5  | 0.3  | 0.2  | 0.7  | 0.9  | 3    | 422  | OKC  | 1.37824e+06\n",
       "Al Horford\\horfoal01       | 227  | C    | 31   | BOS  | 72   | 72   | 31.6 | 5.1  | 10.5 | 0.489 | 1.3  | 3.1  | 0.429 | 3.8  | 7.3  | 0.514 | 0.553 | 1.3  | 1.7  | 0.783 | 1.4  | 5.9  | 7.4  | 4.7  | 0.6  | 1.1  | 1.8  | 1.9  | 12.9 | 13   | BOS  | 2.89287e+07\n",
       "Al Jefferson\\jeffeal01     | 250  | C    | 33   | IND  | 36   | 1    | 13.4 | 3.1  | 5.8  | 0.534 | 0    | 0.1  | 0     | 3.1  | 5.7  | 0.541 | 0.534 | 0.8  | 1    | 0.833 | 0.8  | 3.1  | 4    | 0.8  | 0.4  | 0.6  | 0.6  | 1.8  | 7    | 235  | IND  | 4e+06\n",
       "Al-Farouq Aminu\\aminual01  | 11   | PF   | 27   | POR  | 69   | 67   | 30   | 3.3  | 8.4  | 0.395 | 1.8  | 4.9  | 0.369 | 1.5  | 3.5  | 0.432 | 0.503 | 0.9  | 1.2  | 0.738 | 1.4  | 6.2  | 7.6  | 1.2  | 1.1  | 0.6  | 1.1  | 2    | 9.3  | 179  | POR  | 6.95710e+06\n",
       "Alec Burks\\burksal01       | 78   | SG   | 26   | UTA  | 64   | 1    | 16.5 | 2.7  | 6.5  | 0.411 | 0.7  | 2.2  | 0.331 | 1.9  | 4.3  | 0.452 | 0.467 | 1.7  | 1.9  | 0.863 | 0.3  | 2.7  | 3    | 1    | 0.6  | 0.1  | 0.9  | 1.2  | 7.7  | 120  | UTA  | 1.15365e+07\n",
       "Alex Len\\lenal01           | 292  | C    | 24   | PHO  | 69   | 13   | 20.2 | 3.1  | 5.5  | 0.566 | 0    | 0    | 0.333 | 3.1  | 5.4  | 0.568 | 0.567 | 2.3  | 3.3  | 0.684 | 2.5  | 5    | 7.5  | 1.2  | 0.4  | 0.9  | 1.1  | 2.3  | 8.5  | 227  | ATL  | 4.35e+06\n",
       "Alfonzo McKinnie\\mckinal01 | 330  | SF   | 25   | TOR  | 14   | 0    | 3.8  | 0.6  | 1.1  | 0.533 | 0.2  | 0.6  | 0.333 | 0.4  | 0.4  | 0.833 | 0.633 | 0.1  | 0.2  | 0.667 | 0.1  | 0.4  | 0.5  | 0.1  | 0.1  | 0.1  | 0.2  | 0.6  | 1.5  | 383  | GSW  | 1.34938e+06\n",
       "Alfonzo McKinnie\\mckinal01 | 330  | SF   | 25   | TOR  | 14   | 0    | 3.8  | 0.6  | 1.1  | 0.533 | 0.2  | 0.6  | 0.333 | 0.4  | 0.4  | 0.833 | 0.633 | 0.1  | 0.2  | 0.667 | 0.1  | 0.4  | 0.5  | 0.1  | 0.1  | 0.1  | 0.2  | 0.6  | 1.5  | 446  | GSW  | 1.34938e+06\n",
       "Allen Crabbe\\crabbal01     | 114  | SG   | 25   | BRK  | 75   | 68   | 29.3 | 4.5  | 11   | 0.407 | 2.7  | 7.1  | 0.378 | 1.8  | 3.9  | 0.461 | 0.529 | 1.5  | 1.8  | 0.852 | 0.4  | 3.9  | 4.3  | 1.6  | 0.6  | 0.5  | 1    | 2.2  | 13.2 | 57   | BRK  | 1.85e+07\n",
       "... (302 rows omitted)"
      ]
     },
     "execution_count": 456,
     "metadata": {},
     "output_type": "execute_result"
    }
   ],
   "source": [
    "players\n",
    "\n",
    "#drop all the NAN"
   ]
  },
  {
   "cell_type": "markdown",
   "metadata": {},
   "source": [
    "## Data Table Processing ##"
   ]
  },
  {
   "cell_type": "code",
   "execution_count": 458,
   "metadata": {},
   "outputs": [
    {
     "data": {
      "text/html": [
       "<table border=\"1\" class=\"dataframe\">\n",
       "    <thead>\n",
       "        <tr>\n",
       "            <th>Player</th> <th>Rk</th> <th>Pos</th> <th>Age</th> <th>Tm</th> <th>G</th> <th>GS</th> <th>MP</th> <th>FG</th> <th>FGA</th> <th>FG%</th> <th>3P</th> <th>3PA</th> <th>3P%</th> <th>2P</th> <th>2PA</th> <th>2P%</th> <th>eFG%</th> <th>FT</th> <th>FTA</th> <th>FT%</th> <th>ORB</th> <th>DRB</th> <th>TRB</th> <th>AST</th> <th>STL</th> <th>BLK</th> <th>TOV</th> <th>PF</th> <th>PS/G</th> <th>Rk_2</th> <th>Tm_2</th> <th>2018-19</th>\n",
       "        </tr>\n",
       "    </thead>\n",
       "    <tbody>\n",
       "        <tr>\n",
       "            <td>Aaron Gordon\\gordoaa01    </td> <td>179 </td> <td>PF  </td> <td>22  </td> <td>ORL </td> <td>58  </td> <td>57  </td> <td>32.9</td> <td>6.5 </td> <td>14.9</td> <td>0.434</td> <td>2   </td> <td>5.9 </td> <td>0.336</td> <td>4.5 </td> <td>9   </td> <td>0.497</td> <td>0.5  </td> <td>2.7 </td> <td>3.9 </td> <td>0.698</td> <td>1.5 </td> <td>6.4 </td> <td>7.9 </td> <td>2.3 </td> <td>1   </td> <td>0.8 </td> <td>1.8 </td> <td>1.9 </td> <td>17.6</td> <td>40  </td> <td>ORL </td> <td>2.15909e+07</td>\n",
       "        </tr>\n",
       "        <tr>\n",
       "            <td>Abdel Nader\\naderab01     </td> <td>363 </td> <td>SF  </td> <td>24  </td> <td>BOS </td> <td>48  </td> <td>1   </td> <td>10.9</td> <td>1   </td> <td>3.1 </td> <td>0.336</td> <td>0.5 </td> <td>1.4 </td> <td>0.354</td> <td>0.6 </td> <td>1.8 </td> <td>0.321</td> <td>0.413</td> <td>0.5 </td> <td>0.8 </td> <td>0.59 </td> <td>0.3 </td> <td>1.2 </td> <td>1.5 </td> <td>0.5 </td> <td>0.3 </td> <td>0.2 </td> <td>0.7 </td> <td>0.9 </td> <td>3   </td> <td>422 </td> <td>OKC </td> <td>1.37824e+06</td>\n",
       "        </tr>\n",
       "        <tr>\n",
       "            <td>Al Horford\\horfoal01      </td> <td>227 </td> <td>C   </td> <td>31  </td> <td>BOS </td> <td>72  </td> <td>72  </td> <td>31.6</td> <td>5.1 </td> <td>10.5</td> <td>0.489</td> <td>1.3 </td> <td>3.1 </td> <td>0.429</td> <td>3.8 </td> <td>7.3 </td> <td>0.514</td> <td>0.553</td> <td>1.3 </td> <td>1.7 </td> <td>0.783</td> <td>1.4 </td> <td>5.9 </td> <td>7.4 </td> <td>4.7 </td> <td>0.6 </td> <td>1.1 </td> <td>1.8 </td> <td>1.9 </td> <td>12.9</td> <td>13  </td> <td>BOS </td> <td>2.89287e+07</td>\n",
       "        </tr>\n",
       "        <tr>\n",
       "            <td>Al Jefferson\\jeffeal01    </td> <td>250 </td> <td>C   </td> <td>33  </td> <td>IND </td> <td>36  </td> <td>1   </td> <td>13.4</td> <td>3.1 </td> <td>5.8 </td> <td>0.534</td> <td>0   </td> <td>0.1 </td> <td>0    </td> <td>3.1 </td> <td>5.7 </td> <td>0.541</td> <td>0.534</td> <td>0.8 </td> <td>1   </td> <td>0.833</td> <td>0.8 </td> <td>3.1 </td> <td>4   </td> <td>0.8 </td> <td>0.4 </td> <td>0.6 </td> <td>0.6 </td> <td>1.8 </td> <td>7   </td> <td>235 </td> <td>IND </td> <td>4e+06      </td>\n",
       "        </tr>\n",
       "        <tr>\n",
       "            <td>Al-Farouq Aminu\\aminual01 </td> <td>11  </td> <td>PF  </td> <td>27  </td> <td>POR </td> <td>69  </td> <td>67  </td> <td>30  </td> <td>3.3 </td> <td>8.4 </td> <td>0.395</td> <td>1.8 </td> <td>4.9 </td> <td>0.369</td> <td>1.5 </td> <td>3.5 </td> <td>0.432</td> <td>0.503</td> <td>0.9 </td> <td>1.2 </td> <td>0.738</td> <td>1.4 </td> <td>6.2 </td> <td>7.6 </td> <td>1.2 </td> <td>1.1 </td> <td>0.6 </td> <td>1.1 </td> <td>2   </td> <td>9.3 </td> <td>179 </td> <td>POR </td> <td>6.95710e+06</td>\n",
       "        </tr>\n",
       "        <tr>\n",
       "            <td>Alec Burks\\burksal01      </td> <td>78  </td> <td>SG  </td> <td>26  </td> <td>UTA </td> <td>64  </td> <td>1   </td> <td>16.5</td> <td>2.7 </td> <td>6.5 </td> <td>0.411</td> <td>0.7 </td> <td>2.2 </td> <td>0.331</td> <td>1.9 </td> <td>4.3 </td> <td>0.452</td> <td>0.467</td> <td>1.7 </td> <td>1.9 </td> <td>0.863</td> <td>0.3 </td> <td>2.7 </td> <td>3   </td> <td>1   </td> <td>0.6 </td> <td>0.1 </td> <td>0.9 </td> <td>1.2 </td> <td>7.7 </td> <td>120 </td> <td>UTA </td> <td>1.15365e+07</td>\n",
       "        </tr>\n",
       "        <tr>\n",
       "            <td>Alex Len\\lenal01          </td> <td>292 </td> <td>C   </td> <td>24  </td> <td>PHO </td> <td>69  </td> <td>13  </td> <td>20.2</td> <td>3.1 </td> <td>5.5 </td> <td>0.566</td> <td>0   </td> <td>0   </td> <td>0.333</td> <td>3.1 </td> <td>5.4 </td> <td>0.568</td> <td>0.567</td> <td>2.3 </td> <td>3.3 </td> <td>0.684</td> <td>2.5 </td> <td>5   </td> <td>7.5 </td> <td>1.2 </td> <td>0.4 </td> <td>0.9 </td> <td>1.1 </td> <td>2.3 </td> <td>8.5 </td> <td>227 </td> <td>ATL </td> <td>4.35e+06   </td>\n",
       "        </tr>\n",
       "        <tr>\n",
       "            <td>Alfonzo McKinnie\\mckinal01</td> <td>330 </td> <td>SF  </td> <td>25  </td> <td>TOR </td> <td>14  </td> <td>0   </td> <td>3.8 </td> <td>0.6 </td> <td>1.1 </td> <td>0.533</td> <td>0.2 </td> <td>0.6 </td> <td>0.333</td> <td>0.4 </td> <td>0.4 </td> <td>0.833</td> <td>0.633</td> <td>0.1 </td> <td>0.2 </td> <td>0.667</td> <td>0.1 </td> <td>0.4 </td> <td>0.5 </td> <td>0.1 </td> <td>0.1 </td> <td>0.1 </td> <td>0.2 </td> <td>0.6 </td> <td>1.5 </td> <td>383 </td> <td>GSW </td> <td>1.34938e+06</td>\n",
       "        </tr>\n",
       "        <tr>\n",
       "            <td>Alfonzo McKinnie\\mckinal01</td> <td>330 </td> <td>SF  </td> <td>25  </td> <td>TOR </td> <td>14  </td> <td>0   </td> <td>3.8 </td> <td>0.6 </td> <td>1.1 </td> <td>0.533</td> <td>0.2 </td> <td>0.6 </td> <td>0.333</td> <td>0.4 </td> <td>0.4 </td> <td>0.833</td> <td>0.633</td> <td>0.1 </td> <td>0.2 </td> <td>0.667</td> <td>0.1 </td> <td>0.4 </td> <td>0.5 </td> <td>0.1 </td> <td>0.1 </td> <td>0.1 </td> <td>0.2 </td> <td>0.6 </td> <td>1.5 </td> <td>446 </td> <td>GSW </td> <td>1.34938e+06</td>\n",
       "        </tr>\n",
       "        <tr>\n",
       "            <td>Allen Crabbe\\crabbal01    </td> <td>114 </td> <td>SG  </td> <td>25  </td> <td>BRK </td> <td>75  </td> <td>68  </td> <td>29.3</td> <td>4.5 </td> <td>11  </td> <td>0.407</td> <td>2.7 </td> <td>7.1 </td> <td>0.378</td> <td>1.8 </td> <td>3.9 </td> <td>0.461</td> <td>0.529</td> <td>1.5 </td> <td>1.8 </td> <td>0.852</td> <td>0.4 </td> <td>3.9 </td> <td>4.3 </td> <td>1.6 </td> <td>0.6 </td> <td>0.5 </td> <td>1   </td> <td>2.2 </td> <td>13.2</td> <td>57  </td> <td>BRK </td> <td>1.85e+07   </td>\n",
       "        </tr>\n",
       "    </tbody>\n",
       "</table>\n",
       "<p>... (302 rows omitted)</p>"
      ],
      "text/plain": [
       "Player                     | Rk   | Pos  | Age  | Tm   | G    | GS   | MP   | FG   | FGA  | FG%   | 3P   | 3PA  | 3P%   | 2P   | 2PA  | 2P%   | eFG%  | FT   | FTA  | FT%   | ORB  | DRB  | TRB  | AST  | STL  | BLK  | TOV  | PF   | PS/G | Rk_2 | Tm_2 | 2018-19\n",
       "Aaron Gordon\\gordoaa01     | 179  | PF   | 22   | ORL  | 58   | 57   | 32.9 | 6.5  | 14.9 | 0.434 | 2    | 5.9  | 0.336 | 4.5  | 9    | 0.497 | 0.5   | 2.7  | 3.9  | 0.698 | 1.5  | 6.4  | 7.9  | 2.3  | 1    | 0.8  | 1.8  | 1.9  | 17.6 | 40   | ORL  | 2.15909e+07\n",
       "Abdel Nader\\naderab01      | 363  | SF   | 24   | BOS  | 48   | 1    | 10.9 | 1    | 3.1  | 0.336 | 0.5  | 1.4  | 0.354 | 0.6  | 1.8  | 0.321 | 0.413 | 0.5  | 0.8  | 0.59  | 0.3  | 1.2  | 1.5  | 0.5  | 0.3  | 0.2  | 0.7  | 0.9  | 3    | 422  | OKC  | 1.37824e+06\n",
       "Al Horford\\horfoal01       | 227  | C    | 31   | BOS  | 72   | 72   | 31.6 | 5.1  | 10.5 | 0.489 | 1.3  | 3.1  | 0.429 | 3.8  | 7.3  | 0.514 | 0.553 | 1.3  | 1.7  | 0.783 | 1.4  | 5.9  | 7.4  | 4.7  | 0.6  | 1.1  | 1.8  | 1.9  | 12.9 | 13   | BOS  | 2.89287e+07\n",
       "Al Jefferson\\jeffeal01     | 250  | C    | 33   | IND  | 36   | 1    | 13.4 | 3.1  | 5.8  | 0.534 | 0    | 0.1  | 0     | 3.1  | 5.7  | 0.541 | 0.534 | 0.8  | 1    | 0.833 | 0.8  | 3.1  | 4    | 0.8  | 0.4  | 0.6  | 0.6  | 1.8  | 7    | 235  | IND  | 4e+06\n",
       "Al-Farouq Aminu\\aminual01  | 11   | PF   | 27   | POR  | 69   | 67   | 30   | 3.3  | 8.4  | 0.395 | 1.8  | 4.9  | 0.369 | 1.5  | 3.5  | 0.432 | 0.503 | 0.9  | 1.2  | 0.738 | 1.4  | 6.2  | 7.6  | 1.2  | 1.1  | 0.6  | 1.1  | 2    | 9.3  | 179  | POR  | 6.95710e+06\n",
       "Alec Burks\\burksal01       | 78   | SG   | 26   | UTA  | 64   | 1    | 16.5 | 2.7  | 6.5  | 0.411 | 0.7  | 2.2  | 0.331 | 1.9  | 4.3  | 0.452 | 0.467 | 1.7  | 1.9  | 0.863 | 0.3  | 2.7  | 3    | 1    | 0.6  | 0.1  | 0.9  | 1.2  | 7.7  | 120  | UTA  | 1.15365e+07\n",
       "Alex Len\\lenal01           | 292  | C    | 24   | PHO  | 69   | 13   | 20.2 | 3.1  | 5.5  | 0.566 | 0    | 0    | 0.333 | 3.1  | 5.4  | 0.568 | 0.567 | 2.3  | 3.3  | 0.684 | 2.5  | 5    | 7.5  | 1.2  | 0.4  | 0.9  | 1.1  | 2.3  | 8.5  | 227  | ATL  | 4.35e+06\n",
       "Alfonzo McKinnie\\mckinal01 | 330  | SF   | 25   | TOR  | 14   | 0    | 3.8  | 0.6  | 1.1  | 0.533 | 0.2  | 0.6  | 0.333 | 0.4  | 0.4  | 0.833 | 0.633 | 0.1  | 0.2  | 0.667 | 0.1  | 0.4  | 0.5  | 0.1  | 0.1  | 0.1  | 0.2  | 0.6  | 1.5  | 383  | GSW  | 1.34938e+06\n",
       "Alfonzo McKinnie\\mckinal01 | 330  | SF   | 25   | TOR  | 14   | 0    | 3.8  | 0.6  | 1.1  | 0.533 | 0.2  | 0.6  | 0.333 | 0.4  | 0.4  | 0.833 | 0.633 | 0.1  | 0.2  | 0.667 | 0.1  | 0.4  | 0.5  | 0.1  | 0.1  | 0.1  | 0.2  | 0.6  | 1.5  | 446  | GSW  | 1.34938e+06\n",
       "Allen Crabbe\\crabbal01     | 114  | SG   | 25   | BRK  | 75   | 68   | 29.3 | 4.5  | 11   | 0.407 | 2.7  | 7.1  | 0.378 | 1.8  | 3.9  | 0.461 | 0.529 | 1.5  | 1.8  | 0.852 | 0.4  | 3.9  | 4.3  | 1.6  | 0.6  | 0.5  | 1    | 2.2  | 13.2 | 57   | BRK  | 1.85e+07\n",
       "... (302 rows omitted)"
      ]
     },
     "execution_count": 458,
     "metadata": {},
     "output_type": "execute_result"
    }
   ],
   "source": [
    "players"
   ]
  },
  {
   "cell_type": "markdown",
   "metadata": {},
   "source": [
    "## Separate table by Position: ##"
   ]
  },
  {
   "cell_type": "code",
   "execution_count": 459,
   "metadata": {},
   "outputs": [
    {
     "data": {
      "text/html": [
       "<table border=\"1\" class=\"dataframe\">\n",
       "    <thead>\n",
       "        <tr>\n",
       "            <th>Player</th> <th>Rk</th> <th>Pos</th> <th>Age</th> <th>Tm</th> <th>G</th> <th>GS</th> <th>MP</th> <th>FG</th> <th>FGA</th> <th>FG%</th> <th>3P</th> <th>3PA</th> <th>3P%</th> <th>2P</th> <th>2PA</th> <th>2P%</th> <th>eFG%</th> <th>FT</th> <th>FTA</th> <th>FT%</th> <th>ORB</th> <th>DRB</th> <th>TRB</th> <th>AST</th> <th>STL</th> <th>BLK</th> <th>TOV</th> <th>PF</th> <th>PS/G</th> <th>Rk_2</th> <th>Tm_2</th> <th>2018-19</th>\n",
       "        </tr>\n",
       "    </thead>\n",
       "    <tbody>\n",
       "        <tr>\n",
       "            <td>Ben Simmons\\simmobe01    </td> <td>450 </td> <td>PG  </td> <td>21  </td> <td>PHI </td> <td>81  </td> <td>81  </td> <td>33.7</td> <td>6.7 </td> <td>12.3</td> <td>0.545</td> <td>0   </td> <td>0.1 </td> <td>0    </td> <td>6.7 </td> <td>12.2</td> <td>0.551</td> <td>0.545</td> <td>2.4 </td> <td>4.2 </td> <td>0.56 </td> <td>1.8 </td> <td>6.3 </td> <td>8.1 </td> <td>8.2 </td> <td>1.7 </td> <td>0.9 </td> <td>3.4 </td> <td>2.6 </td> <td>15.8</td> <td>184 </td> <td>PHI </td> <td>6.43452e+06</td>\n",
       "        </tr>\n",
       "        <tr>\n",
       "            <td>Chris Paul\\paulch01      </td> <td>396 </td> <td>PG  </td> <td>32  </td> <td>HOU </td> <td>58  </td> <td>58  </td> <td>31.8</td> <td>6.3 </td> <td>13.8</td> <td>0.46 </td> <td>2.5 </td> <td>6.5 </td> <td>0.38 </td> <td>3.8 </td> <td>7.2 </td> <td>0.532</td> <td>0.55 </td> <td>3.5 </td> <td>3.8 </td> <td>0.919</td> <td>0.6 </td> <td>4.8 </td> <td>5.4 </td> <td>7.9 </td> <td>1.7 </td> <td>0.2 </td> <td>2.2 </td> <td>2.4 </td> <td>18.6</td> <td>2   </td> <td>HOU </td> <td>3.56542e+07</td>\n",
       "        </tr>\n",
       "        <tr>\n",
       "            <td>Cory Joseph\\josepco01    </td> <td>269 </td> <td>PG  </td> <td>26  </td> <td>IND </td> <td>82  </td> <td>17  </td> <td>27  </td> <td>3.1 </td> <td>7.4 </td> <td>0.424</td> <td>0.8 </td> <td>2.3 </td> <td>0.353</td> <td>2.3 </td> <td>5   </td> <td>0.457</td> <td>0.479</td> <td>0.9 </td> <td>1.1 </td> <td>0.745</td> <td>0.5 </td> <td>2.7 </td> <td>3.2 </td> <td>3.2 </td> <td>1   </td> <td>0.2 </td> <td>1.1 </td> <td>1.7 </td> <td>7.9 </td> <td>161 </td> <td>IND </td> <td>7.945e+06  </td>\n",
       "        </tr>\n",
       "        <tr>\n",
       "            <td>D.J. Augustin\\augusdj01  </td> <td>24  </td> <td>PG  </td> <td>30  </td> <td>ORL </td> <td>75  </td> <td>36  </td> <td>23.5</td> <td>3.3 </td> <td>7.2 </td> <td>0.452</td> <td>1.5 </td> <td>3.6 </td> <td>0.419</td> <td>1.7 </td> <td>3.6 </td> <td>0.485</td> <td>0.557</td> <td>2.2 </td> <td>2.5 </td> <td>0.868</td> <td>0.4 </td> <td>1.7 </td> <td>2.1 </td> <td>3.8 </td> <td>0.7 </td> <td>0   </td> <td>1.6 </td> <td>1.3 </td> <td>10.2</td> <td>171 </td> <td>ORL </td> <td>7.25e+06   </td>\n",
       "        </tr>\n",
       "        <tr>\n",
       "            <td>Damian Lillard\\lillada01 </td> <td>298 </td> <td>PG  </td> <td>27  </td> <td>POR </td> <td>73  </td> <td>73  </td> <td>36.6</td> <td>8.5 </td> <td>19.4</td> <td>0.439</td> <td>3.1 </td> <td>8.6 </td> <td>0.361</td> <td>5.4 </td> <td>10.8</td> <td>0.501</td> <td>0.519</td> <td>6.8 </td> <td>7.4 </td> <td>0.916</td> <td>0.8 </td> <td>3.6 </td> <td>4.5 </td> <td>6.6 </td> <td>1.1 </td> <td>0.4 </td> <td>2.8 </td> <td>1.6 </td> <td>26.9</td> <td>14  </td> <td>POR </td> <td>2.79777e+07</td>\n",
       "        </tr>\n",
       "        <tr>\n",
       "            <td>Dante Exum\\exumda01      </td> <td>153 </td> <td>PG  </td> <td>22  </td> <td>UTA </td> <td>14  </td> <td>0   </td> <td>16.8</td> <td>3   </td> <td>6.2 </td> <td>0.483</td> <td>0.4 </td> <td>1.3 </td> <td>0.278</td> <td>2.6 </td> <td>4.9 </td> <td>0.536</td> <td>0.511</td> <td>1.8 </td> <td>2.2 </td> <td>0.806</td> <td>0.3 </td> <td>1.6 </td> <td>1.9 </td> <td>3.1 </td> <td>0.6 </td> <td>0.2 </td> <td>1.4 </td> <td>1.4 </td> <td>8.1 </td> <td>138 </td> <td>UTA </td> <td>9.6e+06    </td>\n",
       "        </tr>\n",
       "        <tr>\n",
       "            <td>Darren Collison\\collida01</td> <td>104 </td> <td>PG  </td> <td>30  </td> <td>IND </td> <td>69  </td> <td>64  </td> <td>29.2</td> <td>4.6 </td> <td>9.2 </td> <td>0.495</td> <td>1.4 </td> <td>3   </td> <td>0.468</td> <td>3.2 </td> <td>6.3 </td> <td>0.508</td> <td>0.571</td> <td>1.8 </td> <td>2.1 </td> <td>0.882</td> <td>0.5 </td> <td>2   </td> <td>2.6 </td> <td>5.3 </td> <td>1.3 </td> <td>0.2 </td> <td>1.2 </td> <td>1.8 </td> <td>12.4</td> <td>135 </td> <td>IND </td> <td>1e+07      </td>\n",
       "        </tr>\n",
       "        <tr>\n",
       "            <td>De'Aaron Fox\\foxde01     </td> <td>164 </td> <td>PG  </td> <td>20  </td> <td>SAC </td> <td>73  </td> <td>60  </td> <td>27.8</td> <td>4.5 </td> <td>10.9</td> <td>0.412</td> <td>0.6 </td> <td>2.1 </td> <td>0.307</td> <td>3.8 </td> <td>8.8 </td> <td>0.436</td> <td>0.441</td> <td>1.9 </td> <td>2.7 </td> <td>0.723</td> <td>0.5 </td> <td>2.3 </td> <td>2.8 </td> <td>4.4 </td> <td>1   </td> <td>0.3 </td> <td>2.4 </td> <td>2.2 </td> <td>11.6</td> <td>198 </td> <td>SAC </td> <td>5.47092e+06</td>\n",
       "        </tr>\n",
       "        <tr>\n",
       "            <td>Dennis Schroder\\schrode01</td> <td>442 </td> <td>PG  </td> <td>24  </td> <td>ATL </td> <td>67  </td> <td>67  </td> <td>31  </td> <td>7.5 </td> <td>17.1</td> <td>0.436</td> <td>1.1 </td> <td>3.9 </td> <td>0.29 </td> <td>6.3 </td> <td>13.2</td> <td>0.48 </td> <td>0.469</td> <td>3.4 </td> <td>4   </td> <td>0.849</td> <td>0.7 </td> <td>2.4 </td> <td>3.1 </td> <td>6.2 </td> <td>1.1 </td> <td>0.1 </td> <td>2.7 </td> <td>2.2 </td> <td>19.4</td> <td>74  </td> <td>OKC </td> <td>1.55e+07   </td>\n",
       "        </tr>\n",
       "        <tr>\n",
       "            <td>Dennis Smith\\smithde03   </td> <td>455 </td> <td>PG  </td> <td>20  </td> <td>DAL </td> <td>69  </td> <td>69  </td> <td>29.7</td> <td>5.9 </td> <td>14.8</td> <td>0.395</td> <td>1.5 </td> <td>4.9 </td> <td>0.313</td> <td>4.3 </td> <td>9.9 </td> <td>0.435</td> <td>0.446</td> <td>1.9 </td> <td>2.8 </td> <td>0.694</td> <td>0.7 </td> <td>3   </td> <td>3.8 </td> <td>5.2 </td> <td>1   </td> <td>0.3 </td> <td>2.8 </td> <td>2.2 </td> <td>15.2</td> <td>238 </td> <td>DAL </td> <td>3.81996e+06</td>\n",
       "        </tr>\n",
       "    </tbody>\n",
       "</table>\n",
       "<p>... (47 rows omitted)</p>"
      ],
      "text/plain": [
       "Player                    | Rk   | Pos  | Age  | Tm   | G    | GS   | MP   | FG   | FGA  | FG%   | 3P   | 3PA  | 3P%   | 2P   | 2PA  | 2P%   | eFG%  | FT   | FTA  | FT%   | ORB  | DRB  | TRB  | AST  | STL  | BLK  | TOV  | PF   | PS/G | Rk_2 | Tm_2 | 2018-19\n",
       "Ben Simmons\\simmobe01     | 450  | PG   | 21   | PHI  | 81   | 81   | 33.7 | 6.7  | 12.3 | 0.545 | 0    | 0.1  | 0     | 6.7  | 12.2 | 0.551 | 0.545 | 2.4  | 4.2  | 0.56  | 1.8  | 6.3  | 8.1  | 8.2  | 1.7  | 0.9  | 3.4  | 2.6  | 15.8 | 184  | PHI  | 6.43452e+06\n",
       "Chris Paul\\paulch01       | 396  | PG   | 32   | HOU  | 58   | 58   | 31.8 | 6.3  | 13.8 | 0.46  | 2.5  | 6.5  | 0.38  | 3.8  | 7.2  | 0.532 | 0.55  | 3.5  | 3.8  | 0.919 | 0.6  | 4.8  | 5.4  | 7.9  | 1.7  | 0.2  | 2.2  | 2.4  | 18.6 | 2    | HOU  | 3.56542e+07\n",
       "Cory Joseph\\josepco01     | 269  | PG   | 26   | IND  | 82   | 17   | 27   | 3.1  | 7.4  | 0.424 | 0.8  | 2.3  | 0.353 | 2.3  | 5    | 0.457 | 0.479 | 0.9  | 1.1  | 0.745 | 0.5  | 2.7  | 3.2  | 3.2  | 1    | 0.2  | 1.1  | 1.7  | 7.9  | 161  | IND  | 7.945e+06\n",
       "D.J. Augustin\\augusdj01   | 24   | PG   | 30   | ORL  | 75   | 36   | 23.5 | 3.3  | 7.2  | 0.452 | 1.5  | 3.6  | 0.419 | 1.7  | 3.6  | 0.485 | 0.557 | 2.2  | 2.5  | 0.868 | 0.4  | 1.7  | 2.1  | 3.8  | 0.7  | 0    | 1.6  | 1.3  | 10.2 | 171  | ORL  | 7.25e+06\n",
       "Damian Lillard\\lillada01  | 298  | PG   | 27   | POR  | 73   | 73   | 36.6 | 8.5  | 19.4 | 0.439 | 3.1  | 8.6  | 0.361 | 5.4  | 10.8 | 0.501 | 0.519 | 6.8  | 7.4  | 0.916 | 0.8  | 3.6  | 4.5  | 6.6  | 1.1  | 0.4  | 2.8  | 1.6  | 26.9 | 14   | POR  | 2.79777e+07\n",
       "Dante Exum\\exumda01       | 153  | PG   | 22   | UTA  | 14   | 0    | 16.8 | 3    | 6.2  | 0.483 | 0.4  | 1.3  | 0.278 | 2.6  | 4.9  | 0.536 | 0.511 | 1.8  | 2.2  | 0.806 | 0.3  | 1.6  | 1.9  | 3.1  | 0.6  | 0.2  | 1.4  | 1.4  | 8.1  | 138  | UTA  | 9.6e+06\n",
       "Darren Collison\\collida01 | 104  | PG   | 30   | IND  | 69   | 64   | 29.2 | 4.6  | 9.2  | 0.495 | 1.4  | 3    | 0.468 | 3.2  | 6.3  | 0.508 | 0.571 | 1.8  | 2.1  | 0.882 | 0.5  | 2    | 2.6  | 5.3  | 1.3  | 0.2  | 1.2  | 1.8  | 12.4 | 135  | IND  | 1e+07\n",
       "De'Aaron Fox\\foxde01      | 164  | PG   | 20   | SAC  | 73   | 60   | 27.8 | 4.5  | 10.9 | 0.412 | 0.6  | 2.1  | 0.307 | 3.8  | 8.8  | 0.436 | 0.441 | 1.9  | 2.7  | 0.723 | 0.5  | 2.3  | 2.8  | 4.4  | 1    | 0.3  | 2.4  | 2.2  | 11.6 | 198  | SAC  | 5.47092e+06\n",
       "Dennis Schroder\\schrode01 | 442  | PG   | 24   | ATL  | 67   | 67   | 31   | 7.5  | 17.1 | 0.436 | 1.1  | 3.9  | 0.29  | 6.3  | 13.2 | 0.48  | 0.469 | 3.4  | 4    | 0.849 | 0.7  | 2.4  | 3.1  | 6.2  | 1.1  | 0.1  | 2.7  | 2.2  | 19.4 | 74   | OKC  | 1.55e+07\n",
       "Dennis Smith\\smithde03    | 455  | PG   | 20   | DAL  | 69   | 69   | 29.7 | 5.9  | 14.8 | 0.395 | 1.5  | 4.9  | 0.313 | 4.3  | 9.9  | 0.435 | 0.446 | 1.9  | 2.8  | 0.694 | 0.7  | 3    | 3.8  | 5.2  | 1    | 0.3  | 2.8  | 2.2  | 15.2 | 238  | DAL  | 3.81996e+06\n",
       "... (47 rows omitted)"
      ]
     },
     "execution_count": 459,
     "metadata": {},
     "output_type": "execute_result"
    }
   ],
   "source": [
    "#PG\n",
    "point_guard = players.where('Pos', are.equal_to('PG'))\n",
    "point_guard"
   ]
  },
  {
   "cell_type": "code",
   "execution_count": 460,
   "metadata": {},
   "outputs": [
    {
     "data": {
      "text/html": [
       "<table border=\"1\" class=\"dataframe\">\n",
       "    <thead>\n",
       "        <tr>\n",
       "            <th>Player</th> <th>Rk</th> <th>Pos</th> <th>Age</th> <th>Tm</th> <th>G</th> <th>GS</th> <th>MP</th> <th>FG</th> <th>FGA</th> <th>FG%</th> <th>3P</th> <th>3PA</th> <th>3P%</th> <th>2P</th> <th>2PA</th> <th>2P%</th> <th>eFG%</th> <th>FT</th> <th>FTA</th> <th>FT%</th> <th>ORB</th> <th>DRB</th> <th>TRB</th> <th>AST</th> <th>STL</th> <th>BLK</th> <th>TOV</th> <th>PF</th> <th>PS/G</th> <th>Rk_2</th> <th>Tm_2</th> <th>2018-19</th>\n",
       "        </tr>\n",
       "    </thead>\n",
       "    <tbody>\n",
       "        <tr>\n",
       "            <td>Alec Burks\\burksal01       </td> <td>78  </td> <td>SG  </td> <td>26  </td> <td>UTA </td> <td>64  </td> <td>1   </td> <td>16.5</td> <td>2.7 </td> <td>6.5 </td> <td>0.411</td> <td>0.7 </td> <td>2.2 </td> <td>0.331</td> <td>1.9 </td> <td>4.3 </td> <td>0.452</td> <td>0.467</td> <td>1.7 </td> <td>1.9 </td> <td>0.863</td> <td>0.3 </td> <td>2.7 </td> <td>3   </td> <td>1   </td> <td>0.6 </td> <td>0.1 </td> <td>0.9 </td> <td>1.2 </td> <td>7.7 </td> <td>120 </td> <td>UTA </td> <td>1.15365e+07</td>\n",
       "        </tr>\n",
       "        <tr>\n",
       "            <td>Allen Crabbe\\crabbal01     </td> <td>114 </td> <td>SG  </td> <td>25  </td> <td>BRK </td> <td>75  </td> <td>68  </td> <td>29.3</td> <td>4.5 </td> <td>11  </td> <td>0.407</td> <td>2.7 </td> <td>7.1 </td> <td>0.378</td> <td>1.8 </td> <td>3.9 </td> <td>0.461</td> <td>0.529</td> <td>1.5 </td> <td>1.8 </td> <td>0.852</td> <td>0.4 </td> <td>3.9 </td> <td>4.3 </td> <td>1.6 </td> <td>0.6 </td> <td>0.5 </td> <td>1   </td> <td>2.2 </td> <td>13.2</td> <td>57  </td> <td>BRK </td> <td>1.85e+07   </td>\n",
       "        </tr>\n",
       "        <tr>\n",
       "            <td>Andre Roberson\\roberan03   </td> <td>429 </td> <td>SG  </td> <td>26  </td> <td>OKC </td> <td>39  </td> <td>39  </td> <td>26.6</td> <td>2.2 </td> <td>4.2 </td> <td>0.537</td> <td>0.2 </td> <td>0.9 </td> <td>0.222</td> <td>2   </td> <td>3.2 </td> <td>0.627</td> <td>0.562</td> <td>0.3 </td> <td>1   </td> <td>0.316</td> <td>1.9 </td> <td>2.8 </td> <td>4.7 </td> <td>1.2 </td> <td>1.2 </td> <td>0.9 </td> <td>0.8 </td> <td>2.3 </td> <td>5   </td> <td>133 </td> <td>OKC </td> <td>1e+07      </td>\n",
       "        </tr>\n",
       "        <tr>\n",
       "            <td>Antonio Blakeney\\blakean01 </td> <td>51  </td> <td>SG  </td> <td>21  </td> <td>CHI </td> <td>19  </td> <td>0   </td> <td>16.5</td> <td>2.8 </td> <td>7.5 </td> <td>0.371</td> <td>0.8 </td> <td>2.7 </td> <td>0.288</td> <td>2   </td> <td>4.8 </td> <td>0.418</td> <td>0.423</td> <td>1.6 </td> <td>2.1 </td> <td>0.769</td> <td>0.2 </td> <td>1.5 </td> <td>1.7 </td> <td>1.1 </td> <td>0.4 </td> <td>0.1 </td> <td>0.6 </td> <td>1   </td> <td>7.9 </td> <td>440 </td> <td>CHI </td> <td>1.34938e+06</td>\n",
       "        </tr>\n",
       "        <tr>\n",
       "            <td>Austin Rivers\\riverau01    </td> <td>428 </td> <td>SG  </td> <td>25  </td> <td>LAC </td> <td>61  </td> <td>59  </td> <td>33.7</td> <td>5.6 </td> <td>13.2</td> <td>0.424</td> <td>2.2 </td> <td>5.9 </td> <td>0.378</td> <td>3.4 </td> <td>7.3 </td> <td>0.461</td> <td>0.508</td> <td>1.7 </td> <td>2.6 </td> <td>0.642</td> <td>0.4 </td> <td>1.9 </td> <td>2.4 </td> <td>4   </td> <td>1.2 </td> <td>0.3 </td> <td>1.8 </td> <td>2.5 </td> <td>15.1</td> <td>102 </td> <td>WAS </td> <td>1.265e+07  </td>\n",
       "        </tr>\n",
       "        <tr>\n",
       "            <td>Avery Bradley\\bradlav01    </td> <td>61  </td> <td>SG  </td> <td>27  </td> <td>TOT </td> <td>46  </td> <td>46  </td> <td>31.2</td> <td>5.6 </td> <td>13.6</td> <td>0.414</td> <td>1.6 </td> <td>4.4 </td> <td>0.369</td> <td>4   </td> <td>9.2 </td> <td>0.436</td> <td>0.474</td> <td>1.4 </td> <td>1.8 </td> <td>0.768</td> <td>0.5 </td> <td>2   </td> <td>2.5 </td> <td>2   </td> <td>1.1 </td> <td>0.2 </td> <td>2.2 </td> <td>2   </td> <td>14.3</td> <td>112 </td> <td>LAC </td> <td>1.2e+07    </td>\n",
       "        </tr>\n",
       "        <tr>\n",
       "            <td>Ben McLemore\\mclembe01     </td> <td>331 </td> <td>SG  </td> <td>24  </td> <td>MEM </td> <td>56  </td> <td>17  </td> <td>19.5</td> <td>2.8 </td> <td>6.7 </td> <td>0.421</td> <td>1   </td> <td>2.8 </td> <td>0.346</td> <td>1.8 </td> <td>3.8 </td> <td>0.477</td> <td>0.495</td> <td>0.9 </td> <td>1.1 </td> <td>0.828</td> <td>0.6 </td> <td>1.9 </td> <td>2.5 </td> <td>0.9 </td> <td>0.7 </td> <td>0.3 </td> <td>1.1 </td> <td>2.5 </td> <td>7.5 </td> <td>199 </td> <td>SAC </td> <td>5.46e+06   </td>\n",
       "        </tr>\n",
       "        <tr>\n",
       "            <td>Bogdan Bogdanovic\\bogdabo01</td> <td>54  </td> <td>SG  </td> <td>25  </td> <td>SAC </td> <td>78  </td> <td>53  </td> <td>27.9</td> <td>4.4 </td> <td>9.9 </td> <td>0.446</td> <td>1.7 </td> <td>4.2 </td> <td>0.392</td> <td>2.8 </td> <td>5.7 </td> <td>0.485</td> <td>0.529</td> <td>1.3 </td> <td>1.5 </td> <td>0.84 </td> <td>0.4 </td> <td>2.5 </td> <td>2.9 </td> <td>3.3 </td> <td>0.9 </td> <td>0.2 </td> <td>1.6 </td> <td>2.2 </td> <td>11.8</td> <td>142 </td> <td>SAC </td> <td>9e+06      </td>\n",
       "        </tr>\n",
       "        <tr>\n",
       "            <td>Bradley Beal\\bealbr01      </td> <td>37  </td> <td>SG  </td> <td>24  </td> <td>WAS </td> <td>82  </td> <td>82  </td> <td>36.3</td> <td>8.3 </td> <td>18.1</td> <td>0.46 </td> <td>2.4 </td> <td>6.5 </td> <td>0.375</td> <td>5.9 </td> <td>11.6</td> <td>0.507</td> <td>0.527</td> <td>3.6 </td> <td>4.5 </td> <td>0.791</td> <td>0.7 </td> <td>3.7 </td> <td>4.4 </td> <td>4.5 </td> <td>1.2 </td> <td>0.4 </td> <td>2.6 </td> <td>2   </td> <td>22.6</td> <td>23  </td> <td>WAS </td> <td>2.54343e+07</td>\n",
       "        </tr>\n",
       "        <tr>\n",
       "            <td>CJ McCollum\\mccolcj01      </td> <td>322 </td> <td>SG  </td> <td>26  </td> <td>POR </td> <td>81  </td> <td>81  </td> <td>36.1</td> <td>8.2 </td> <td>18.6</td> <td>0.443</td> <td>2.3 </td> <td>5.9 </td> <td>0.397</td> <td>5.9 </td> <td>12.7</td> <td>0.465</td> <td>0.506</td> <td>2.6 </td> <td>3.1 </td> <td>0.836</td> <td>0.7 </td> <td>3.3 </td> <td>4   </td> <td>3.4 </td> <td>1   </td> <td>0.4 </td> <td>1.9 </td> <td>2.1 </td> <td>21.4</td> <td>19  </td> <td>POR </td> <td>2.57598e+07</td>\n",
       "        </tr>\n",
       "    </tbody>\n",
       "</table>\n",
       "<p>... (64 rows omitted)</p>"
      ],
      "text/plain": [
       "Player                      | Rk   | Pos  | Age  | Tm   | G    | GS   | MP   | FG   | FGA  | FG%   | 3P   | 3PA  | 3P%   | 2P   | 2PA  | 2P%   | eFG%  | FT   | FTA  | FT%   | ORB  | DRB  | TRB  | AST  | STL  | BLK  | TOV  | PF   | PS/G | Rk_2 | Tm_2 | 2018-19\n",
       "Alec Burks\\burksal01        | 78   | SG   | 26   | UTA  | 64   | 1    | 16.5 | 2.7  | 6.5  | 0.411 | 0.7  | 2.2  | 0.331 | 1.9  | 4.3  | 0.452 | 0.467 | 1.7  | 1.9  | 0.863 | 0.3  | 2.7  | 3    | 1    | 0.6  | 0.1  | 0.9  | 1.2  | 7.7  | 120  | UTA  | 1.15365e+07\n",
       "Allen Crabbe\\crabbal01      | 114  | SG   | 25   | BRK  | 75   | 68   | 29.3 | 4.5  | 11   | 0.407 | 2.7  | 7.1  | 0.378 | 1.8  | 3.9  | 0.461 | 0.529 | 1.5  | 1.8  | 0.852 | 0.4  | 3.9  | 4.3  | 1.6  | 0.6  | 0.5  | 1    | 2.2  | 13.2 | 57   | BRK  | 1.85e+07\n",
       "Andre Roberson\\roberan03    | 429  | SG   | 26   | OKC  | 39   | 39   | 26.6 | 2.2  | 4.2  | 0.537 | 0.2  | 0.9  | 0.222 | 2    | 3.2  | 0.627 | 0.562 | 0.3  | 1    | 0.316 | 1.9  | 2.8  | 4.7  | 1.2  | 1.2  | 0.9  | 0.8  | 2.3  | 5    | 133  | OKC  | 1e+07\n",
       "Antonio Blakeney\\blakean01  | 51   | SG   | 21   | CHI  | 19   | 0    | 16.5 | 2.8  | 7.5  | 0.371 | 0.8  | 2.7  | 0.288 | 2    | 4.8  | 0.418 | 0.423 | 1.6  | 2.1  | 0.769 | 0.2  | 1.5  | 1.7  | 1.1  | 0.4  | 0.1  | 0.6  | 1    | 7.9  | 440  | CHI  | 1.34938e+06\n",
       "Austin Rivers\\riverau01     | 428  | SG   | 25   | LAC  | 61   | 59   | 33.7 | 5.6  | 13.2 | 0.424 | 2.2  | 5.9  | 0.378 | 3.4  | 7.3  | 0.461 | 0.508 | 1.7  | 2.6  | 0.642 | 0.4  | 1.9  | 2.4  | 4    | 1.2  | 0.3  | 1.8  | 2.5  | 15.1 | 102  | WAS  | 1.265e+07\n",
       "Avery Bradley\\bradlav01     | 61   | SG   | 27   | TOT  | 46   | 46   | 31.2 | 5.6  | 13.6 | 0.414 | 1.6  | 4.4  | 0.369 | 4    | 9.2  | 0.436 | 0.474 | 1.4  | 1.8  | 0.768 | 0.5  | 2    | 2.5  | 2    | 1.1  | 0.2  | 2.2  | 2    | 14.3 | 112  | LAC  | 1.2e+07\n",
       "Ben McLemore\\mclembe01      | 331  | SG   | 24   | MEM  | 56   | 17   | 19.5 | 2.8  | 6.7  | 0.421 | 1    | 2.8  | 0.346 | 1.8  | 3.8  | 0.477 | 0.495 | 0.9  | 1.1  | 0.828 | 0.6  | 1.9  | 2.5  | 0.9  | 0.7  | 0.3  | 1.1  | 2.5  | 7.5  | 199  | SAC  | 5.46e+06\n",
       "Bogdan Bogdanovic\\bogdabo01 | 54   | SG   | 25   | SAC  | 78   | 53   | 27.9 | 4.4  | 9.9  | 0.446 | 1.7  | 4.2  | 0.392 | 2.8  | 5.7  | 0.485 | 0.529 | 1.3  | 1.5  | 0.84  | 0.4  | 2.5  | 2.9  | 3.3  | 0.9  | 0.2  | 1.6  | 2.2  | 11.8 | 142  | SAC  | 9e+06\n",
       "Bradley Beal\\bealbr01       | 37   | SG   | 24   | WAS  | 82   | 82   | 36.3 | 8.3  | 18.1 | 0.46  | 2.4  | 6.5  | 0.375 | 5.9  | 11.6 | 0.507 | 0.527 | 3.6  | 4.5  | 0.791 | 0.7  | 3.7  | 4.4  | 4.5  | 1.2  | 0.4  | 2.6  | 2    | 22.6 | 23   | WAS  | 2.54343e+07\n",
       "CJ McCollum\\mccolcj01       | 322  | SG   | 26   | POR  | 81   | 81   | 36.1 | 8.2  | 18.6 | 0.443 | 2.3  | 5.9  | 0.397 | 5.9  | 12.7 | 0.465 | 0.506 | 2.6  | 3.1  | 0.836 | 0.7  | 3.3  | 4    | 3.4  | 1    | 0.4  | 1.9  | 2.1  | 21.4 | 19   | POR  | 2.57598e+07\n",
       "... (64 rows omitted)"
      ]
     },
     "execution_count": 460,
     "metadata": {},
     "output_type": "execute_result"
    }
   ],
   "source": [
    "#SG\n",
    "shooting_guard = players.where('Pos', are.equal_to('SG'))\n",
    "shooting_guard"
   ]
  },
  {
   "cell_type": "code",
   "execution_count": 461,
   "metadata": {},
   "outputs": [
    {
     "data": {
      "text/html": [
       "<table border=\"1\" class=\"dataframe\">\n",
       "    <thead>\n",
       "        <tr>\n",
       "            <th>Player</th> <th>Rk</th> <th>Pos</th> <th>Age</th> <th>Tm</th> <th>G</th> <th>GS</th> <th>MP</th> <th>FG</th> <th>FGA</th> <th>FG%</th> <th>3P</th> <th>3PA</th> <th>3P%</th> <th>2P</th> <th>2PA</th> <th>2P%</th> <th>eFG%</th> <th>FT</th> <th>FTA</th> <th>FT%</th> <th>ORB</th> <th>DRB</th> <th>TRB</th> <th>AST</th> <th>STL</th> <th>BLK</th> <th>TOV</th> <th>PF</th> <th>PS/G</th> <th>Rk_2</th> <th>Tm_2</th> <th>2018-19</th>\n",
       "        </tr>\n",
       "    </thead>\n",
       "    <tbody>\n",
       "        <tr>\n",
       "            <td>Abdel Nader\\naderab01     </td> <td>363 </td> <td>SF  </td> <td>24  </td> <td>BOS </td> <td>48  </td> <td>1   </td> <td>10.9</td> <td>1   </td> <td>3.1 </td> <td>0.336</td> <td>0.5 </td> <td>1.4 </td> <td>0.354</td> <td>0.6 </td> <td>1.8 </td> <td>0.321</td> <td>0.413</td> <td>0.5 </td> <td>0.8 </td> <td>0.59 </td> <td>0.3 </td> <td>1.2 </td> <td>1.5 </td> <td>0.5 </td> <td>0.3 </td> <td>0.2 </td> <td>0.7 </td> <td>0.9 </td> <td>3   </td> <td>422 </td> <td>OKC </td> <td>1.37824e+06</td>\n",
       "        </tr>\n",
       "        <tr>\n",
       "            <td>Alfonzo McKinnie\\mckinal01</td> <td>330 </td> <td>SF  </td> <td>25  </td> <td>TOR </td> <td>14  </td> <td>0   </td> <td>3.8 </td> <td>0.6 </td> <td>1.1 </td> <td>0.533</td> <td>0.2 </td> <td>0.6 </td> <td>0.333</td> <td>0.4 </td> <td>0.4 </td> <td>0.833</td> <td>0.633</td> <td>0.1 </td> <td>0.2 </td> <td>0.667</td> <td>0.1 </td> <td>0.4 </td> <td>0.5 </td> <td>0.1 </td> <td>0.1 </td> <td>0.1 </td> <td>0.2 </td> <td>0.6 </td> <td>1.5 </td> <td>383 </td> <td>GSW </td> <td>1.34938e+06</td>\n",
       "        </tr>\n",
       "        <tr>\n",
       "            <td>Alfonzo McKinnie\\mckinal01</td> <td>330 </td> <td>SF  </td> <td>25  </td> <td>TOR </td> <td>14  </td> <td>0   </td> <td>3.8 </td> <td>0.6 </td> <td>1.1 </td> <td>0.533</td> <td>0.2 </td> <td>0.6 </td> <td>0.333</td> <td>0.4 </td> <td>0.4 </td> <td>0.833</td> <td>0.633</td> <td>0.1 </td> <td>0.2 </td> <td>0.667</td> <td>0.1 </td> <td>0.4 </td> <td>0.5 </td> <td>0.1 </td> <td>0.1 </td> <td>0.1 </td> <td>0.2 </td> <td>0.6 </td> <td>1.5 </td> <td>446 </td> <td>GSW </td> <td>1.34938e+06</td>\n",
       "        </tr>\n",
       "        <tr>\n",
       "            <td>Andre Iguodala\\iguodan01  </td> <td>234 </td> <td>SF  </td> <td>34  </td> <td>GSW </td> <td>64  </td> <td>7   </td> <td>25.3</td> <td>2.3 </td> <td>5   </td> <td>0.463</td> <td>0.5 </td> <td>1.8 </td> <td>0.282</td> <td>1.8 </td> <td>3.2 </td> <td>0.567</td> <td>0.514</td> <td>0.9 </td> <td>1.4 </td> <td>0.632</td> <td>0.8 </td> <td>3.1 </td> <td>3.8 </td> <td>3.3 </td> <td>0.8 </td> <td>0.6 </td> <td>1   </td> <td>1.5 </td> <td>6   </td> <td>71  </td> <td>GSW </td> <td>1.6e+07    </td>\n",
       "        </tr>\n",
       "        <tr>\n",
       "            <td>Andrew Wiggins\\wiggian01  </td> <td>514 </td> <td>SF  </td> <td>22  </td> <td>MIN </td> <td>82  </td> <td>82  </td> <td>36.3</td> <td>6.9 </td> <td>15.9</td> <td>0.438</td> <td>1.4 </td> <td>4.1 </td> <td>0.331</td> <td>5.6 </td> <td>11.7</td> <td>0.475</td> <td>0.481</td> <td>2.5 </td> <td>3.8 </td> <td>0.643</td> <td>1   </td> <td>3.4 </td> <td>4.4 </td> <td>2   </td> <td>1.1 </td> <td>0.6 </td> <td>1.7 </td> <td>2   </td> <td>17.7</td> <td>21  </td> <td>MIN </td> <td>2.54672e+07</td>\n",
       "        </tr>\n",
       "        <tr>\n",
       "            <td>Bojan Bogdanovic\\bogdabo02</td> <td>55  </td> <td>SF  </td> <td>28  </td> <td>IND </td> <td>80  </td> <td>80  </td> <td>30.8</td> <td>5.1 </td> <td>10.7</td> <td>0.474</td> <td>1.9 </td> <td>4.8 </td> <td>0.402</td> <td>3.1 </td> <td>5.8 </td> <td>0.534</td> <td>0.565</td> <td>2.2 </td> <td>2.6 </td> <td>0.868</td> <td>0.4 </td> <td>3   </td> <td>3.4 </td> <td>1.5 </td> <td>0.7 </td> <td>0.1 </td> <td>1.3 </td> <td>1.6 </td> <td>14.3</td> <td>129 </td> <td>IND </td> <td>1.05e+07   </td>\n",
       "        </tr>\n",
       "        <tr>\n",
       "            <td>C.J. Miles\\milescj01      </td> <td>337 </td> <td>SF  </td> <td>30  </td> <td>TOR </td> <td>70  </td> <td>3   </td> <td>19.1</td> <td>3.2 </td> <td>8.6 </td> <td>0.379</td> <td>2.3 </td> <td>6.5 </td> <td>0.361</td> <td>0.9 </td> <td>2.1 </td> <td>0.434</td> <td>0.516</td> <td>1.2 </td> <td>1.4 </td> <td>0.835</td> <td>0.3 </td> <td>1.9 </td> <td>2.2 </td> <td>0.8 </td> <td>0.5 </td> <td>0.3 </td> <td>0.6 </td> <td>1.9 </td> <td>10  </td> <td>155 </td> <td>TOR </td> <td>8.33333e+06</td>\n",
       "        </tr>\n",
       "        <tr>\n",
       "            <td>Cedi Osman\\osmande01      </td> <td>385 </td> <td>SF  </td> <td>22  </td> <td>CLE </td> <td>61  </td> <td>12  </td> <td>11  </td> <td>1.5 </td> <td>3   </td> <td>0.484</td> <td>0.5 </td> <td>1.4 </td> <td>0.368</td> <td>1   </td> <td>1.6 </td> <td>0.586</td> <td>0.57 </td> <td>0.4 </td> <td>0.8 </td> <td>0.565</td> <td>0.3 </td> <td>1.7 </td> <td>2   </td> <td>0.7 </td> <td>0.4 </td> <td>0   </td> <td>0.5 </td> <td>1.3 </td> <td>3.9 </td> <td>278 </td> <td>CLE </td> <td>2.775e+06  </td>\n",
       "        </tr>\n",
       "        <tr>\n",
       "            <td>Chandler Parsons\\parsoch01</td> <td>392 </td> <td>SF  </td> <td>29  </td> <td>MEM </td> <td>36  </td> <td>8   </td> <td>19.2</td> <td>3   </td> <td>6.5 </td> <td>0.462</td> <td>1.4 </td> <td>3.4 </td> <td>0.421</td> <td>1.6 </td> <td>3.1 </td> <td>0.504</td> <td>0.571</td> <td>0.5 </td> <td>0.8 </td> <td>0.63 </td> <td>0.4 </td> <td>2.1 </td> <td>2.5 </td> <td>1.9 </td> <td>0.5 </td> <td>0.3 </td> <td>1   </td> <td>1.5 </td> <td>7.9 </td> <td>32  </td> <td>MEM </td> <td>2.41073e+07</td>\n",
       "        </tr>\n",
       "        <tr>\n",
       "            <td>Danilo Gallinari\\gallida01</td> <td>168 </td> <td>SF  </td> <td>29  </td> <td>LAC </td> <td>21  </td> <td>21  </td> <td>32  </td> <td>4.9 </td> <td>12.2</td> <td>0.398</td> <td>1.7 </td> <td>5.3 </td> <td>0.324</td> <td>3.1 </td> <td>6.9 </td> <td>0.455</td> <td>0.469</td> <td>3.9 </td> <td>4.1 </td> <td>0.931</td> <td>0.4 </td> <td>4.4 </td> <td>4.8 </td> <td>2   </td> <td>0.6 </td> <td>0.5 </td> <td>1.2 </td> <td>1.4 </td> <td>15.3</td> <td>41  </td> <td>LAC </td> <td>2.15876e+07</td>\n",
       "        </tr>\n",
       "    </tbody>\n",
       "</table>\n",
       "<p>... (41 rows omitted)</p>"
      ],
      "text/plain": [
       "Player                     | Rk   | Pos  | Age  | Tm   | G    | GS   | MP   | FG   | FGA  | FG%   | 3P   | 3PA  | 3P%   | 2P   | 2PA  | 2P%   | eFG%  | FT   | FTA  | FT%   | ORB  | DRB  | TRB  | AST  | STL  | BLK  | TOV  | PF   | PS/G | Rk_2 | Tm_2 | 2018-19\n",
       "Abdel Nader\\naderab01      | 363  | SF   | 24   | BOS  | 48   | 1    | 10.9 | 1    | 3.1  | 0.336 | 0.5  | 1.4  | 0.354 | 0.6  | 1.8  | 0.321 | 0.413 | 0.5  | 0.8  | 0.59  | 0.3  | 1.2  | 1.5  | 0.5  | 0.3  | 0.2  | 0.7  | 0.9  | 3    | 422  | OKC  | 1.37824e+06\n",
       "Alfonzo McKinnie\\mckinal01 | 330  | SF   | 25   | TOR  | 14   | 0    | 3.8  | 0.6  | 1.1  | 0.533 | 0.2  | 0.6  | 0.333 | 0.4  | 0.4  | 0.833 | 0.633 | 0.1  | 0.2  | 0.667 | 0.1  | 0.4  | 0.5  | 0.1  | 0.1  | 0.1  | 0.2  | 0.6  | 1.5  | 383  | GSW  | 1.34938e+06\n",
       "Alfonzo McKinnie\\mckinal01 | 330  | SF   | 25   | TOR  | 14   | 0    | 3.8  | 0.6  | 1.1  | 0.533 | 0.2  | 0.6  | 0.333 | 0.4  | 0.4  | 0.833 | 0.633 | 0.1  | 0.2  | 0.667 | 0.1  | 0.4  | 0.5  | 0.1  | 0.1  | 0.1  | 0.2  | 0.6  | 1.5  | 446  | GSW  | 1.34938e+06\n",
       "Andre Iguodala\\iguodan01   | 234  | SF   | 34   | GSW  | 64   | 7    | 25.3 | 2.3  | 5    | 0.463 | 0.5  | 1.8  | 0.282 | 1.8  | 3.2  | 0.567 | 0.514 | 0.9  | 1.4  | 0.632 | 0.8  | 3.1  | 3.8  | 3.3  | 0.8  | 0.6  | 1    | 1.5  | 6    | 71   | GSW  | 1.6e+07\n",
       "Andrew Wiggins\\wiggian01   | 514  | SF   | 22   | MIN  | 82   | 82   | 36.3 | 6.9  | 15.9 | 0.438 | 1.4  | 4.1  | 0.331 | 5.6  | 11.7 | 0.475 | 0.481 | 2.5  | 3.8  | 0.643 | 1    | 3.4  | 4.4  | 2    | 1.1  | 0.6  | 1.7  | 2    | 17.7 | 21   | MIN  | 2.54672e+07\n",
       "Bojan Bogdanovic\\bogdabo02 | 55   | SF   | 28   | IND  | 80   | 80   | 30.8 | 5.1  | 10.7 | 0.474 | 1.9  | 4.8  | 0.402 | 3.1  | 5.8  | 0.534 | 0.565 | 2.2  | 2.6  | 0.868 | 0.4  | 3    | 3.4  | 1.5  | 0.7  | 0.1  | 1.3  | 1.6  | 14.3 | 129  | IND  | 1.05e+07\n",
       "C.J. Miles\\milescj01       | 337  | SF   | 30   | TOR  | 70   | 3    | 19.1 | 3.2  | 8.6  | 0.379 | 2.3  | 6.5  | 0.361 | 0.9  | 2.1  | 0.434 | 0.516 | 1.2  | 1.4  | 0.835 | 0.3  | 1.9  | 2.2  | 0.8  | 0.5  | 0.3  | 0.6  | 1.9  | 10   | 155  | TOR  | 8.33333e+06\n",
       "Cedi Osman\\osmande01       | 385  | SF   | 22   | CLE  | 61   | 12   | 11   | 1.5  | 3    | 0.484 | 0.5  | 1.4  | 0.368 | 1    | 1.6  | 0.586 | 0.57  | 0.4  | 0.8  | 0.565 | 0.3  | 1.7  | 2    | 0.7  | 0.4  | 0    | 0.5  | 1.3  | 3.9  | 278  | CLE  | 2.775e+06\n",
       "Chandler Parsons\\parsoch01 | 392  | SF   | 29   | MEM  | 36   | 8    | 19.2 | 3    | 6.5  | 0.462 | 1.4  | 3.4  | 0.421 | 1.6  | 3.1  | 0.504 | 0.571 | 0.5  | 0.8  | 0.63  | 0.4  | 2.1  | 2.5  | 1.9  | 0.5  | 0.3  | 1    | 1.5  | 7.9  | 32   | MEM  | 2.41073e+07\n",
       "Danilo Gallinari\\gallida01 | 168  | SF   | 29   | LAC  | 21   | 21   | 32   | 4.9  | 12.2 | 0.398 | 1.7  | 5.3  | 0.324 | 3.1  | 6.9  | 0.455 | 0.469 | 3.9  | 4.1  | 0.931 | 0.4  | 4.4  | 4.8  | 2    | 0.6  | 0.5  | 1.2  | 1.4  | 15.3 | 41   | LAC  | 2.15876e+07\n",
       "... (41 rows omitted)"
      ]
     },
     "execution_count": 461,
     "metadata": {},
     "output_type": "execute_result"
    }
   ],
   "source": [
    "#SF\n",
    "small_forward = players.where('Pos', are.equal_to('SF'))\n",
    "small_forward"
   ]
  },
  {
   "cell_type": "code",
   "execution_count": 462,
   "metadata": {},
   "outputs": [
    {
     "data": {
      "text/html": [
       "<table border=\"1\" class=\"dataframe\">\n",
       "    <thead>\n",
       "        <tr>\n",
       "            <th>Player</th> <th>Rk</th> <th>Pos</th> <th>Age</th> <th>Tm</th> <th>G</th> <th>GS</th> <th>MP</th> <th>FG</th> <th>FGA</th> <th>FG%</th> <th>3P</th> <th>3PA</th> <th>3P%</th> <th>2P</th> <th>2PA</th> <th>2P%</th> <th>eFG%</th> <th>FT</th> <th>FTA</th> <th>FT%</th> <th>ORB</th> <th>DRB</th> <th>TRB</th> <th>AST</th> <th>STL</th> <th>BLK</th> <th>TOV</th> <th>PF</th> <th>PS/G</th> <th>Rk_2</th> <th>Tm_2</th> <th>2018-19</th>\n",
       "        </tr>\n",
       "    </thead>\n",
       "    <tbody>\n",
       "        <tr>\n",
       "            <td>Aaron Gordon\\gordoaa01    </td> <td>179 </td> <td>PF  </td> <td>22  </td> <td>ORL </td> <td>58  </td> <td>57  </td> <td>32.9</td> <td>6.5 </td> <td>14.9</td> <td>0.434</td> <td>2   </td> <td>5.9 </td> <td>0.336</td> <td>4.5 </td> <td>9   </td> <td>0.497</td> <td>0.5  </td> <td>2.7 </td> <td>3.9 </td> <td>0.698</td> <td>1.5 </td> <td>6.4 </td> <td>7.9 </td> <td>2.3 </td> <td>1   </td> <td>0.8 </td> <td>1.8 </td> <td>1.9 </td> <td>17.6</td> <td>40  </td> <td>ORL </td> <td>2.15909e+07</td>\n",
       "        </tr>\n",
       "        <tr>\n",
       "            <td>Al-Farouq Aminu\\aminual01 </td> <td>11  </td> <td>PF  </td> <td>27  </td> <td>POR </td> <td>69  </td> <td>67  </td> <td>30  </td> <td>3.3 </td> <td>8.4 </td> <td>0.395</td> <td>1.8 </td> <td>4.9 </td> <td>0.369</td> <td>1.5 </td> <td>3.5 </td> <td>0.432</td> <td>0.503</td> <td>0.9 </td> <td>1.2 </td> <td>0.738</td> <td>1.4 </td> <td>6.2 </td> <td>7.6 </td> <td>1.2 </td> <td>1.1 </td> <td>0.6 </td> <td>1.1 </td> <td>2   </td> <td>9.3 </td> <td>179 </td> <td>POR </td> <td>6.95710e+06</td>\n",
       "        </tr>\n",
       "        <tr>\n",
       "            <td>Anthony Davis\\davisan02   </td> <td>122 </td> <td>PF  </td> <td>24  </td> <td>NOP </td> <td>75  </td> <td>75  </td> <td>36.4</td> <td>10.4</td> <td>19.5</td> <td>0.534</td> <td>0.7 </td> <td>2.2 </td> <td>0.34 </td> <td>9.7 </td> <td>17.3</td> <td>0.558</td> <td>0.552</td> <td>6.6 </td> <td>8   </td> <td>0.828</td> <td>2.5 </td> <td>8.6 </td> <td>11.1</td> <td>2.3 </td> <td>1.5 </td> <td>2.6 </td> <td>2.2 </td> <td>2.1 </td> <td>28.1</td> <td>24  </td> <td>NOP </td> <td>2.54343e+07</td>\n",
       "        </tr>\n",
       "        <tr>\n",
       "            <td>Anthony Tolliver\\tollian01</td> <td>482 </td> <td>PF  </td> <td>32  </td> <td>DET </td> <td>79  </td> <td>14  </td> <td>22.2</td> <td>2.8 </td> <td>6   </td> <td>0.464</td> <td>2   </td> <td>4.6 </td> <td>0.436</td> <td>0.8 </td> <td>1.4 </td> <td>0.561</td> <td>0.632</td> <td>1.3 </td> <td>1.7 </td> <td>0.797</td> <td>0.6 </td> <td>2.4 </td> <td>3.1 </td> <td>1.1 </td> <td>0.4 </td> <td>0.3 </td> <td>0.7 </td> <td>1.8 </td> <td>8.9 </td> <td>195 </td> <td>MIN </td> <td>5.75e+06   </td>\n",
       "        </tr>\n",
       "        <tr>\n",
       "            <td>Ben Moore\\moorebe01       </td> <td>348 </td> <td>PF  </td> <td>22  </td> <td>IND </td> <td>2   </td> <td>0   </td> <td>4.5 </td> <td>0   </td> <td>0   </td> <td>nan  </td> <td>0   </td> <td>0   </td> <td>nan  </td> <td>0   </td> <td>0   </td> <td>nan  </td> <td>nan  </td> <td>0   </td> <td>0   </td> <td>nan  </td> <td>0   </td> <td>0.5 </td> <td>0.5 </td> <td>0.5 </td> <td>0   </td> <td>0   </td> <td>0   </td> <td>2   </td> <td>0   </td> <td>445 </td> <td>IND </td> <td>1.34938e+06</td>\n",
       "        </tr>\n",
       "        <tr>\n",
       "            <td>Blake Griffin\\griffbl01   </td> <td>191 </td> <td>PF  </td> <td>28  </td> <td>TOT </td> <td>58  </td> <td>58  </td> <td>34  </td> <td>7.5 </td> <td>17.2</td> <td>0.438</td> <td>1.9 </td> <td>5.6 </td> <td>0.345</td> <td>5.6 </td> <td>11.6</td> <td>0.482</td> <td>0.493</td> <td>4.5 </td> <td>5.7 </td> <td>0.785</td> <td>1.3 </td> <td>6.1 </td> <td>7.4 </td> <td>5.8 </td> <td>0.7 </td> <td>0.3 </td> <td>2.8 </td> <td>2.4 </td> <td>21.4</td> <td>5   </td> <td>DET </td> <td>3.20889e+07</td>\n",
       "        </tr>\n",
       "        <tr>\n",
       "            <td>Caleb Swanigan\\swanica01  </td> <td>467 </td> <td>PF  </td> <td>20  </td> <td>POR </td> <td>27  </td> <td>3   </td> <td>7   </td> <td>0.9 </td> <td>2.2 </td> <td>0.4  </td> <td>0   </td> <td>0.3 </td> <td>0.125</td> <td>0.9 </td> <td>1.9 </td> <td>0.442</td> <td>0.408</td> <td>0.4 </td> <td>0.7 </td> <td>0.667</td> <td>0.6 </td> <td>1.4 </td> <td>2   </td> <td>0.5 </td> <td>0.2 </td> <td>0.1 </td> <td>0.7 </td> <td>1.4 </td> <td>2.3 </td> <td>358 </td> <td>POR </td> <td>1.74e+06   </td>\n",
       "        </tr>\n",
       "        <tr>\n",
       "            <td>Carmelo Anthony\\anthoca01 </td> <td>17  </td> <td>PF  </td> <td>33  </td> <td>OKC </td> <td>78  </td> <td>78  </td> <td>32.1</td> <td>6.1 </td> <td>15  </td> <td>0.404</td> <td>2.2 </td> <td>6.1 </td> <td>0.357</td> <td>3.9 </td> <td>8.9 </td> <td>0.437</td> <td>0.476</td> <td>1.9 </td> <td>2.5 </td> <td>0.767</td> <td>0.9 </td> <td>4.9 </td> <td>5.8 </td> <td>1.3 </td> <td>0.6 </td> <td>0.6 </td> <td>1.3 </td> <td>2.5 </td> <td>16.2</td> <td>20  </td> <td>ATL </td> <td>2.55343e+07</td>\n",
       "        </tr>\n",
       "        <tr>\n",
       "            <td>Carmelo Anthony\\anthoca01 </td> <td>17  </td> <td>PF  </td> <td>33  </td> <td>OKC </td> <td>78  </td> <td>78  </td> <td>32.1</td> <td>6.1 </td> <td>15  </td> <td>0.404</td> <td>2.2 </td> <td>6.1 </td> <td>0.357</td> <td>3.9 </td> <td>8.9 </td> <td>0.437</td> <td>0.476</td> <td>1.9 </td> <td>2.5 </td> <td>0.767</td> <td>0.9 </td> <td>4.9 </td> <td>5.8 </td> <td>1.3 </td> <td>0.6 </td> <td>0.6 </td> <td>1.3 </td> <td>2.5 </td> <td>16.2</td> <td>308 </td> <td>HOU </td> <td>2.39389e+06</td>\n",
       "        </tr>\n",
       "        <tr>\n",
       "            <td>D.J. Wilson\\wilsodj01     </td> <td>524 </td> <td>PF  </td> <td>21  </td> <td>MIL </td> <td>22  </td> <td>0   </td> <td>3.2 </td> <td>0.4 </td> <td>0.7 </td> <td>0.563</td> <td>0.1 </td> <td>0.2 </td> <td>0.4  </td> <td>0.3 </td> <td>0.5 </td> <td>0.636</td> <td>0.625</td> <td>0   </td> <td>0.1 </td> <td>0.5  </td> <td>0.1 </td> <td>0.4 </td> <td>0.5 </td> <td>0.1 </td> <td>0.1 </td> <td>0   </td> <td>0.2 </td> <td>0.3 </td> <td>1   </td> <td>287 </td> <td>MIL </td> <td>2.53428e+06</td>\n",
       "        </tr>\n",
       "    </tbody>\n",
       "</table>\n",
       "<p>... (49 rows omitted)</p>"
      ],
      "text/plain": [
       "Player                     | Rk   | Pos  | Age  | Tm   | G    | GS   | MP   | FG   | FGA  | FG%   | 3P   | 3PA  | 3P%   | 2P   | 2PA  | 2P%   | eFG%  | FT   | FTA  | FT%   | ORB  | DRB  | TRB  | AST  | STL  | BLK  | TOV  | PF   | PS/G | Rk_2 | Tm_2 | 2018-19\n",
       "Aaron Gordon\\gordoaa01     | 179  | PF   | 22   | ORL  | 58   | 57   | 32.9 | 6.5  | 14.9 | 0.434 | 2    | 5.9  | 0.336 | 4.5  | 9    | 0.497 | 0.5   | 2.7  | 3.9  | 0.698 | 1.5  | 6.4  | 7.9  | 2.3  | 1    | 0.8  | 1.8  | 1.9  | 17.6 | 40   | ORL  | 2.15909e+07\n",
       "Al-Farouq Aminu\\aminual01  | 11   | PF   | 27   | POR  | 69   | 67   | 30   | 3.3  | 8.4  | 0.395 | 1.8  | 4.9  | 0.369 | 1.5  | 3.5  | 0.432 | 0.503 | 0.9  | 1.2  | 0.738 | 1.4  | 6.2  | 7.6  | 1.2  | 1.1  | 0.6  | 1.1  | 2    | 9.3  | 179  | POR  | 6.95710e+06\n",
       "Anthony Davis\\davisan02    | 122  | PF   | 24   | NOP  | 75   | 75   | 36.4 | 10.4 | 19.5 | 0.534 | 0.7  | 2.2  | 0.34  | 9.7  | 17.3 | 0.558 | 0.552 | 6.6  | 8    | 0.828 | 2.5  | 8.6  | 11.1 | 2.3  | 1.5  | 2.6  | 2.2  | 2.1  | 28.1 | 24   | NOP  | 2.54343e+07\n",
       "Anthony Tolliver\\tollian01 | 482  | PF   | 32   | DET  | 79   | 14   | 22.2 | 2.8  | 6    | 0.464 | 2    | 4.6  | 0.436 | 0.8  | 1.4  | 0.561 | 0.632 | 1.3  | 1.7  | 0.797 | 0.6  | 2.4  | 3.1  | 1.1  | 0.4  | 0.3  | 0.7  | 1.8  | 8.9  | 195  | MIN  | 5.75e+06\n",
       "Ben Moore\\moorebe01        | 348  | PF   | 22   | IND  | 2    | 0    | 4.5  | 0    | 0    | nan   | 0    | 0    | nan   | 0    | 0    | nan   | nan   | 0    | 0    | nan   | 0    | 0.5  | 0.5  | 0.5  | 0    | 0    | 0    | 2    | 0    | 445  | IND  | 1.34938e+06\n",
       "Blake Griffin\\griffbl01    | 191  | PF   | 28   | TOT  | 58   | 58   | 34   | 7.5  | 17.2 | 0.438 | 1.9  | 5.6  | 0.345 | 5.6  | 11.6 | 0.482 | 0.493 | 4.5  | 5.7  | 0.785 | 1.3  | 6.1  | 7.4  | 5.8  | 0.7  | 0.3  | 2.8  | 2.4  | 21.4 | 5    | DET  | 3.20889e+07\n",
       "Caleb Swanigan\\swanica01   | 467  | PF   | 20   | POR  | 27   | 3    | 7    | 0.9  | 2.2  | 0.4   | 0    | 0.3  | 0.125 | 0.9  | 1.9  | 0.442 | 0.408 | 0.4  | 0.7  | 0.667 | 0.6  | 1.4  | 2    | 0.5  | 0.2  | 0.1  | 0.7  | 1.4  | 2.3  | 358  | POR  | 1.74e+06\n",
       "Carmelo Anthony\\anthoca01  | 17   | PF   | 33   | OKC  | 78   | 78   | 32.1 | 6.1  | 15   | 0.404 | 2.2  | 6.1  | 0.357 | 3.9  | 8.9  | 0.437 | 0.476 | 1.9  | 2.5  | 0.767 | 0.9  | 4.9  | 5.8  | 1.3  | 0.6  | 0.6  | 1.3  | 2.5  | 16.2 | 20   | ATL  | 2.55343e+07\n",
       "Carmelo Anthony\\anthoca01  | 17   | PF   | 33   | OKC  | 78   | 78   | 32.1 | 6.1  | 15   | 0.404 | 2.2  | 6.1  | 0.357 | 3.9  | 8.9  | 0.437 | 0.476 | 1.9  | 2.5  | 0.767 | 0.9  | 4.9  | 5.8  | 1.3  | 0.6  | 0.6  | 1.3  | 2.5  | 16.2 | 308  | HOU  | 2.39389e+06\n",
       "D.J. Wilson\\wilsodj01      | 524  | PF   | 21   | MIL  | 22   | 0    | 3.2  | 0.4  | 0.7  | 0.563 | 0.1  | 0.2  | 0.4   | 0.3  | 0.5  | 0.636 | 0.625 | 0    | 0.1  | 0.5   | 0.1  | 0.4  | 0.5  | 0.1  | 0.1  | 0    | 0.2  | 0.3  | 1    | 287  | MIL  | 2.53428e+06\n",
       "... (49 rows omitted)"
      ]
     },
     "execution_count": 462,
     "metadata": {},
     "output_type": "execute_result"
    }
   ],
   "source": [
    "#PF\n",
    "power_forward = players.where('Pos', are.equal_to('PF'))\n",
    "power_forward"
   ]
  },
  {
   "cell_type": "code",
   "execution_count": 463,
   "metadata": {},
   "outputs": [
    {
     "data": {
      "text/html": [
       "<table border=\"1\" class=\"dataframe\">\n",
       "    <thead>\n",
       "        <tr>\n",
       "            <th>Player</th> <th>Rk</th> <th>Pos</th> <th>Age</th> <th>Tm</th> <th>G</th> <th>GS</th> <th>MP</th> <th>FG</th> <th>FGA</th> <th>FG%</th> <th>3P</th> <th>3PA</th> <th>3P%</th> <th>2P</th> <th>2PA</th> <th>2P%</th> <th>eFG%</th> <th>FT</th> <th>FTA</th> <th>FT%</th> <th>ORB</th> <th>DRB</th> <th>TRB</th> <th>AST</th> <th>STL</th> <th>BLK</th> <th>TOV</th> <th>PF</th> <th>PS/G</th> <th>Rk_2</th> <th>Tm_2</th> <th>2018-19</th>\n",
       "        </tr>\n",
       "    </thead>\n",
       "    <tbody>\n",
       "        <tr>\n",
       "            <td>Al Horford\\horfoal01     </td> <td>227 </td> <td>C   </td> <td>31  </td> <td>BOS </td> <td>72  </td> <td>72  </td> <td>31.6</td> <td>5.1 </td> <td>10.5</td> <td>0.489</td> <td>1.3 </td> <td>3.1 </td> <td>0.429</td> <td>3.8 </td> <td>7.3 </td> <td>0.514</td> <td>0.553</td> <td>1.3 </td> <td>1.7 </td> <td>0.783</td> <td>1.4 </td> <td>5.9 </td> <td>7.4 </td> <td>4.7 </td> <td>0.6 </td> <td>1.1 </td> <td>1.8 </td> <td>1.9 </td> <td>12.9</td> <td>13  </td> <td>BOS </td> <td>2.89287e+07</td>\n",
       "        </tr>\n",
       "        <tr>\n",
       "            <td>Al Jefferson\\jeffeal01   </td> <td>250 </td> <td>C   </td> <td>33  </td> <td>IND </td> <td>36  </td> <td>1   </td> <td>13.4</td> <td>3.1 </td> <td>5.8 </td> <td>0.534</td> <td>0   </td> <td>0.1 </td> <td>0    </td> <td>3.1 </td> <td>5.7 </td> <td>0.541</td> <td>0.534</td> <td>0.8 </td> <td>1   </td> <td>0.833</td> <td>0.8 </td> <td>3.1 </td> <td>4   </td> <td>0.8 </td> <td>0.4 </td> <td>0.6 </td> <td>0.6 </td> <td>1.8 </td> <td>7   </td> <td>235 </td> <td>IND </td> <td>4e+06      </td>\n",
       "        </tr>\n",
       "        <tr>\n",
       "            <td>Alex Len\\lenal01         </td> <td>292 </td> <td>C   </td> <td>24  </td> <td>PHO </td> <td>69  </td> <td>13  </td> <td>20.2</td> <td>3.1 </td> <td>5.5 </td> <td>0.566</td> <td>0   </td> <td>0   </td> <td>0.333</td> <td>3.1 </td> <td>5.4 </td> <td>0.568</td> <td>0.567</td> <td>2.3 </td> <td>3.3 </td> <td>0.684</td> <td>2.5 </td> <td>5   </td> <td>7.5 </td> <td>1.2 </td> <td>0.4 </td> <td>0.9 </td> <td>1.1 </td> <td>2.3 </td> <td>8.5 </td> <td>227 </td> <td>ATL </td> <td>4.35e+06   </td>\n",
       "        </tr>\n",
       "        <tr>\n",
       "            <td>Amir Johnson\\johnsam01   </td> <td>254 </td> <td>C   </td> <td>30  </td> <td>PHI </td> <td>74  </td> <td>18  </td> <td>15.8</td> <td>1.9 </td> <td>3.5 </td> <td>0.538</td> <td>0.1 </td> <td>0.4 </td> <td>0.313</td> <td>1.8 </td> <td>3.1 </td> <td>0.57 </td> <td>0.558</td> <td>0.7 </td> <td>1.1 </td> <td>0.612</td> <td>1.7 </td> <td>2.8 </td> <td>4.5 </td> <td>1.6 </td> <td>0.6 </td> <td>0.6 </td> <td>0.7 </td> <td>2.6 </td> <td>4.6 </td> <td>301 </td> <td>PHI </td> <td>2.39389e+06</td>\n",
       "        </tr>\n",
       "        <tr>\n",
       "            <td>Andre Drummond\\drumman01 </td> <td>140 </td> <td>C   </td> <td>24  </td> <td>DET </td> <td>78  </td> <td>78  </td> <td>33.7</td> <td>6   </td> <td>11.3</td> <td>0.529</td> <td>0   </td> <td>0.1 </td> <td>0    </td> <td>6   </td> <td>11.2</td> <td>0.536</td> <td>0.529</td> <td>3.1 </td> <td>5.1 </td> <td>0.605</td> <td>5.1 </td> <td>10.9</td> <td>16  </td> <td>3   </td> <td>1.5 </td> <td>1.6 </td> <td>2.6 </td> <td>3.2 </td> <td>15  </td> <td>25  </td> <td>DET </td> <td>2.54343e+07</td>\n",
       "        </tr>\n",
       "        <tr>\n",
       "            <td>Ante Zizic\\zizican01     </td> <td>539 </td> <td>C   </td> <td>21  </td> <td>CLE </td> <td>32  </td> <td>2   </td> <td>6.7 </td> <td>1.5 </td> <td>2.1 </td> <td>0.731</td> <td>0   </td> <td>0   </td> <td>nan  </td> <td>1.5 </td> <td>2.1 </td> <td>0.731</td> <td>0.731</td> <td>0.7 </td> <td>0.9 </td> <td>0.724</td> <td>0.8 </td> <td>1.1 </td> <td>1.9 </td> <td>0.2 </td> <td>0.1 </td> <td>0.4 </td> <td>0.3 </td> <td>0.9 </td> <td>3.7 </td> <td>342 </td> <td>CLE </td> <td>1.95276e+06</td>\n",
       "        </tr>\n",
       "        <tr>\n",
       "            <td>Aron Baynes\\baynear01    </td> <td>35  </td> <td>C   </td> <td>31  </td> <td>BOS </td> <td>81  </td> <td>67  </td> <td>18.3</td> <td>2.6 </td> <td>5.5 </td> <td>0.471</td> <td>0   </td> <td>0.3 </td> <td>0.143</td> <td>2.6 </td> <td>5.2 </td> <td>0.487</td> <td>0.474</td> <td>0.7 </td> <td>1   </td> <td>0.756</td> <td>1.6 </td> <td>3.8 </td> <td>5.4 </td> <td>1.1 </td> <td>0.3 </td> <td>0.6 </td> <td>1   </td> <td>2.5 </td> <td>6   </td> <td>210 </td> <td>BOS </td> <td>5.1936e+06 </td>\n",
       "        </tr>\n",
       "        <tr>\n",
       "            <td>Bam Adebayo\\adebaba01    </td> <td>4   </td> <td>C   </td> <td>20  </td> <td>MIA </td> <td>69  </td> <td>19  </td> <td>19.8</td> <td>2.5 </td> <td>4.9 </td> <td>0.512</td> <td>0   </td> <td>0.1 </td> <td>0    </td> <td>2.5 </td> <td>4.8 </td> <td>0.523</td> <td>0.512</td> <td>1.9 </td> <td>2.6 </td> <td>0.721</td> <td>1.7 </td> <td>3.8 </td> <td>5.5 </td> <td>1.5 </td> <td>0.5 </td> <td>0.6 </td> <td>1   </td> <td>2   </td> <td>6.9 </td> <td>271 </td> <td>MIA </td> <td>2.95584e+06</td>\n",
       "        </tr>\n",
       "        <tr>\n",
       "            <td>Bismack Biyombo\\biyombi01</td> <td>48  </td> <td>C   </td> <td>25  </td> <td>ORL </td> <td>82  </td> <td>25  </td> <td>18.2</td> <td>2.2 </td> <td>4.3 </td> <td>0.52 </td> <td>0   </td> <td>0   </td> <td>0    </td> <td>2.2 </td> <td>4.3 </td> <td>0.521</td> <td>0.52 </td> <td>1.2 </td> <td>1.9 </td> <td>0.65 </td> <td>1.8 </td> <td>4   </td> <td>5.7 </td> <td>0.8 </td> <td>0.3 </td> <td>1.2 </td> <td>1   </td> <td>1.9 </td> <td>5.7 </td> <td>66  </td> <td>CHO </td> <td>1.7e+07    </td>\n",
       "        </tr>\n",
       "        <tr>\n",
       "            <td>Brook Lopez\\lopezbr01    </td> <td>302 </td> <td>C   </td> <td>29  </td> <td>LAL </td> <td>74  </td> <td>72  </td> <td>23.4</td> <td>5   </td> <td>10.7</td> <td>0.465</td> <td>1.5 </td> <td>4.4 </td> <td>0.345</td> <td>3.5 </td> <td>6.3 </td> <td>0.549</td> <td>0.536</td> <td>1.5 </td> <td>2.1 </td> <td>0.703</td> <td>1   </td> <td>3   </td> <td>4   </td> <td>1.7 </td> <td>0.4 </td> <td>1.3 </td> <td>1.3 </td> <td>2.6 </td> <td>13  </td> <td>253 </td> <td>MIL </td> <td>3.382e+06  </td>\n",
       "        </tr>\n",
       "    </tbody>\n",
       "</table>\n",
       "<p>... (60 rows omitted)</p>"
      ],
      "text/plain": [
       "Player                    | Rk   | Pos  | Age  | Tm   | G    | GS   | MP   | FG   | FGA  | FG%   | 3P   | 3PA  | 3P%   | 2P   | 2PA  | 2P%   | eFG%  | FT   | FTA  | FT%   | ORB  | DRB  | TRB  | AST  | STL  | BLK  | TOV  | PF   | PS/G | Rk_2 | Tm_2 | 2018-19\n",
       "Al Horford\\horfoal01      | 227  | C    | 31   | BOS  | 72   | 72   | 31.6 | 5.1  | 10.5 | 0.489 | 1.3  | 3.1  | 0.429 | 3.8  | 7.3  | 0.514 | 0.553 | 1.3  | 1.7  | 0.783 | 1.4  | 5.9  | 7.4  | 4.7  | 0.6  | 1.1  | 1.8  | 1.9  | 12.9 | 13   | BOS  | 2.89287e+07\n",
       "Al Jefferson\\jeffeal01    | 250  | C    | 33   | IND  | 36   | 1    | 13.4 | 3.1  | 5.8  | 0.534 | 0    | 0.1  | 0     | 3.1  | 5.7  | 0.541 | 0.534 | 0.8  | 1    | 0.833 | 0.8  | 3.1  | 4    | 0.8  | 0.4  | 0.6  | 0.6  | 1.8  | 7    | 235  | IND  | 4e+06\n",
       "Alex Len\\lenal01          | 292  | C    | 24   | PHO  | 69   | 13   | 20.2 | 3.1  | 5.5  | 0.566 | 0    | 0    | 0.333 | 3.1  | 5.4  | 0.568 | 0.567 | 2.3  | 3.3  | 0.684 | 2.5  | 5    | 7.5  | 1.2  | 0.4  | 0.9  | 1.1  | 2.3  | 8.5  | 227  | ATL  | 4.35e+06\n",
       "Amir Johnson\\johnsam01    | 254  | C    | 30   | PHI  | 74   | 18   | 15.8 | 1.9  | 3.5  | 0.538 | 0.1  | 0.4  | 0.313 | 1.8  | 3.1  | 0.57  | 0.558 | 0.7  | 1.1  | 0.612 | 1.7  | 2.8  | 4.5  | 1.6  | 0.6  | 0.6  | 0.7  | 2.6  | 4.6  | 301  | PHI  | 2.39389e+06\n",
       "Andre Drummond\\drumman01  | 140  | C    | 24   | DET  | 78   | 78   | 33.7 | 6    | 11.3 | 0.529 | 0    | 0.1  | 0     | 6    | 11.2 | 0.536 | 0.529 | 3.1  | 5.1  | 0.605 | 5.1  | 10.9 | 16   | 3    | 1.5  | 1.6  | 2.6  | 3.2  | 15   | 25   | DET  | 2.54343e+07\n",
       "Ante Zizic\\zizican01      | 539  | C    | 21   | CLE  | 32   | 2    | 6.7  | 1.5  | 2.1  | 0.731 | 0    | 0    | nan   | 1.5  | 2.1  | 0.731 | 0.731 | 0.7  | 0.9  | 0.724 | 0.8  | 1.1  | 1.9  | 0.2  | 0.1  | 0.4  | 0.3  | 0.9  | 3.7  | 342  | CLE  | 1.95276e+06\n",
       "Aron Baynes\\baynear01     | 35   | C    | 31   | BOS  | 81   | 67   | 18.3 | 2.6  | 5.5  | 0.471 | 0    | 0.3  | 0.143 | 2.6  | 5.2  | 0.487 | 0.474 | 0.7  | 1    | 0.756 | 1.6  | 3.8  | 5.4  | 1.1  | 0.3  | 0.6  | 1    | 2.5  | 6    | 210  | BOS  | 5.1936e+06\n",
       "Bam Adebayo\\adebaba01     | 4    | C    | 20   | MIA  | 69   | 19   | 19.8 | 2.5  | 4.9  | 0.512 | 0    | 0.1  | 0     | 2.5  | 4.8  | 0.523 | 0.512 | 1.9  | 2.6  | 0.721 | 1.7  | 3.8  | 5.5  | 1.5  | 0.5  | 0.6  | 1    | 2    | 6.9  | 271  | MIA  | 2.95584e+06\n",
       "Bismack Biyombo\\biyombi01 | 48   | C    | 25   | ORL  | 82   | 25   | 18.2 | 2.2  | 4.3  | 0.52  | 0    | 0    | 0     | 2.2  | 4.3  | 0.521 | 0.52  | 1.2  | 1.9  | 0.65  | 1.8  | 4    | 5.7  | 0.8  | 0.3  | 1.2  | 1    | 1.9  | 5.7  | 66   | CHO  | 1.7e+07\n",
       "Brook Lopez\\lopezbr01     | 302  | C    | 29   | LAL  | 74   | 72   | 23.4 | 5    | 10.7 | 0.465 | 1.5  | 4.4  | 0.345 | 3.5  | 6.3  | 0.549 | 0.536 | 1.5  | 2.1  | 0.703 | 1    | 3    | 4    | 1.7  | 0.4  | 1.3  | 1.3  | 2.6  | 13   | 253  | MIL  | 3.382e+06\n",
       "... (60 rows omitted)"
      ]
     },
     "execution_count": 463,
     "metadata": {},
     "output_type": "execute_result"
    }
   ],
   "source": [
    "#C\n",
    "center = players.where('Pos', are.equal_to('C'))\n",
    "center"
   ]
  },
  {
   "cell_type": "markdown",
   "metadata": {},
   "source": [
    "### Data Table Processing Function and Table Creations###"
   ]
  },
  {
   "cell_type": "markdown",
   "metadata": {},
   "source": [
    " Function that creates a table of statistic sum per position, including salary average for that position:"
   ]
  },
  {
   "cell_type": "code",
   "execution_count": 464,
   "metadata": {},
   "outputs": [],
   "source": [
    "# input table of players for each position, outputs table with sums of each category of statistic:\n",
    "def stat_sums_table(table):\n",
    "    fg_sum = np.sum(table.column('FG'))\n",
    "    fga_sum = np.sum(table.column('FGA'))\n",
    "    fgpct_sum = np.sum(table.column('FG%'))\n",
    "    three_p_sum = np.sum(table.column('3P'))\n",
    "    three_pa_sum = np.sum(table.column('3PA'))\n",
    "    three_ppct_sum = np.sum(table.column('3P%'))\n",
    "    two_p_sum = np.sum(table.column('2P'))\n",
    "    two_pa_sum = np.sum(table.column('2PA'))\n",
    "    two_ppct_sum = np.sum(table.column('2P%'))\n",
    "    efgpct_sum = np.sum(table.column('eFG%'))\n",
    "    orb_sum = np.sum(table.column('ORB'))\n",
    "    drb_sum = np.sum(table.column('DRB'))\n",
    "    trb_sum = np.sum(table.column('TRB'))\n",
    "    ast_sum = np.sum(table.column('AST'))\n",
    "    stl_sum = np.sum(table.column('STL'))\n",
    "    blk_sum = np.sum(table.column('BLK'))\n",
    "    tov_sum = np.sum(table.column('TOV'))\n",
    "    pf_sum = np.sum(table.column('PF'))\n",
    "    pts_sum = np.sum(table.column('PS/G'))\n",
    "    salary_sum = np.sum(table.column('2018-19'))\n",
    "\n",
    "    stat_cats = ('FG', 'FGA', 'FG%', '3P', '3PA', '3P%', '2P', '2PA', '2P%', 'eFG%', 'ORB', 'DRB', \n",
    "                    'TRB', 'AST', 'STL', 'BLK', 'TOV', 'PF', 'PPG', '2018-19 Salary')\n",
    "\n",
    "    stat_sums = (fg_sum, fga_sum, fgpct_sum, three_p_sum, three_pa_sum, three_ppct_sum,\n",
    "                  two_p_sum, two_pa_sum, two_ppct_sum, efgpct_sum, orb_sum, drb_sum,\n",
    "                  trb_sum, ast_sum, stl_sum, blk_sum, tov_sum, pf_sum, pts_sum, salary_sum)\n",
    "    return Table().with_columns('Category', stat_cats, 'Sums', stat_sums)"
   ]
  },
  {
   "cell_type": "code",
   "execution_count": 465,
   "metadata": {},
   "outputs": [
    {
     "data": {
      "text/html": [
       "<table border=\"1\" class=\"dataframe\">\n",
       "    <thead>\n",
       "        <tr>\n",
       "            <th>Category</th> <th>Sums</th>\n",
       "        </tr>\n",
       "    </thead>\n",
       "    <tbody>\n",
       "        <tr>\n",
       "            <td>FG            </td> <td>240.8      </td>\n",
       "        </tr>\n",
       "        <tr>\n",
       "            <td>FGA           </td> <td>547.7      </td>\n",
       "        </tr>\n",
       "        <tr>\n",
       "            <td>FG%           </td> <td>25.031     </td>\n",
       "        </tr>\n",
       "        <tr>\n",
       "            <td>3P            </td> <td>67.6       </td>\n",
       "        </tr>\n",
       "        <tr>\n",
       "            <td>3PA           </td> <td>188        </td>\n",
       "        </tr>\n",
       "        <tr>\n",
       "            <td>3P%           </td> <td>18.755     </td>\n",
       "        </tr>\n",
       "        <tr>\n",
       "            <td>2P            </td> <td>173        </td>\n",
       "        </tr>\n",
       "        <tr>\n",
       "            <td>2PA           </td> <td>360        </td>\n",
       "        </tr>\n",
       "        <tr>\n",
       "            <td>2P%           </td> <td>27.721     </td>\n",
       "        </tr>\n",
       "        <tr>\n",
       "            <td>eFG%          </td> <td>28.478     </td>\n",
       "        </tr>\n",
       "        <tr>\n",
       "            <td>ORB           </td> <td>28.9       </td>\n",
       "        </tr>\n",
       "        <tr>\n",
       "            <td>DRB           </td> <td>144.6      </td>\n",
       "        </tr>\n",
       "        <tr>\n",
       "            <td>TRB           </td> <td>174.1      </td>\n",
       "        </tr>\n",
       "        <tr>\n",
       "            <td>AST           </td> <td>250        </td>\n",
       "        </tr>\n",
       "        <tr>\n",
       "            <td>STL           </td> <td>52.5       </td>\n",
       "        </tr>\n",
       "        <tr>\n",
       "            <td>BLK           </td> <td>13.4       </td>\n",
       "        </tr>\n",
       "        <tr>\n",
       "            <td>TOV           </td> <td>103.1      </td>\n",
       "        </tr>\n",
       "        <tr>\n",
       "            <td>PF            </td> <td>102.2      </td>\n",
       "        </tr>\n",
       "        <tr>\n",
       "            <td>PPG           </td> <td>668.4      </td>\n",
       "        </tr>\n",
       "        <tr>\n",
       "            <td>2018-19 Salary</td> <td>5.71688e+08</td>\n",
       "        </tr>\n",
       "    </tbody>\n",
       "</table>"
      ],
      "text/plain": [
       "<IPython.core.display.HTML object>"
      ]
     },
     "metadata": {},
     "output_type": "display_data"
    }
   ],
   "source": [
    "point_guard_sums = stat_sums_table(point_guard)\n",
    "point_guard_sums.show()"
   ]
  },
  {
   "cell_type": "code",
   "execution_count": 466,
   "metadata": {},
   "outputs": [],
   "source": [
    "shooting_guard_sums = stat_sums_table(shooting_guard)\n",
    "power_forward_sums = stat_sums_table(power_forward)\n",
    "small_forward_sums = stat_sums_table(small_forward)\n",
    "center_sums = stat_sums_table(center)"
   ]
  },
  {
   "cell_type": "code",
   "execution_count": 467,
   "metadata": {},
   "outputs": [],
   "source": [
    "shooting_guard_sums = shooting_guard_sums.sort('Sums', descending=True)\n",
    "power_forward_sums = power_forward_sums.sort('Sums', descending=True)\n",
    "small_forward_sums = small_forward_sums.sort('Sums', descending=True)\n",
    "center_sums = center_sums.sort('Sums', descending=True)"
   ]
  },
  {
   "cell_type": "markdown",
   "metadata": {},
   "source": [
    "**Tables of statistic averages per position, including salary average for that position:**"
   ]
  },
  {
   "cell_type": "code",
   "execution_count": 468,
   "metadata": {},
   "outputs": [],
   "source": [
    "# input table of players for each position, outputs table with sums of each category of statistic:\n",
    "def stat_means_table(table):\n",
    "    fg = np.mean(table.column('FG'))\n",
    "    fga = np.mean(table.column('FGA'))\n",
    "    fgpct = np.mean(table.column('FG%'))\n",
    "    three_p = np.mean(table.column('3P'))\n",
    "    three_pa = np.mean(table.column('3PA'))\n",
    "    three_ppct = np.mean(table.column('3P%'))\n",
    "    two_p = np.mean(table.column('2P'))\n",
    "    two_pa = np.mean(table.column('2PA'))\n",
    "    two_ppct = np.mean(table.column('2P%'))\n",
    "    efgpct = np.mean(table.column('eFG%'))\n",
    "    orb = np.mean(table.column('ORB'))\n",
    "    drb = np.mean(table.column('DRB'))\n",
    "    trb = np.mean(table.column('TRB'))\n",
    "    ast = np.mean(table.column('AST'))\n",
    "    stl = np.mean(table.column('STL'))\n",
    "    blk = np.mean(table.column('BLK'))\n",
    "    tov = np.mean(table.column('TOV'))\n",
    "    pf = np.mean(table.column('PF'))\n",
    "    pts = np.mean(table.column('PS/G'))\n",
    "    salary = np.mean(table.column('2018-19'))\n",
    "\n",
    "    stat_cats = ('FG', 'FGA', 'FG%', '3P', '3PA', '3P%', '2P', '2PA', '2P%', 'eFG%', 'ORB', 'DRB', \n",
    "                    'TRB', 'AST', 'STL', 'BLK', 'TOV', 'PF', 'PPG', '2018-19 Salary')\n",
    "\n",
    "    stat_averages = (fg, fga, fgpct, three_p, three_pa, three_ppct,\n",
    "                  two_p, two_pa, two_ppct, efgpct, orb, drb,\n",
    "                  trb, ast, stl, blk, tov, pf, pts, salary)\n",
    "    return Table().with_columns('Category', stat_cats, 'Means', stat_averages)"
   ]
  },
  {
   "cell_type": "code",
   "execution_count": 469,
   "metadata": {},
   "outputs": [
    {
     "data": {
      "text/html": [
       "<table border=\"1\" class=\"dataframe\">\n",
       "    <thead>\n",
       "        <tr>\n",
       "            <th>Category</th> <th>Means</th>\n",
       "        </tr>\n",
       "    </thead>\n",
       "    <tbody>\n",
       "        <tr>\n",
       "            <td>FG            </td> <td>4.22456    </td>\n",
       "        </tr>\n",
       "        <tr>\n",
       "            <td>FGA           </td> <td>9.60877    </td>\n",
       "        </tr>\n",
       "        <tr>\n",
       "            <td>FG%           </td> <td>0.43914    </td>\n",
       "        </tr>\n",
       "        <tr>\n",
       "            <td>3P            </td> <td>1.18596    </td>\n",
       "        </tr>\n",
       "        <tr>\n",
       "            <td>3PA           </td> <td>3.29825    </td>\n",
       "        </tr>\n",
       "        <tr>\n",
       "            <td>3P%           </td> <td>0.329035   </td>\n",
       "        </tr>\n",
       "        <tr>\n",
       "            <td>2P            </td> <td>3.03509    </td>\n",
       "        </tr>\n",
       "        <tr>\n",
       "            <td>2PA           </td> <td>6.31579    </td>\n",
       "        </tr>\n",
       "        <tr>\n",
       "            <td>2P%           </td> <td>0.486333   </td>\n",
       "        </tr>\n",
       "        <tr>\n",
       "            <td>eFG%          </td> <td>0.499614   </td>\n",
       "        </tr>\n",
       "        <tr>\n",
       "            <td>ORB           </td> <td>0.507018   </td>\n",
       "        </tr>\n",
       "        <tr>\n",
       "            <td>DRB           </td> <td>2.53684    </td>\n",
       "        </tr>\n",
       "        <tr>\n",
       "            <td>TRB           </td> <td>3.05439    </td>\n",
       "        </tr>\n",
       "        <tr>\n",
       "            <td>AST           </td> <td>4.38596    </td>\n",
       "        </tr>\n",
       "        <tr>\n",
       "            <td>STL           </td> <td>0.921053   </td>\n",
       "        </tr>\n",
       "        <tr>\n",
       "            <td>BLK           </td> <td>0.235088   </td>\n",
       "        </tr>\n",
       "        <tr>\n",
       "            <td>TOV           </td> <td>1.80877    </td>\n",
       "        </tr>\n",
       "        <tr>\n",
       "            <td>PF            </td> <td>1.79298    </td>\n",
       "        </tr>\n",
       "        <tr>\n",
       "            <td>PPG           </td> <td>11.7263    </td>\n",
       "        </tr>\n",
       "        <tr>\n",
       "            <td>2018-19 Salary</td> <td>1.00296e+07</td>\n",
       "        </tr>\n",
       "    </tbody>\n",
       "</table>"
      ],
      "text/plain": [
       "<IPython.core.display.HTML object>"
      ]
     },
     "metadata": {},
     "output_type": "display_data"
    }
   ],
   "source": [
    "point_guard_means = stat_means_table(point_guard)\n",
    "point_guard_means.show()"
   ]
  },
  {
   "cell_type": "code",
   "execution_count": 470,
   "metadata": {},
   "outputs": [],
   "source": [
    "shooting_guard_means = stat_means_table(shooting_guard)\n",
    "power_forward_means = stat_means_table(power_forward)\n",
    "small_forward_means = stat_means_table(small_forward)\n",
    "center_means = stat_means_table(center)"
   ]
  },
  {
   "cell_type": "code",
   "execution_count": 471,
   "metadata": {},
   "outputs": [],
   "source": [
    "shooting_guard_means = shooting_guard_means.sort('Means', descending=True)\n",
    "power_forward_means = power_forward_means.sort('Means', descending=True)\n",
    "small_forward_means = small_forward_means.sort('Means', descending=True)\n",
    "center_means = center_means.sort('Means', descending=True)"
   ]
  },
  {
   "cell_type": "markdown",
   "metadata": {},
   "source": [
    "### Analyze the rank of the positions' means per category. "
   ]
  },
  {
   "cell_type": "code",
   "execution_count": 472,
   "metadata": {},
   "outputs": [],
   "source": [
    "# change the 'means' column title to 'position means'\n",
    "def change_title(table, position):\n",
    "    table = table.relabel('Means', position + ' Means')"
   ]
  },
  {
   "cell_type": "code",
   "execution_count": 473,
   "metadata": {},
   "outputs": [
    {
     "data": {
      "text/html": [
       "<table border=\"1\" class=\"dataframe\">\n",
       "    <thead>\n",
       "        <tr>\n",
       "            <th>Category</th> <th>Means</th> <th>Means_2</th> <th>Means_3</th> <th>Means_4</th> <th>Means_5</th>\n",
       "        </tr>\n",
       "    </thead>\n",
       "    <tbody>\n",
       "        <tr>\n",
       "            <td>2018-19 Salary</td> <td>1.00296e+07</td> <td>9.20274e+06</td> <td>1.04822e+07</td> <td>9.80793e+06</td> <td>9.92559e+06</td>\n",
       "        </tr>\n",
       "        <tr>\n",
       "            <td>2P            </td> <td>3.03509    </td> <td>2.61622    </td> <td>2.88475    </td> <td>2.19804    </td> <td>3.00286    </td>\n",
       "        </tr>\n",
       "        <tr>\n",
       "            <td>2P%           </td> <td>0.486333   </td> <td>0.476459   </td> <td>nan        </td> <td>0.520314   </td> <td>0.547214   </td>\n",
       "        </tr>\n",
       "        <tr>\n",
       "            <td>2PA           </td> <td>6.31579    </td> <td>5.42027    </td> <td>5.52542    </td> <td>4.32157    </td> <td>5.40429    </td>\n",
       "        </tr>\n",
       "        <tr>\n",
       "            <td>3P            </td> <td>1.18596    </td> <td>1.52838    </td> <td>1.02373    </td> <td>1.04902    </td> <td>0.268571   </td>\n",
       "        </tr>\n",
       "        <tr>\n",
       "            <td>3P%           </td> <td>0.329035   </td> <td>0.356311   </td> <td>nan        </td> <td>nan        </td> <td>nan        </td>\n",
       "        </tr>\n",
       "        <tr>\n",
       "            <td>3PA           </td> <td>3.29825    </td> <td>4.15       </td> <td>2.80678    </td> <td>2.92353    </td> <td>0.801429   </td>\n",
       "        </tr>\n",
       "        <tr>\n",
       "            <td>AST           </td> <td>4.38596    </td> <td>2.36216    </td> <td>1.65763    </td> <td>1.48824    </td> <td>1.29286    </td>\n",
       "        </tr>\n",
       "        <tr>\n",
       "            <td>BLK           </td> <td>0.235088   </td> <td>0.293243   </td> <td>0.535593   </td> <td>0.335294   </td> <td>0.767143   </td>\n",
       "        </tr>\n",
       "        <tr>\n",
       "            <td>DRB           </td> <td>2.53684    </td> <td>2.46622    </td> <td>3.80678    </td> <td>2.63922    </td> <td>4.18429    </td>\n",
       "        </tr>\n",
       "    </tbody>\n",
       "</table>\n",
       "<p>... (10 rows omitted)</p>"
      ],
      "text/plain": [
       "Category       | Means       | Means_2     | Means_3     | Means_4     | Means_5\n",
       "2018-19 Salary | 1.00296e+07 | 9.20274e+06 | 1.04822e+07 | 9.80793e+06 | 9.92559e+06\n",
       "2P             | 3.03509     | 2.61622     | 2.88475     | 2.19804     | 3.00286\n",
       "2P%            | 0.486333    | 0.476459    | nan         | 0.520314    | 0.547214\n",
       "2PA            | 6.31579     | 5.42027     | 5.52542     | 4.32157     | 5.40429\n",
       "3P             | 1.18596     | 1.52838     | 1.02373     | 1.04902     | 0.268571\n",
       "3P%            | 0.329035    | 0.356311    | nan         | nan         | nan\n",
       "3PA            | 3.29825     | 4.15        | 2.80678     | 2.92353     | 0.801429\n",
       "AST            | 4.38596     | 2.36216     | 1.65763     | 1.48824     | 1.29286\n",
       "BLK            | 0.235088    | 0.293243    | 0.535593    | 0.335294    | 0.767143\n",
       "DRB            | 2.53684     | 2.46622     | 3.80678     | 2.63922     | 4.18429\n",
       "... (10 rows omitted)"
      ]
     },
     "execution_count": 473,
     "metadata": {},
     "output_type": "execute_result"
    }
   ],
   "source": [
    "# join means columns from all tables into one to compare:\n",
    "all_position_means = point_guard_means.join('Category', shooting_guard_means).join('Category', power_forward_means).join('Category', small_forward_means).join('Category', center_means)\n",
    "all_position_means"
   ]
  },
  {
   "cell_type": "code",
   "execution_count": 348,
   "metadata": {},
   "outputs": [
    {
     "data": {
      "text/html": [
       "<table border=\"1\" class=\"dataframe\">\n",
       "    <thead>\n",
       "        <tr>\n",
       "            <th>Category</th> <th>Means</th> <th>Means_2</th> <th>Means_3</th> <th>Means_4</th> <th>Means_5</th>\n",
       "        </tr>\n",
       "    </thead>\n",
       "    <tbody>\n",
       "        <tr>\n",
       "            <td>2018-19 Salary</td> <td>1.20346e+07</td> <td>1.11578e+07</td> <td>1.30362e+07</td> <td>1.2044e+07</td> <td>1.15952e+07</td>\n",
       "        </tr>\n",
       "        <tr>\n",
       "            <td>2P            </td> <td>3.21591    </td> <td>2.94386    </td> <td>3.32444    </td> <td>2.35641   </td> <td>3.33793    </td>\n",
       "        </tr>\n",
       "        <tr>\n",
       "            <td>2P%           </td> <td>0.482318   </td> <td>0.482667   </td> <td>0.507067   </td> <td>0.508821  </td> <td>0.5475     </td>\n",
       "        </tr>\n",
       "        <tr>\n",
       "            <td>2PA           </td> <td>6.64545    </td> <td>6.04211    </td> <td>6.35778    </td> <td>4.63333   </td> <td>6.00862    </td>\n",
       "        </tr>\n",
       "        <tr>\n",
       "            <td>3P            </td> <td>1.33636    </td> <td>1.74737    </td> <td>1.15778    </td> <td>1.18205   </td> <td>0.306897   </td>\n",
       "        </tr>\n",
       "        <tr>\n",
       "            <td>3P%           </td> <td>0.343386   </td> <td>0.364526   </td> <td>nan        </td> <td>nan       </td> <td>nan        </td>\n",
       "        </tr>\n",
       "        <tr>\n",
       "            <td>3PA           </td> <td>3.64545    </td> <td>4.71404    </td> <td>3.15333    </td> <td>3.25128   </td> <td>0.901724   </td>\n",
       "        </tr>\n",
       "        <tr>\n",
       "            <td>AST           </td> <td>4.61818    </td> <td>2.65263    </td> <td>1.95111    </td> <td>1.66923   </td> <td>1.43103    </td>\n",
       "        </tr>\n",
       "        <tr>\n",
       "            <td>BLK           </td> <td>0.218182   </td> <td>0.335088   </td> <td>0.577778   </td> <td>0.361538  </td> <td>0.827586   </td>\n",
       "        </tr>\n",
       "        <tr>\n",
       "            <td>DRB           </td> <td>2.53864    </td> <td>2.67193    </td> <td>4.24889    </td> <td>2.80769   </td> <td>4.67414    </td>\n",
       "        </tr>\n",
       "        <tr>\n",
       "            <td>FG            </td> <td>4.55       </td> <td>4.69474    </td> <td>4.47556    </td> <td>3.53846   </td> <td>3.64655    </td>\n",
       "        </tr>\n",
       "        <tr>\n",
       "            <td>FG%           </td> <td>0.439023   </td> <td>0.432018   </td> <td>0.459956   </td> <td>0.445923  </td> <td>0.521569   </td>\n",
       "        </tr>\n",
       "        <tr>\n",
       "            <td>FGA           </td> <td>10.2886    </td> <td>10.7526    </td> <td>9.50444    </td> <td>7.88974   </td> <td>6.90517    </td>\n",
       "        </tr>\n",
       "        <tr>\n",
       "            <td>ORB           </td> <td>0.488636   </td> <td>0.533333   </td> <td>1.15778    </td> <td>0.635897  </td> <td>1.87586    </td>\n",
       "        </tr>\n",
       "        <tr>\n",
       "            <td>PF            </td> <td>1.78864    </td> <td>1.80351    </td> <td>2.02444    </td> <td>1.70256   </td> <td>2.12069    </td>\n",
       "        </tr>\n",
       "        <tr>\n",
       "            <td>PPG           </td> <td>12.7886    </td> <td>13.0632    </td> <td>11.9644    </td> <td>9.6359    </td> <td>9.23103    </td>\n",
       "        </tr>\n",
       "        <tr>\n",
       "            <td>STL           </td> <td>0.922727   </td> <td>0.938596   </td> <td>0.724444   </td> <td>0.869231  </td> <td>0.543103   </td>\n",
       "        </tr>\n",
       "        <tr>\n",
       "            <td>TOV           </td> <td>1.86591    </td> <td>1.53684    </td> <td>1.36222    </td> <td>1.04615   </td> <td>1.27759    </td>\n",
       "        </tr>\n",
       "        <tr>\n",
       "            <td>TRB           </td> <td>3.03864    </td> <td>3.19474    </td> <td>5.39556    </td> <td>3.44872   </td> <td>6.55862    </td>\n",
       "        </tr>\n",
       "        <tr>\n",
       "            <td>eFG%          </td> <td>0.501955   </td> <td>0.51686    </td> <td>0.526578   </td> <td>0.516051  </td> <td>0.540069   </td>\n",
       "        </tr>\n",
       "    </tbody>\n",
       "</table>"
      ],
      "text/plain": [
       "<IPython.core.display.HTML object>"
      ]
     },
     "metadata": {},
     "output_type": "display_data"
    }
   ],
   "source": [
    "all_position_means.show()"
   ]
  },
  {
   "cell_type": "code",
   "execution_count": 349,
   "metadata": {},
   "outputs": [],
   "source": [
    "point_guard.to_csv('point_guard.csv')\n",
    "shooting_guard.to_csv('shooting_guard_guard.csv')\n",
    "power_forward.to_csv('power_forward.csv')\n",
    "center.to_csv('center.csv')\n",
    "small_forward.to_csv('small_forward.csv')"
   ]
  },
  {
   "cell_type": "markdown",
   "metadata": {},
   "source": [
    "### Using pandas to Generate DataFrames ###"
   ]
  },
  {
   "cell_type": "code",
   "execution_count": 474,
   "metadata": {},
   "outputs": [],
   "source": [
    "#Creating Pandas type dataset\n",
    "\n",
    "import pandas as pd\n",
    "import numpy as np\n",
    "import matplotlib.pyplot as plt\n",
    "from sklearn import linear_model\n",
    "df_pg = pd.read_csv('point_guard.csv')\n",
    "f_pg = df_pg.isnull().values.any()"
   ]
  },
  {
   "cell_type": "code",
   "execution_count": 475,
   "metadata": {},
   "outputs": [],
   "source": [
    "df_pg = pd.read_csv('point_guard.csv')\n",
    "df_sg = pd.read_csv('shooting_guard_guard.csv')\n",
    "df_pf = pd.read_csv('power_forward.csv')\n",
    "df_c = pd.read_csv('center.csv')\n",
    "df_sf = pd.read_csv('small_forward.csv')\n",
    "\n"
   ]
  },
  {
   "cell_type": "code",
   "execution_count": 358,
   "metadata": {},
   "outputs": [],
   "source": [
    "frames = [df_pg, df_sg]\n",
    "df_g = pd.concat(frames)\n",
    "# Join PG and SG"
   ]
  },
  {
   "cell_type": "code",
   "execution_count": 359,
   "metadata": {},
   "outputs": [],
   "source": [
    "frames = [df_sf, df_pf]\n",
    "df_f = pd.concat(frames)\n",
    "\n",
    "#Joining Forwards"
   ]
  },
  {
   "cell_type": "code",
   "execution_count": 479,
   "metadata": {},
   "outputs": [
    {
     "data": {
      "text/html": [
       "<div>\n",
       "<style scoped>\n",
       "    .dataframe tbody tr th:only-of-type {\n",
       "        vertical-align: middle;\n",
       "    }\n",
       "\n",
       "    .dataframe tbody tr th {\n",
       "        vertical-align: top;\n",
       "    }\n",
       "\n",
       "    .dataframe thead th {\n",
       "        text-align: right;\n",
       "    }\n",
       "</style>\n",
       "<table border=\"1\" class=\"dataframe\">\n",
       "  <thead>\n",
       "    <tr style=\"text-align: right;\">\n",
       "      <th></th>\n",
       "      <th>Player</th>\n",
       "      <th>Rk_x</th>\n",
       "      <th>Pos</th>\n",
       "      <th>Age</th>\n",
       "      <th>Tm</th>\n",
       "      <th>G</th>\n",
       "      <th>GS</th>\n",
       "      <th>MP</th>\n",
       "      <th>FG</th>\n",
       "      <th>FGA</th>\n",
       "      <th>...</th>\n",
       "      <th>AST%</th>\n",
       "      <th>STL%</th>\n",
       "      <th>BLK%</th>\n",
       "      <th>TOV%</th>\n",
       "      <th>USG%</th>\n",
       "      <th>WS</th>\n",
       "      <th>WS/48</th>\n",
       "      <th>BPM</th>\n",
       "      <th>VORP</th>\n",
       "      <th>zscore_PPG</th>\n",
       "    </tr>\n",
       "  </thead>\n",
       "  <tbody>\n",
       "    <tr>\n",
       "      <th>0</th>\n",
       "      <td>Andre Iguodala\\iguodan01</td>\n",
       "      <td>234</td>\n",
       "      <td>SF</td>\n",
       "      <td>34.0</td>\n",
       "      <td>GSW</td>\n",
       "      <td>64.0</td>\n",
       "      <td>7.0</td>\n",
       "      <td>25.3</td>\n",
       "      <td>2.3</td>\n",
       "      <td>5.0</td>\n",
       "      <td>...</td>\n",
       "      <td>16.2</td>\n",
       "      <td>1.6</td>\n",
       "      <td>1.9</td>\n",
       "      <td>15.8</td>\n",
       "      <td>11.5</td>\n",
       "      <td>3.2</td>\n",
       "      <td>0.094</td>\n",
       "      <td>0.2</td>\n",
       "      <td>0.9</td>\n",
       "      <td>-0.787122</td>\n",
       "    </tr>\n",
       "    <tr>\n",
       "      <th>1</th>\n",
       "      <td>Andrew Wiggins\\wiggian01</td>\n",
       "      <td>514</td>\n",
       "      <td>SF</td>\n",
       "      <td>22.0</td>\n",
       "      <td>MIN</td>\n",
       "      <td>82.0</td>\n",
       "      <td>82.0</td>\n",
       "      <td>36.3</td>\n",
       "      <td>6.9</td>\n",
       "      <td>15.9</td>\n",
       "      <td>...</td>\n",
       "      <td>8.2</td>\n",
       "      <td>1.5</td>\n",
       "      <td>1.5</td>\n",
       "      <td>8.8</td>\n",
       "      <td>23.4</td>\n",
       "      <td>2.1</td>\n",
       "      <td>0.034</td>\n",
       "      <td>-2.5</td>\n",
       "      <td>-0.4</td>\n",
       "      <td>1.098747</td>\n",
       "    </tr>\n",
       "    <tr>\n",
       "      <th>2</th>\n",
       "      <td>Bojan Bogdanovic\\bogdabo02</td>\n",
       "      <td>55</td>\n",
       "      <td>SF</td>\n",
       "      <td>28.0</td>\n",
       "      <td>IND</td>\n",
       "      <td>80.0</td>\n",
       "      <td>80.0</td>\n",
       "      <td>30.8</td>\n",
       "      <td>5.1</td>\n",
       "      <td>10.7</td>\n",
       "      <td>...</td>\n",
       "      <td>7.1</td>\n",
       "      <td>1.1</td>\n",
       "      <td>0.3</td>\n",
       "      <td>10.1</td>\n",
       "      <td>19.0</td>\n",
       "      <td>5.4</td>\n",
       "      <td>0.105</td>\n",
       "      <td>-0.7</td>\n",
       "      <td>0.8</td>\n",
       "      <td>0.550717</td>\n",
       "    </tr>\n",
       "    <tr>\n",
       "      <th>3</th>\n",
       "      <td>C.J. Miles\\milescj01</td>\n",
       "      <td>337</td>\n",
       "      <td>SF</td>\n",
       "      <td>30.0</td>\n",
       "      <td>TOR</td>\n",
       "      <td>70.0</td>\n",
       "      <td>3.0</td>\n",
       "      <td>19.1</td>\n",
       "      <td>3.2</td>\n",
       "      <td>8.6</td>\n",
       "      <td>...</td>\n",
       "      <td>6.0</td>\n",
       "      <td>1.4</td>\n",
       "      <td>1.3</td>\n",
       "      <td>5.7</td>\n",
       "      <td>22.3</td>\n",
       "      <td>2.9</td>\n",
       "      <td>0.103</td>\n",
       "      <td>-0.5</td>\n",
       "      <td>0.5</td>\n",
       "      <td>-0.142380</td>\n",
       "    </tr>\n",
       "    <tr>\n",
       "      <th>4</th>\n",
       "      <td>Chandler Parsons\\parsoch01</td>\n",
       "      <td>392</td>\n",
       "      <td>SF</td>\n",
       "      <td>29.0</td>\n",
       "      <td>MEM</td>\n",
       "      <td>36.0</td>\n",
       "      <td>8.0</td>\n",
       "      <td>19.2</td>\n",
       "      <td>3.0</td>\n",
       "      <td>6.5</td>\n",
       "      <td>...</td>\n",
       "      <td>16.4</td>\n",
       "      <td>1.3</td>\n",
       "      <td>1.5</td>\n",
       "      <td>12.5</td>\n",
       "      <td>18.3</td>\n",
       "      <td>1.1</td>\n",
       "      <td>0.077</td>\n",
       "      <td>-1.2</td>\n",
       "      <td>0.1</td>\n",
       "      <td>-0.480870</td>\n",
       "    </tr>\n",
       "  </tbody>\n",
       "</table>\n",
       "<p>5 rows × 50 columns</p>\n",
       "</div>"
      ],
      "text/plain": [
       "                       Player  Rk_x Pos   Age   Tm     G    GS    MP   FG  \\\n",
       "0    Andre Iguodala\\iguodan01   234  SF  34.0  GSW  64.0   7.0  25.3  2.3   \n",
       "1    Andrew Wiggins\\wiggian01   514  SF  22.0  MIN  82.0  82.0  36.3  6.9   \n",
       "2  Bojan Bogdanovic\\bogdabo02    55  SF  28.0  IND  80.0  80.0  30.8  5.1   \n",
       "3        C.J. Miles\\milescj01   337  SF  30.0  TOR  70.0   3.0  19.1  3.2   \n",
       "4  Chandler Parsons\\parsoch01   392  SF  29.0  MEM  36.0   8.0  19.2  3.0   \n",
       "\n",
       "    FGA     ...      AST%  STL%  BLK%  TOV%  USG%   WS  WS/48  BPM  VORP  \\\n",
       "0   5.0     ...      16.2   1.6   1.9  15.8  11.5  3.2  0.094  0.2   0.9   \n",
       "1  15.9     ...       8.2   1.5   1.5   8.8  23.4  2.1  0.034 -2.5  -0.4   \n",
       "2  10.7     ...       7.1   1.1   0.3  10.1  19.0  5.4  0.105 -0.7   0.8   \n",
       "3   8.6     ...       6.0   1.4   1.3   5.7  22.3  2.9  0.103 -0.5   0.5   \n",
       "4   6.5     ...      16.4   1.3   1.5  12.5  18.3  1.1  0.077 -1.2   0.1   \n",
       "\n",
       "   zscore_PPG  \n",
       "0   -0.787122  \n",
       "1    1.098747  \n",
       "2    0.550717  \n",
       "3   -0.142380  \n",
       "4   -0.480870  \n",
       "\n",
       "[5 rows x 50 columns]"
      ]
     },
     "execution_count": 479,
     "metadata": {},
     "output_type": "execute_result"
    }
   ],
   "source": [
    "df_f.head()"
   ]
  },
  {
   "cell_type": "markdown",
   "metadata": {},
   "source": [
    "### Z-Scores for Specific Statistics ###"
   ]
  },
  {
   "cell_type": "markdown",
   "metadata": {},
   "source": [
    "Z-scores are used to standarize categories that are represented in percentages because the decimal differences will give these categories a larger weight if used in its raw state. "
   ]
  },
  {
   "cell_type": "code",
   "execution_count": 480,
   "metadata": {},
   "outputs": [],
   "source": [
    "df_g['zscore_FG%'] = ((df_g['FG%'] - df_g['FG%'].mean()) /df_g['FG%'].std())\n",
    "df_f['zscore_FG%'] = ((df_f['FG%'] - df_f['FG%'].mean()) /df_f['FG%'].std())\n",
    "df_c['zscore_FG%'] = ((df_c['FG%'] - df_c['FG%'].mean()) /df_c['FG%'].std())\n",
    "#Creating Z score for FG%"
   ]
  },
  {
   "cell_type": "code",
   "execution_count": 481,
   "metadata": {},
   "outputs": [],
   "source": [
    "df_g['zscore_3P%'] = ((df_g['3P%'] - df_g['3P%'].mean()) /df_g['3P%'].std())\n",
    "df_f['zscore_3P%'] = ((df_f['3P%'] - df_f['3P%'].mean()) /df_f['3P%'].std())\n",
    "df_c['zscore_3P%'] = ((df_c['3P%'] - df_c['3P%'].mean()) /df_c['3P%'].std())\n",
    "#Creating Z score for 3P%"
   ]
  },
  {
   "cell_type": "code",
   "execution_count": 482,
   "metadata": {},
   "outputs": [],
   "source": [
    "df_g['zscore_PPG'] = ((df_g['PS/G'] - df_g['PS/G'].mean()) /df_g['PS/G'].std())\n",
    "df_f['zscore_PPG'] = ((df_f['PS/G'] - df_f['PS/G'].mean()) /df_f['PS/G'].std())\n",
    "df_c['zscore_PPG'] = ((df_c['PS/G'] - df_c['PS/G'].mean()) /df_c['PS/G'].std())\n",
    "\n",
    "#Creating Z score for PPS"
   ]
  },
  {
   "cell_type": "code",
   "execution_count": 484,
   "metadata": {},
   "outputs": [],
   "source": [
    "df_adv = pd.read_csv('rookies_2017-18_Advanced.csv')\n",
    "\n",
    "#import advanced stats"
   ]
  },
  {
   "cell_type": "code",
   "execution_count": 485,
   "metadata": {},
   "outputs": [
    {
     "data": {
      "text/html": [
       "<div>\n",
       "<style scoped>\n",
       "    .dataframe tbody tr th:only-of-type {\n",
       "        vertical-align: middle;\n",
       "    }\n",
       "\n",
       "    .dataframe tbody tr th {\n",
       "        vertical-align: top;\n",
       "    }\n",
       "\n",
       "    .dataframe thead th {\n",
       "        text-align: right;\n",
       "    }\n",
       "</style>\n",
       "<table border=\"1\" class=\"dataframe\">\n",
       "  <thead>\n",
       "    <tr style=\"text-align: right;\">\n",
       "      <th></th>\n",
       "      <th>Rk</th>\n",
       "      <th>Player</th>\n",
       "      <th>PER</th>\n",
       "      <th>TS%</th>\n",
       "      <th>3PAr</th>\n",
       "      <th>FTr</th>\n",
       "      <th>AST%</th>\n",
       "      <th>STL%</th>\n",
       "      <th>BLK%</th>\n",
       "      <th>TOV%</th>\n",
       "      <th>USG%</th>\n",
       "      <th>WS</th>\n",
       "      <th>WS/48</th>\n",
       "      <th>BPM</th>\n",
       "      <th>VORP</th>\n",
       "    </tr>\n",
       "  </thead>\n",
       "  <tbody>\n",
       "    <tr>\n",
       "      <th>0</th>\n",
       "      <td>1</td>\n",
       "      <td>Alex Abrines\\abrinal01</td>\n",
       "      <td>9.0</td>\n",
       "      <td>0.567</td>\n",
       "      <td>0.759</td>\n",
       "      <td>0.158</td>\n",
       "      <td>3.4</td>\n",
       "      <td>1.7</td>\n",
       "      <td>0.6</td>\n",
       "      <td>7.4</td>\n",
       "      <td>12.7</td>\n",
       "      <td>2.2</td>\n",
       "      <td>0.094</td>\n",
       "      <td>-2.2</td>\n",
       "      <td>-0.1</td>\n",
       "    </tr>\n",
       "    <tr>\n",
       "      <th>1</th>\n",
       "      <td>2</td>\n",
       "      <td>Quincy Acy\\acyqu01</td>\n",
       "      <td>8.2</td>\n",
       "      <td>0.525</td>\n",
       "      <td>0.800</td>\n",
       "      <td>0.164</td>\n",
       "      <td>6.0</td>\n",
       "      <td>1.2</td>\n",
       "      <td>1.6</td>\n",
       "      <td>13.3</td>\n",
       "      <td>14.4</td>\n",
       "      <td>1.0</td>\n",
       "      <td>0.036</td>\n",
       "      <td>-2.2</td>\n",
       "      <td>-0.1</td>\n",
       "    </tr>\n",
       "    <tr>\n",
       "      <th>2</th>\n",
       "      <td>3</td>\n",
       "      <td>Steven Adams\\adamsst01</td>\n",
       "      <td>20.6</td>\n",
       "      <td>0.630</td>\n",
       "      <td>0.003</td>\n",
       "      <td>0.402</td>\n",
       "      <td>5.5</td>\n",
       "      <td>1.8</td>\n",
       "      <td>2.8</td>\n",
       "      <td>13.2</td>\n",
       "      <td>16.7</td>\n",
       "      <td>9.7</td>\n",
       "      <td>0.187</td>\n",
       "      <td>3.3</td>\n",
       "      <td>3.3</td>\n",
       "    </tr>\n",
       "    <tr>\n",
       "      <th>3</th>\n",
       "      <td>4</td>\n",
       "      <td>Bam Adebayo\\adebaba01</td>\n",
       "      <td>15.7</td>\n",
       "      <td>0.570</td>\n",
       "      <td>0.021</td>\n",
       "      <td>0.526</td>\n",
       "      <td>11.0</td>\n",
       "      <td>1.2</td>\n",
       "      <td>2.5</td>\n",
       "      <td>13.6</td>\n",
       "      <td>15.9</td>\n",
       "      <td>4.2</td>\n",
       "      <td>0.148</td>\n",
       "      <td>0.2</td>\n",
       "      <td>0.8</td>\n",
       "    </tr>\n",
       "    <tr>\n",
       "      <th>4</th>\n",
       "      <td>5</td>\n",
       "      <td>Arron Afflalo\\afflaar01</td>\n",
       "      <td>5.8</td>\n",
       "      <td>0.516</td>\n",
       "      <td>0.432</td>\n",
       "      <td>0.160</td>\n",
       "      <td>6.2</td>\n",
       "      <td>0.3</td>\n",
       "      <td>1.1</td>\n",
       "      <td>10.8</td>\n",
       "      <td>12.5</td>\n",
       "      <td>0.1</td>\n",
       "      <td>0.009</td>\n",
       "      <td>-5.8</td>\n",
       "      <td>-0.7</td>\n",
       "    </tr>\n",
       "  </tbody>\n",
       "</table>\n",
       "</div>"
      ],
      "text/plain": [
       "   Rk                   Player   PER    TS%   3PAr    FTr  AST%  STL%  BLK%  \\\n",
       "0   1   Alex Abrines\\abrinal01   9.0  0.567  0.759  0.158   3.4   1.7   0.6   \n",
       "1   2       Quincy Acy\\acyqu01   8.2  0.525  0.800  0.164   6.0   1.2   1.6   \n",
       "2   3   Steven Adams\\adamsst01  20.6  0.630  0.003  0.402   5.5   1.8   2.8   \n",
       "3   4    Bam Adebayo\\adebaba01  15.7  0.570  0.021  0.526  11.0   1.2   2.5   \n",
       "4   5  Arron Afflalo\\afflaar01   5.8  0.516  0.432  0.160   6.2   0.3   1.1   \n",
       "\n",
       "   TOV%  USG%   WS  WS/48  BPM  VORP  \n",
       "0   7.4  12.7  2.2  0.094 -2.2  -0.1  \n",
       "1  13.3  14.4  1.0  0.036 -2.2  -0.1  \n",
       "2  13.2  16.7  9.7  0.187  3.3   3.3  \n",
       "3  13.6  15.9  4.2  0.148  0.2   0.8  \n",
       "4  10.8  12.5  0.1  0.009 -5.8  -0.7  "
      ]
     },
     "execution_count": 485,
     "metadata": {},
     "output_type": "execute_result"
    }
   ],
   "source": [
    "df_adv.head()"
   ]
  },
  {
   "cell_type": "code",
   "execution_count": 489,
   "metadata": {},
   "outputs": [
    {
     "data": {
      "text/html": [
       "<div>\n",
       "<style scoped>\n",
       "    .dataframe tbody tr th:only-of-type {\n",
       "        vertical-align: middle;\n",
       "    }\n",
       "\n",
       "    .dataframe tbody tr th {\n",
       "        vertical-align: top;\n",
       "    }\n",
       "\n",
       "    .dataframe thead th {\n",
       "        text-align: right;\n",
       "    }\n",
       "</style>\n",
       "<table border=\"1\" class=\"dataframe\">\n",
       "  <thead>\n",
       "    <tr style=\"text-align: right;\">\n",
       "      <th></th>\n",
       "      <th>Player</th>\n",
       "      <th>Rk_x</th>\n",
       "      <th>Pos</th>\n",
       "      <th>Age</th>\n",
       "      <th>Tm</th>\n",
       "      <th>G</th>\n",
       "      <th>GS</th>\n",
       "      <th>MP</th>\n",
       "      <th>FG</th>\n",
       "      <th>FGA</th>\n",
       "      <th>...</th>\n",
       "      <th>FTr_y</th>\n",
       "      <th>AST%_y</th>\n",
       "      <th>STL%_y</th>\n",
       "      <th>BLK%_y</th>\n",
       "      <th>TOV%_y</th>\n",
       "      <th>USG%_y</th>\n",
       "      <th>WS_y</th>\n",
       "      <th>WS/48_y</th>\n",
       "      <th>BPM_y</th>\n",
       "      <th>VORP_y</th>\n",
       "    </tr>\n",
       "  </thead>\n",
       "  <tbody>\n",
       "    <tr>\n",
       "      <th>0</th>\n",
       "      <td>Chris Paul\\paulch01</td>\n",
       "      <td>396</td>\n",
       "      <td>PG</td>\n",
       "      <td>32.0</td>\n",
       "      <td>HOU</td>\n",
       "      <td>58.0</td>\n",
       "      <td>58.0</td>\n",
       "      <td>31.8</td>\n",
       "      <td>6.3</td>\n",
       "      <td>13.8</td>\n",
       "      <td>...</td>\n",
       "      <td>0.277</td>\n",
       "      <td>40.9</td>\n",
       "      <td>2.6</td>\n",
       "      <td>0.6</td>\n",
       "      <td>12.5</td>\n",
       "      <td>24.5</td>\n",
       "      <td>10.2</td>\n",
       "      <td>0.265</td>\n",
       "      <td>7.1</td>\n",
       "      <td>4.3</td>\n",
       "    </tr>\n",
       "    <tr>\n",
       "      <th>1</th>\n",
       "      <td>Cory Joseph\\josepco01</td>\n",
       "      <td>269</td>\n",
       "      <td>PG</td>\n",
       "      <td>26.0</td>\n",
       "      <td>IND</td>\n",
       "      <td>82.0</td>\n",
       "      <td>17.0</td>\n",
       "      <td>27.0</td>\n",
       "      <td>3.1</td>\n",
       "      <td>7.4</td>\n",
       "      <td>...</td>\n",
       "      <td>0.156</td>\n",
       "      <td>16.1</td>\n",
       "      <td>1.8</td>\n",
       "      <td>0.7</td>\n",
       "      <td>11.9</td>\n",
       "      <td>14.8</td>\n",
       "      <td>3.1</td>\n",
       "      <td>0.068</td>\n",
       "      <td>-1.2</td>\n",
       "      <td>0.5</td>\n",
       "    </tr>\n",
       "    <tr>\n",
       "      <th>2</th>\n",
       "      <td>D.J. Augustin\\augusdj01</td>\n",
       "      <td>24</td>\n",
       "      <td>PG</td>\n",
       "      <td>30.0</td>\n",
       "      <td>ORL</td>\n",
       "      <td>75.0</td>\n",
       "      <td>36.0</td>\n",
       "      <td>23.5</td>\n",
       "      <td>3.3</td>\n",
       "      <td>7.2</td>\n",
       "      <td>...</td>\n",
       "      <td>0.350</td>\n",
       "      <td>24.4</td>\n",
       "      <td>1.5</td>\n",
       "      <td>0.0</td>\n",
       "      <td>16.5</td>\n",
       "      <td>18.6</td>\n",
       "      <td>4.1</td>\n",
       "      <td>0.110</td>\n",
       "      <td>-0.9</td>\n",
       "      <td>0.5</td>\n",
       "    </tr>\n",
       "    <tr>\n",
       "      <th>3</th>\n",
       "      <td>Damian Lillard\\lillada01</td>\n",
       "      <td>298</td>\n",
       "      <td>PG</td>\n",
       "      <td>27.0</td>\n",
       "      <td>POR</td>\n",
       "      <td>73.0</td>\n",
       "      <td>73.0</td>\n",
       "      <td>36.6</td>\n",
       "      <td>8.5</td>\n",
       "      <td>19.4</td>\n",
       "      <td>...</td>\n",
       "      <td>0.380</td>\n",
       "      <td>30.9</td>\n",
       "      <td>1.4</td>\n",
       "      <td>0.8</td>\n",
       "      <td>11.1</td>\n",
       "      <td>30.6</td>\n",
       "      <td>12.6</td>\n",
       "      <td>0.227</td>\n",
       "      <td>6.7</td>\n",
       "      <td>5.9</td>\n",
       "    </tr>\n",
       "    <tr>\n",
       "      <th>4</th>\n",
       "      <td>Dante Exum\\exumda01</td>\n",
       "      <td>153</td>\n",
       "      <td>PG</td>\n",
       "      <td>22.0</td>\n",
       "      <td>UTA</td>\n",
       "      <td>14.0</td>\n",
       "      <td>0.0</td>\n",
       "      <td>16.8</td>\n",
       "      <td>3.0</td>\n",
       "      <td>6.2</td>\n",
       "      <td>...</td>\n",
       "      <td>0.356</td>\n",
       "      <td>29.7</td>\n",
       "      <td>1.7</td>\n",
       "      <td>1.1</td>\n",
       "      <td>16.6</td>\n",
       "      <td>23.1</td>\n",
       "      <td>0.7</td>\n",
       "      <td>0.133</td>\n",
       "      <td>-1.2</td>\n",
       "      <td>0.0</td>\n",
       "    </tr>\n",
       "  </tbody>\n",
       "</table>\n",
       "<p>5 rows × 64 columns</p>\n",
       "</div>"
      ],
      "text/plain": [
       "                     Player  Rk_x Pos   Age   Tm     G    GS    MP   FG   FGA  \\\n",
       "0       Chris Paul\\paulch01   396  PG  32.0  HOU  58.0  58.0  31.8  6.3  13.8   \n",
       "1     Cory Joseph\\josepco01   269  PG  26.0  IND  82.0  17.0  27.0  3.1   7.4   \n",
       "2   D.J. Augustin\\augusdj01    24  PG  30.0  ORL  75.0  36.0  23.5  3.3   7.2   \n",
       "3  Damian Lillard\\lillada01   298  PG  27.0  POR  73.0  73.0  36.6  8.5  19.4   \n",
       "4       Dante Exum\\exumda01   153  PG  22.0  UTA  14.0   0.0  16.8  3.0   6.2   \n",
       "\n",
       "    ...    FTr_y  AST%_y  STL%_y  BLK%_y  TOV%_y  USG%_y  WS_y  WS/48_y  \\\n",
       "0   ...    0.277    40.9     2.6     0.6    12.5    24.5  10.2    0.265   \n",
       "1   ...    0.156    16.1     1.8     0.7    11.9    14.8   3.1    0.068   \n",
       "2   ...    0.350    24.4     1.5     0.0    16.5    18.6   4.1    0.110   \n",
       "3   ...    0.380    30.9     1.4     0.8    11.1    30.6  12.6    0.227   \n",
       "4   ...    0.356    29.7     1.7     1.1    16.6    23.1   0.7    0.133   \n",
       "\n",
       "   BPM_y  VORP_y  \n",
       "0    7.1     4.3  \n",
       "1   -1.2     0.5  \n",
       "2   -0.9     0.5  \n",
       "3    6.7     5.9  \n",
       "4   -1.2     0.0  \n",
       "\n",
       "[5 rows x 64 columns]"
      ]
     },
     "execution_count": 489,
     "metadata": {},
     "output_type": "execute_result"
    }
   ],
   "source": [
    "df_g.head()"
   ]
  },
  {
   "cell_type": "code",
   "execution_count": 490,
   "metadata": {},
   "outputs": [],
   "source": [
    "#Merge the advanced stats\n",
    "\n",
    "df_g = pd.merge(df_g, df_adv, left_on ='Player', right_on = 'Player', how = 'left')\n",
    "df_f = pd.merge(df_f, df_adv, left_on ='Player', right_on = 'Player', how = 'left')\n",
    "df_c = pd.merge(df_c, df_adv, left_on ='Player', right_on = 'Player', how = 'left')"
   ]
  },
  {
   "cell_type": "code",
   "execution_count": 491,
   "metadata": {},
   "outputs": [
    {
     "data": {
      "text/html": [
       "<div>\n",
       "<style scoped>\n",
       "    .dataframe tbody tr th:only-of-type {\n",
       "        vertical-align: middle;\n",
       "    }\n",
       "\n",
       "    .dataframe tbody tr th {\n",
       "        vertical-align: top;\n",
       "    }\n",
       "\n",
       "    .dataframe thead th {\n",
       "        text-align: right;\n",
       "    }\n",
       "</style>\n",
       "<table border=\"1\" class=\"dataframe\">\n",
       "  <thead>\n",
       "    <tr style=\"text-align: right;\">\n",
       "      <th></th>\n",
       "      <th>Player</th>\n",
       "      <th>Rk_x</th>\n",
       "      <th>Pos</th>\n",
       "      <th>Age</th>\n",
       "      <th>Tm</th>\n",
       "      <th>G</th>\n",
       "      <th>GS</th>\n",
       "      <th>MP</th>\n",
       "      <th>FG</th>\n",
       "      <th>FGA</th>\n",
       "      <th>...</th>\n",
       "      <th>FTr_y</th>\n",
       "      <th>AST%_y</th>\n",
       "      <th>STL%_y</th>\n",
       "      <th>BLK%_y</th>\n",
       "      <th>TOV%_y</th>\n",
       "      <th>USG%_y</th>\n",
       "      <th>WS_y</th>\n",
       "      <th>WS/48_y</th>\n",
       "      <th>BPM_y</th>\n",
       "      <th>VORP_y</th>\n",
       "    </tr>\n",
       "  </thead>\n",
       "  <tbody>\n",
       "    <tr>\n",
       "      <th>0</th>\n",
       "      <td>Al Horford\\horfoal01</td>\n",
       "      <td>227</td>\n",
       "      <td>C</td>\n",
       "      <td>31.0</td>\n",
       "      <td>BOS</td>\n",
       "      <td>72.0</td>\n",
       "      <td>72.0</td>\n",
       "      <td>31.6</td>\n",
       "      <td>5.1</td>\n",
       "      <td>10.5</td>\n",
       "      <td>...</td>\n",
       "      <td>0.159</td>\n",
       "      <td>23.6</td>\n",
       "      <td>0.9</td>\n",
       "      <td>2.9</td>\n",
       "      <td>14.1</td>\n",
       "      <td>18.4</td>\n",
       "      <td>7.8</td>\n",
       "      <td>0.165</td>\n",
       "      <td>4.0</td>\n",
       "      <td>3.5</td>\n",
       "    </tr>\n",
       "    <tr>\n",
       "      <th>1</th>\n",
       "      <td>Al Jefferson\\jeffeal01</td>\n",
       "      <td>250</td>\n",
       "      <td>C</td>\n",
       "      <td>33.0</td>\n",
       "      <td>IND</td>\n",
       "      <td>36.0</td>\n",
       "      <td>1.0</td>\n",
       "      <td>13.4</td>\n",
       "      <td>3.1</td>\n",
       "      <td>5.8</td>\n",
       "      <td>...</td>\n",
       "      <td>0.173</td>\n",
       "      <td>10.0</td>\n",
       "      <td>1.7</td>\n",
       "      <td>4.2</td>\n",
       "      <td>8.6</td>\n",
       "      <td>22.5</td>\n",
       "      <td>1.6</td>\n",
       "      <td>0.158</td>\n",
       "      <td>-0.5</td>\n",
       "      <td>0.2</td>\n",
       "    </tr>\n",
       "    <tr>\n",
       "      <th>2</th>\n",
       "      <td>Alex Len\\lenal01</td>\n",
       "      <td>292</td>\n",
       "      <td>C</td>\n",
       "      <td>24.0</td>\n",
       "      <td>PHO</td>\n",
       "      <td>69.0</td>\n",
       "      <td>13.0</td>\n",
       "      <td>20.2</td>\n",
       "      <td>3.1</td>\n",
       "      <td>5.5</td>\n",
       "      <td>...</td>\n",
       "      <td>0.611</td>\n",
       "      <td>9.1</td>\n",
       "      <td>0.9</td>\n",
       "      <td>3.5</td>\n",
       "      <td>14.0</td>\n",
       "      <td>17.0</td>\n",
       "      <td>4.5</td>\n",
       "      <td>0.154</td>\n",
       "      <td>0.8</td>\n",
       "      <td>1.0</td>\n",
       "    </tr>\n",
       "    <tr>\n",
       "      <th>3</th>\n",
       "      <td>Amir Johnson\\johnsam01</td>\n",
       "      <td>254</td>\n",
       "      <td>C</td>\n",
       "      <td>30.0</td>\n",
       "      <td>PHI</td>\n",
       "      <td>74.0</td>\n",
       "      <td>18.0</td>\n",
       "      <td>15.8</td>\n",
       "      <td>1.9</td>\n",
       "      <td>3.5</td>\n",
       "      <td>...</td>\n",
       "      <td>0.327</td>\n",
       "      <td>13.9</td>\n",
       "      <td>1.8</td>\n",
       "      <td>3.1</td>\n",
       "      <td>15.6</td>\n",
       "      <td>12.8</td>\n",
       "      <td>4.1</td>\n",
       "      <td>0.169</td>\n",
       "      <td>2.9</td>\n",
       "      <td>1.5</td>\n",
       "    </tr>\n",
       "    <tr>\n",
       "      <th>4</th>\n",
       "      <td>Andre Drummond\\drumman01</td>\n",
       "      <td>140</td>\n",
       "      <td>C</td>\n",
       "      <td>24.0</td>\n",
       "      <td>DET</td>\n",
       "      <td>78.0</td>\n",
       "      <td>78.0</td>\n",
       "      <td>33.7</td>\n",
       "      <td>6.0</td>\n",
       "      <td>11.3</td>\n",
       "      <td>...</td>\n",
       "      <td>0.448</td>\n",
       "      <td>14.3</td>\n",
       "      <td>2.2</td>\n",
       "      <td>4.3</td>\n",
       "      <td>15.9</td>\n",
       "      <td>21.2</td>\n",
       "      <td>10.3</td>\n",
       "      <td>0.189</td>\n",
       "      <td>5.5</td>\n",
       "      <td>5.0</td>\n",
       "    </tr>\n",
       "  </tbody>\n",
       "</table>\n",
       "<p>5 rows × 64 columns</p>\n",
       "</div>"
      ],
      "text/plain": [
       "                     Player  Rk_x Pos   Age   Tm     G    GS    MP   FG   FGA  \\\n",
       "0      Al Horford\\horfoal01   227   C  31.0  BOS  72.0  72.0  31.6  5.1  10.5   \n",
       "1    Al Jefferson\\jeffeal01   250   C  33.0  IND  36.0   1.0  13.4  3.1   5.8   \n",
       "2          Alex Len\\lenal01   292   C  24.0  PHO  69.0  13.0  20.2  3.1   5.5   \n",
       "3    Amir Johnson\\johnsam01   254   C  30.0  PHI  74.0  18.0  15.8  1.9   3.5   \n",
       "4  Andre Drummond\\drumman01   140   C  24.0  DET  78.0  78.0  33.7  6.0  11.3   \n",
       "\n",
       "    ...    FTr_y  AST%_y  STL%_y  BLK%_y  TOV%_y  USG%_y  WS_y  WS/48_y  \\\n",
       "0   ...    0.159    23.6     0.9     2.9    14.1    18.4   7.8    0.165   \n",
       "1   ...    0.173    10.0     1.7     4.2     8.6    22.5   1.6    0.158   \n",
       "2   ...    0.611     9.1     0.9     3.5    14.0    17.0   4.5    0.154   \n",
       "3   ...    0.327    13.9     1.8     3.1    15.6    12.8   4.1    0.169   \n",
       "4   ...    0.448    14.3     2.2     4.3    15.9    21.2  10.3    0.189   \n",
       "\n",
       "   BPM_y  VORP_y  \n",
       "0    4.0     3.5  \n",
       "1   -0.5     0.2  \n",
       "2    0.8     1.0  \n",
       "3    2.9     1.5  \n",
       "4    5.5     5.0  \n",
       "\n",
       "[5 rows x 64 columns]"
      ]
     },
     "execution_count": 491,
     "metadata": {},
     "output_type": "execute_result"
    }
   ],
   "source": [
    "df_c.head()"
   ]
  },
  {
   "cell_type": "code",
   "execution_count": 492,
   "metadata": {},
   "outputs": [],
   "source": [
    "from sklearn.model_selection import train_test_split\n",
    "lm = linear_model.LinearRegression()"
   ]
  },
  {
   "cell_type": "code",
   "execution_count": 493,
   "metadata": {},
   "outputs": [
    {
     "data": {
      "text/plain": [
       "['Player',\n",
       " 'Rk_x',\n",
       " 'Pos',\n",
       " 'Age',\n",
       " 'Tm',\n",
       " 'G',\n",
       " 'GS',\n",
       " 'MP',\n",
       " 'FG',\n",
       " 'FGA',\n",
       " 'FG%',\n",
       " '3P',\n",
       " '3PA',\n",
       " '3P%',\n",
       " '2P',\n",
       " '2PA',\n",
       " '2P%',\n",
       " 'eFG%',\n",
       " 'FT',\n",
       " 'FTA',\n",
       " 'FT%',\n",
       " 'ORB',\n",
       " 'DRB',\n",
       " 'TRB',\n",
       " 'AST',\n",
       " 'STL',\n",
       " 'BLK',\n",
       " 'TOV',\n",
       " 'PF',\n",
       " 'PS/G',\n",
       " 'Rk_2',\n",
       " 'Tm_2',\n",
       " '2018-19',\n",
       " 'zscore_FG%',\n",
       " 'zscore_3P%',\n",
       " 'Rk_y',\n",
       " 'PER_x',\n",
       " 'TS%_x',\n",
       " '3PAr_x',\n",
       " 'FTr_x',\n",
       " 'AST%_x',\n",
       " 'STL%_x',\n",
       " 'BLK%_x',\n",
       " 'TOV%_x',\n",
       " 'USG%_x',\n",
       " 'WS_x',\n",
       " 'WS/48_x',\n",
       " 'BPM_x',\n",
       " 'VORP_x',\n",
       " 'zscore_PPG',\n",
       " 'Rk_x',\n",
       " 'PER_y',\n",
       " 'TS%_y',\n",
       " '3PAr_y',\n",
       " 'FTr_y',\n",
       " 'AST%_y',\n",
       " 'STL%_y',\n",
       " 'BLK%_y',\n",
       " 'TOV%_y',\n",
       " 'USG%_y',\n",
       " 'WS_y',\n",
       " 'WS/48_y',\n",
       " 'BPM_y',\n",
       " 'VORP_y',\n",
       " 'Rk_y',\n",
       " 'PER',\n",
       " 'TS%',\n",
       " '3PAr',\n",
       " 'FTr',\n",
       " 'AST%',\n",
       " 'STL%',\n",
       " 'BLK%',\n",
       " 'TOV%',\n",
       " 'USG%',\n",
       " 'WS',\n",
       " 'WS/48',\n",
       " 'BPM',\n",
       " 'VORP']"
      ]
     },
     "execution_count": 493,
     "metadata": {},
     "output_type": "execute_result"
    }
   ],
   "source": [
    "list(df_g.columns.values)"
   ]
  },
  {
   "cell_type": "markdown",
   "metadata": {},
   "source": [
    "## Linear Regression ##"
   ]
  },
  {
   "cell_type": "markdown",
   "metadata": {},
   "source": [
    "### Linear Regression for Guards ###"
   ]
  },
  {
   "cell_type": "code",
   "execution_count": 494,
   "metadata": {},
   "outputs": [
    {
     "name": "stdout",
     "output_type": "stream",
     "text": [
      "[  432038.34220447   886452.77351222  2140116.20723071   776926.27393328\n",
      "   275649.11015892 -1300075.73396038]\n",
      "-2012446.7069338765\n"
     ]
    }
   ],
   "source": [
    "#Perform linear regression for each positions\n",
    "\n",
    "f= ['3P','AST','STL','PS/G','BPM','TOV']\n",
    "X = df_g[f]\n",
    "Y= df_g['2018-19']\n",
    "model = lm.fit(X,Y)\n",
    "print(model.coef_)\n",
    "print(model.intercept_)"
   ]
  },
  {
   "cell_type": "markdown",
   "metadata": {},
   "source": [
    "The formula for Guard salary is given by:\n",
    "\n",
    "***Guard Salary*** = 0.44 * ***3P*** + 0.89 * ***AST*** + 2.1 * ***STL*** + 0.77 * ***PPG*** + .28 * ***BPM*** - 1.3 * ***TOV***- 2.1"
   ]
  },
  {
   "cell_type": "markdown",
   "metadata": {},
   "source": [
    "### Linear Regression for Forwards ###"
   ]
  },
  {
   "cell_type": "code",
   "execution_count": 495,
   "metadata": {},
   "outputs": [
    {
     "name": "stdout",
     "output_type": "stream",
     "text": [
      "[ 5312749.11864885    60102.72534906  1005830.53383841  2062096.15767864\n",
      " -1614964.91614739]\n",
      "13607730.432828384\n"
     ]
    }
   ],
   "source": [
    "f= ['zscore_PPG','DRB','STL','BLK','PF']\n",
    "X = df_f[f]\n",
    "Y= df_f['2018-19']\n",
    "model = lm.fit(X,Y)\n",
    "print(model.coef_)\n",
    "print(model.intercept_)"
   ]
  },
  {
   "cell_type": "markdown",
   "metadata": {},
   "source": [
    "The formula for Forward salary is given by:\n",
    "\n",
    "***Forward Salary*** = 5.3 * ***z_score_PPG*** + 0.60 * ***DRB*** + 1.0 * ***STL*** + 2.1 * ***BLK*** - 1.6 * ***PF*** + 13.6"
   ]
  },
  {
   "cell_type": "markdown",
   "metadata": {},
   "source": [
    "### Linear Regression for Centers ###"
   ]
  },
  {
   "cell_type": "code",
   "execution_count": 496,
   "metadata": {},
   "outputs": [
    {
     "name": "stdout",
     "output_type": "stream",
     "text": [
      "[  401417.15508358  1311366.468154    1478763.74325252 19071247.63496706\n",
      " -6106470.60691408]\n",
      "1068102.4043343589\n"
     ]
    }
   ],
   "source": [
    "f= ['PS/G','TRB','BLK','FG%','PF']\n",
    "X = df_c[f]\n",
    "Y= df_c['2018-19']\n",
    "model = lm.fit(X,Y)\n",
    "print(model.coef_)\n",
    "print(model.intercept_)"
   ]
  },
  {
   "cell_type": "markdown",
   "metadata": {},
   "source": [
    "The formula for Center salary is given by:\n",
    "\n",
    "***Center Salary*** = 0.4 * ***PPG*** + 1.3 * ***TRB*** + 1.5 * ***BLK*** + 19.1 * ***FG%*** - 6.1 * ***PF*** + 1.07"
   ]
  },
  {
   "cell_type": "markdown",
   "metadata": {},
   "source": [
    "# Final Results #"
   ]
  },
  {
   "cell_type": "markdown",
   "metadata": {},
   "source": [
    "The results of the linear regression were formulas that are used to find a contract value for a player in the NBA based on his statistics for that category. Since there are three major positions in the NBA (guard, forward, and center), there are three formulas: \n",
    "\n",
    "## Guard Contract Value Model ##\n",
    "\n",
    "***Guard Salary*** = 0.44 * ***3P*** + 0.89 * ***AST*** + 2.1 * ***STL*** + 0.77 * ***PPG*** + .28 * ***BPM*** - 1.3 * ***TOV***- 2.1\n",
    "\n",
    "## Forward Contract Value Model ##\n",
    "\n",
    "***Forward Salary*** = 5.3 * ***z_score_PPG*** + 0.60 * ***DRB*** + 1.0 * ***STL*** + 2.1 * ***BLK*** - 1.6 * ***PF*** + 13.6\n",
    "\n",
    "## Center Contract Value Model ##\n",
    "\n",
    "***Center Salary*** = 0.4 * ***PPG*** + 1.3 * ***TRB*** + 1.5 * ***BLK*** + 19.1 * ***FG%*** - 6.1 * ***PF*** + 1.07"
   ]
  },
  {
   "cell_type": "code",
   "execution_count": null,
   "metadata": {},
   "outputs": [],
   "source": []
  }
 ],
 "metadata": {
  "kernelspec": {
   "display_name": "Python 3",
   "language": "python",
   "name": "python3"
  },
  "language_info": {
   "codemirror_mode": {
    "name": "ipython",
    "version": 3
   },
   "file_extension": ".py",
   "mimetype": "text/x-python",
   "name": "python",
   "nbconvert_exporter": "python",
   "pygments_lexer": "ipython3",
   "version": "3.6.4"
  }
 },
 "nbformat": 4,
 "nbformat_minor": 2
}
